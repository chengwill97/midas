{
 "cells": [
  {
   "cell_type": "markdown",
   "metadata": {
    "ExecuteTime": {
     "end_time": "2017-01-21T12:14:36.768023",
     "start_time": "2017-01-21T12:14:36.765754"
    }
   },
   "source": [
    "# Dask Leaflet Finder"
   ]
  },
  {
   "cell_type": "code",
   "execution_count": 1,
   "metadata": {
    "ExecuteTime": {
     "end_time": "2017-02-25T15:01:30.312285",
     "start_time": "2017-02-25T15:01:01.373830"
    },
    "collapsed": false,
    "init_cell": true,
    "run_control": {
     "frozen": false,
     "read_only": false
    }
   },
   "outputs": [
    {
     "name": "stderr",
     "output_type": "stream",
     "text": [
      "/Users/q224516/anaconda2/lib/python2.7/site-packages/matplotlib/font_manager.py:280: UserWarning: Matplotlib is building the font cache using fc-list. This may take a moment.\n",
      "  'Matplotlib is building the font cache using fc-list. '\n"
     ]
    },
    {
     "ename": "RuntimeError",
     "evalue": "Drawing dask graphs requires the `graphviz` python library and the `graphviz` system library to be installed.",
     "output_type": "error",
     "traceback": [
      "\u001b[0;31m---------------------------------------------------------------------------\u001b[0m",
      "\u001b[0;31mRuntimeError\u001b[0m                              Traceback (most recent call last)",
      "\u001b[0;32m<ipython-input-1-e6e316dda1e6>\u001b[0m in \u001b[0;36m<module>\u001b[0;34m()\u001b[0m\n\u001b[1;32m     12\u001b[0m \u001b[0;32mfrom\u001b[0m \u001b[0mdask\u001b[0m\u001b[0;34m.\u001b[0m\u001b[0mdiagnostics\u001b[0m \u001b[0;32mimport\u001b[0m \u001b[0mProgressBar\u001b[0m\u001b[0;34m\u001b[0m\u001b[0m\n\u001b[1;32m     13\u001b[0m \u001b[0;32mfrom\u001b[0m \u001b[0mdask\u001b[0m\u001b[0;34m.\u001b[0m\u001b[0mdiagnostics\u001b[0m \u001b[0;32mimport\u001b[0m \u001b[0mResourceProfiler\u001b[0m\u001b[0;34m\u001b[0m\u001b[0m\n\u001b[0;32m---> 14\u001b[0;31m \u001b[0;32mfrom\u001b[0m \u001b[0mdask\u001b[0m\u001b[0;34m.\u001b[0m\u001b[0mdot\u001b[0m \u001b[0;32mimport\u001b[0m \u001b[0mdot_graph\u001b[0m\u001b[0;34m\u001b[0m\u001b[0m\n\u001b[0m\u001b[1;32m     15\u001b[0m \u001b[0;32mfrom\u001b[0m \u001b[0mdask\u001b[0m\u001b[0;34m.\u001b[0m\u001b[0marray\u001b[0m\u001b[0;34m.\u001b[0m\u001b[0mcore\u001b[0m \u001b[0;32mimport\u001b[0m \u001b[0mmap_blocks\u001b[0m\u001b[0;34m\u001b[0m\u001b[0m\n\u001b[1;32m     16\u001b[0m \u001b[0;32mimport\u001b[0m \u001b[0mdask\u001b[0m\u001b[0;34m.\u001b[0m\u001b[0mbag\u001b[0m \u001b[0;32mas\u001b[0m \u001b[0mdb\u001b[0m\u001b[0;34m\u001b[0m\u001b[0m\n",
      "\u001b[0;32m/Users/q224516/anaconda2/lib/python2.7/site-packages/dask/dot.py\u001b[0m in \u001b[0;36m<module>\u001b[0;34m()\u001b[0m\n\u001b[1;32m      9\u001b[0m \u001b[0;34m\u001b[0m\u001b[0m\n\u001b[1;32m     10\u001b[0m \u001b[0;34m\u001b[0m\u001b[0m\n\u001b[0;32m---> 11\u001b[0;31m graphviz = import_required(\"graphviz\", \"Drawing dask graphs requires the \"\n\u001b[0m\u001b[1;32m     12\u001b[0m                                        \u001b[0;34m\"`graphviz` python library and the \"\u001b[0m\u001b[0;34m\u001b[0m\u001b[0m\n\u001b[1;32m     13\u001b[0m                                        \u001b[0;34m\"`graphviz` system library to be \"\u001b[0m\u001b[0;34m\u001b[0m\u001b[0m\n",
      "\u001b[0;32m/Users/q224516/anaconda2/lib/python2.7/site-packages/dask/utils.pyc\u001b[0m in \u001b[0;36mimport_required\u001b[0;34m(mod_name, error_msg)\u001b[0m\n\u001b[1;32m     63\u001b[0m         \u001b[0;32mreturn\u001b[0m \u001b[0mimport_module\u001b[0m\u001b[0;34m(\u001b[0m\u001b[0mmod_name\u001b[0m\u001b[0;34m)\u001b[0m\u001b[0;34m\u001b[0m\u001b[0m\n\u001b[1;32m     64\u001b[0m     \u001b[0;32mexcept\u001b[0m \u001b[0mImportError\u001b[0m\u001b[0;34m:\u001b[0m\u001b[0;34m\u001b[0m\u001b[0m\n\u001b[0;32m---> 65\u001b[0;31m         \u001b[0;32mraise\u001b[0m \u001b[0mRuntimeError\u001b[0m\u001b[0;34m(\u001b[0m\u001b[0merror_msg\u001b[0m\u001b[0;34m)\u001b[0m\u001b[0;34m\u001b[0m\u001b[0m\n\u001b[0m\u001b[1;32m     66\u001b[0m \u001b[0;34m\u001b[0m\u001b[0m\n\u001b[1;32m     67\u001b[0m \u001b[0;34m\u001b[0m\u001b[0m\n",
      "\u001b[0;31mRuntimeError\u001b[0m: Drawing dask graphs requires the `graphviz` python library and the `graphviz` system library to be installed."
     ]
    }
   ],
   "source": [
    "%matplotlib inline\n",
    "import sys\n",
    "import numpy as np\n",
    "import random\n",
    "import os, time, sys, datetime\n",
    "import sklearn.metrics.pairwise\n",
    "import scipy.spatial.distance\n",
    "from scipy.spatial.distance import cdist\n",
    "import dask\n",
    "import dask.array as da\n",
    "import dask.multiprocessing\n",
    "from dask.diagnostics import ProgressBar\n",
    "from dask.diagnostics import ResourceProfiler\n",
    "from dask.dot import dot_graph\n",
    "from dask.array.core import map_blocks\n",
    "import dask.bag as db\n",
    "import dask.dataframe as df\n",
    "import random\n",
    "import logging\n",
    "logging.basicConfig(stream=sys.stdout, level=logging.CRITICAL)\n",
    "from chest import Chest\n",
    "from random import shuffle\n",
    "\n",
    "\n",
    "#from multiprocessing.pool import ThreadPool\n",
    "RESULT_DIR=\"results\"\n",
    "RESULT_FILE_PREFIX=\"pair-distance-\"\n",
    "HEADER_CSV=\"Scenario, Type, Time\"\n",
    "#BASE_DIRECTORY=os.getcwd()\n",
    "# Dask has issues with NFS home directory on Comet\n",
    "# BASE_DIRECTORY='/scratch/luckow/7146882'\n",
    "BASE_DIRECTORY='/oasis/scratch/comet/luckow/temp_project'\n",
    "#BASE_DIRECTORY='/scratch/luckow/7218009/'\n",
    "OUT_DIR=os.path.join(BASE_DIRECTORY, \"npy_stack\")\n",
    "RESULT_DIR=os.path.join(BASE_DIRECTORY, \"results\")\n",
    "\n",
    "FILENAMES=[\"../132k_dataset/atom_pos_132K.npy\", \"../145K_dataset/atom_pos_145K.npy\", \n",
    "          \"../300K_dataset/atom_pos_291K.npy\", '../840K_dataset/atom_pos_839K.npy']\n",
    "\n",
    "scenario = FILENAMES[0]"
   ]
  },
  {
   "cell_type": "markdown",
   "metadata": {
    "ExecuteTime": {
     "end_time": "2017-01-21T11:01:31.928455",
     "start_time": "2017-01-21T11:01:31.925593"
    }
   },
   "source": [
    "## Dense Distance Array"
   ]
  },
  {
   "cell_type": "code",
   "execution_count": null,
   "metadata": {
    "ExecuteTime": {
     "end_time": "2017-02-25T15:01:30.313361",
     "start_time": "2017-02-25T14:01:01.374Z"
    },
    "collapsed": false,
    "init_cell": true,
    "run_control": {
     "frozen": false,
     "read_only": false
    }
   },
   "outputs": [],
   "source": [
    "%%time\n",
    "\n",
    "\"\"\"Make sure point_array points to correct dataset\"\"\"\n",
    "global point_array\n",
    "global cutoff\n",
    "\n",
    "cutoff=15.0\n",
    "\n",
    "\n",
    "def map_block_distance(block,  block_id=None):\n",
    "    isCompute = block_id[1]>=block_id[0] and block.shape != (1,1)# Bug ? \n",
    "                                         # Dask returns one block with shape (1,1) ID:(1, 1) Shape: (1, 1) Predicate: True Content: [[ 1.]]\n",
    "    block_length = block.shape[0]\n",
    "    logging.debug(\"ID:\" + str(block_id) + \" Shape: \" + str(block.shape) + \\\n",
    "          \" Predicate: \" + str(isCompute) + \" Content: \" + str(block) + \"\\n\")\n",
    "    if isCompute:\n",
    "        source_start = block_id[0]*block_length\n",
    "        source_end = (block_id[0]+1)*block_length\n",
    "        source_points = point_array[source_start:source_end]        \n",
    "        dest_start = block_id[1]*block_length\n",
    "        dest_end = (block_id[1]+1)*block_length\n",
    "        dest_points = point_array[dest_start:dest_end]  \n",
    "        logging.debug(\"Source Idx: %d - %d Dest. Idx: %d - %d\\n\"%(source_start, source_end, dest_start, dest_end))\n",
    "        #print \"Source Points: \" + str(source_points.compute())\n",
    "        #print \"Destination Points: \" + str(dest_points.compute())\n",
    "        distance = cdist(source_points, dest_points)\n",
    "        distances_bool = (distance < cutoff) & (distance > 0)\n",
    "        return distances_bool\n",
    "    else:\n",
    "        return np.zeros(block.shape)"
   ]
  },
  {
   "cell_type": "markdown",
   "metadata": {
    "ExecuteTime": {
     "end_time": "2017-01-16T09:39:24.821442",
     "start_time": "2017-01-16T09:39:24.819086"
    }
   },
   "source": [
    "### Testing Pairwise Distance using Dummy Data"
   ]
  },
  {
   "cell_type": "code",
   "execution_count": null,
   "metadata": {
    "ExecuteTime": {
     "end_time": "2017-02-25T15:01:30.313793",
     "start_time": "2017-02-25T14:01:01.375Z"
    },
    "collapsed": false,
    "init_cell": true,
    "run_control": {
     "frozen": false,
     "read_only": false
    }
   },
   "outputs": [],
   "source": [
    "number_points = 4\n",
    "points_np = np.arange(number_points*3).reshape(number_points,3)\n",
    "point_array = da.from_array(points_np, chunks=(2, 3))\n",
    "dist_matrix = da.zeros((number_points,number_points), chunks=(2,2))"
   ]
  },
  {
   "cell_type": "code",
   "execution_count": null,
   "metadata": {
    "ExecuteTime": {
     "end_time": "2017-01-23T19:04:02.162903",
     "start_time": "2017-01-23T19:04:02.158947"
    },
    "collapsed": false,
    "run_control": {
     "frozen": false,
     "read_only": false
    }
   },
   "outputs": [],
   "source": [
    "point_array.numblocks"
   ]
  },
  {
   "cell_type": "code",
   "execution_count": null,
   "metadata": {
    "ExecuteTime": {
     "end_time": "2017-01-23T19:04:02.414102",
     "start_time": "2017-01-23T19:04:02.408077"
    },
    "collapsed": false,
    "run_control": {
     "frozen": false,
     "read_only": false
    }
   },
   "outputs": [],
   "source": [
    "point_array.compute()"
   ]
  },
  {
   "cell_type": "code",
   "execution_count": null,
   "metadata": {
    "ExecuteTime": {
     "end_time": "2017-01-23T19:04:02.652127",
     "start_time": "2017-01-23T19:04:02.648384"
    },
    "collapsed": false,
    "run_control": {
     "frozen": false,
     "read_only": false
    }
   },
   "outputs": [],
   "source": [
    "dist_matrix.numblocks"
   ]
  },
  {
   "cell_type": "code",
   "execution_count": null,
   "metadata": {
    "ExecuteTime": {
     "end_time": "2017-01-23T19:04:02.875699",
     "start_time": "2017-01-23T19:04:02.872024"
    },
    "collapsed": false,
    "run_control": {
     "frozen": false,
     "read_only": false
    }
   },
   "outputs": [],
   "source": [
    "dist_matrix.chunks"
   ]
  },
  {
   "cell_type": "code",
   "execution_count": null,
   "metadata": {
    "ExecuteTime": {
     "end_time": "2017-01-23T19:04:03.221859",
     "start_time": "2017-01-23T19:04:03.215048"
    },
    "collapsed": false,
    "run_control": {
     "frozen": false,
     "read_only": false
    }
   },
   "outputs": [],
   "source": [
    "dist_matrix.compute()"
   ]
  },
  {
   "cell_type": "code",
   "execution_count": null,
   "metadata": {
    "ExecuteTime": {
     "end_time": "2017-01-23T19:04:03.480638",
     "start_time": "2017-01-23T19:04:03.474118"
    },
    "collapsed": false,
    "run_control": {
     "frozen": false,
     "read_only": false
    }
   },
   "outputs": [],
   "source": [
    "dist_res=dist_matrix.map_blocks(map_block_distance)"
   ]
  },
  {
   "cell_type": "code",
   "execution_count": null,
   "metadata": {
    "ExecuteTime": {
     "end_time": "2017-01-23T19:04:04.271573",
     "start_time": "2017-01-23T19:04:04.235520"
    },
    "collapsed": false,
    "run_control": {
     "frozen": false,
     "read_only": false
    }
   },
   "outputs": [],
   "source": [
    "distances = dist_res.compute()\n",
    "distances"
   ]
  },
  {
   "cell_type": "markdown",
   "metadata": {},
   "source": [
    "## 1-D Version with Sparse Output\n",
    "\n",
    "No persistence between NetworkX Connected Components and Pairwise Distance Required"
   ]
  },
  {
   "cell_type": "code",
   "execution_count": null,
   "metadata": {
    "ExecuteTime": {
     "end_time": "2017-01-23T19:02:40.036500",
     "start_time": "2017-01-23T19:02:40.031827"
    },
    "collapsed": false,
    "run_control": {
     "frozen": false,
     "read_only": false
    }
   },
   "outputs": [],
   "source": [
    "number_points = 4\n",
    "points_np = np.arange(number_points*3).reshape(number_points,3)\n",
    "point_array = da.from_array(points_np, chunks=(2, 3))\n",
    "dist_matrix = da.zeros((number_points,number_points), chunks=(2,4)) # in 2. dimension only 1 chunk\n",
    "print dist_matrix.chunks"
   ]
  },
  {
   "cell_type": "code",
   "execution_count": null,
   "metadata": {
    "ExecuteTime": {
     "end_time": "2017-02-25T15:01:30.314223",
     "start_time": "2017-02-25T14:01:01.376Z"
    },
    "collapsed": false,
    "init_cell": true,
    "run_control": {
     "frozen": false,
     "read_only": false
    }
   },
   "outputs": [],
   "source": [
    "\"\"\"Make sure point_array points to correct dataset\"\"\"\n",
    "global point_array\n",
    "global cutoff\n",
    "\n",
    "cutoff=15.0\n",
    "\n",
    "def map_blocks_1d_sparse(block, block_id):\n",
    "    #new_block = block[:, :, None]\n",
    "    \n",
    "    isCompute = block_id[1]>=block_id[0] and block.shape != (1,1)# Bug ? \n",
    "                                         # Dask returns one block with shape (1,1) ID:(1, 1) Shape: (1, 1) Predicate: True Content: [[ 1.]]\n",
    "    block_length = block.shape[0]\n",
    "    logging.debug(\"ID:\" + str(block_id) + \" Shape: \" + str(block.shape) + \\\n",
    "          \" Predicate: \" + str(isCompute) + \" Content: \" + str(block) + \"\\n\")\n",
    "    \n",
    "    source_start = block_id[0]*block_length\n",
    "    source_end = (block_id[0]+1)*block_length\n",
    "    source_points = point_array[source_start:source_end]        \n",
    "    dest_start = source_start\n",
    "    dest_end = block.shape[1]\n",
    "    dest_points = point_array[dest_start:dest_end]  \n",
    "    logging.debug(\"Source Idx: %d - %d Dest. Idx: %d - %d\\n\"%(source_start, source_end, dest_start, dest_end))\n",
    "    logging.debug(\"Source Points: \" + str(source_points.compute()))\n",
    "    logging.debug(\"Destination Points: \" + str(dest_points.compute()))\n",
    "    #if isCompute:\n",
    "    distances = cdist(source_points, dest_points) \n",
    "    #distances_bool = (distances < cutoff) & (distances > 0)\n",
    "    #logging.debug(str(distances_bool))\n",
    "    #xx, yy = np.meshgrid(np.arange(source_start, source_end), np.arange(dest_start, dest_end))\n",
    "    #logging.debug(\"xx: \" + str(xx))\n",
    "    #logging.debug(\"yy: \" + str(yy))\n",
    "    #res=np.array([zip(y,x, z) for x,y,z in zip(xx, yy, distances_bool.T)])\n",
    "    #true_res = np.array(np.where((distances < cutoff) & (distances > 0)))\n",
    "    true_res = np.array(np.where(distances < cutoff))\n",
    "    logging.debug(\"True Source: %s, Source_start: %d\"%(str(true_res[0]), source_start))\n",
    "    true_res[0] = true_res[0] + source_start # source offset for block\n",
    "    logging.debug(\"True Source Adjusted\" + str(true_res[0]))\n",
    "    true_res[1] = true_res[1] + dest_start # dest offset for block\n",
    "    res=np.array(zip(true_res[0], true_res[1]))\n",
    "    res=res[res[:,0]<res[:,1], :] # filter duplicate edges (only edges where ind1<ind2)\n",
    "    #number_pairs = block.shape[0]*block.shape[1]\n",
    "    #logging.debug(\"Result Shape: %s Block Shape: %s, Number Pairs: %d\"%(str(res.shape), str(block.shape), number_pairs))\n",
    "    #res=res.reshape(number_pairs, 3)\n",
    "    logging.debug(\"Result: \" + str(res))\n",
    "    return res\n",
    "    #else:\n",
    "    #    return np.zeros((1,2))\n",
    "    #return new_block + cdist(source_points, dest_points)<cutoff\n",
    "    #return np.array(block)\n",
    "    #return new_block "
   ]
  },
  {
   "cell_type": "code",
   "execution_count": null,
   "metadata": {
    "ExecuteTime": {
     "end_time": "2017-01-23T19:02:41.339867",
     "start_time": "2017-01-23T19:02:41.305039"
    },
    "collapsed": false,
    "run_control": {
     "frozen": false,
     "read_only": false
    }
   },
   "outputs": [],
   "source": [
    "da_res=dist_matrix.map_blocks(map_blocks_1d_sparse,  dtype='int')\n",
    "da_res.compute()"
   ]
  },
  {
   "cell_type": "code",
   "execution_count": null,
   "metadata": {
    "ExecuteTime": {
     "end_time": "2017-01-23T19:03:08.102227",
     "start_time": "2017-01-23T19:03:08.097946"
    },
    "collapsed": false,
    "run_control": {
     "frozen": false,
     "read_only": false
    }
   },
   "outputs": [],
   "source": [
    "(cdist(points_np, points_np)<15.0) & (cdist(points_np, points_np)>0)"
   ]
  },
  {
   "cell_type": "markdown",
   "metadata": {},
   "source": [
    "# MDAnalysis Data\n",
    "\n",
    "\n",
    "Number of Edges with Cutoff 15.0: \n",
    "* 765,349 (131K)\n",
    "* 4,803,453 (839K)\n",
    "\n",
    "\n",
    "## Data Preparation"
   ]
  },
  {
   "cell_type": "code",
   "execution_count": null,
   "metadata": {
    "ExecuteTime": {
     "end_time": "2017-01-28T12:42:10.709285",
     "start_time": "2017-01-28T12:42:07.594160"
    },
    "collapsed": false,
    "run_control": {
     "frozen": false,
     "read_only": false
    }
   },
   "outputs": [],
   "source": [
    "#CHUNKSIZE=[128, 256, 512, 1024, 2048, 4096, 8192, 16384]\n",
    "CHUNKSIZE=[2048]\n",
    "\n",
    "for c in CHUNKSIZE:\n",
    "    for i in FILENAMES:\n",
    "        print i\n",
    "        atoms = np.load(i)\n",
    "        a_da = da.from_array(atoms, chunks=(c,3))\n",
    "        print a_da.shape\n",
    "        out_file=os.path.join(OUT_DIR, os.path.basename(i)+\"_\"+str(c))\n",
    "        try:\n",
    "            os.makedirs(out_file)\n",
    "        except:\n",
    "            pass\n",
    "        da.to_npy_stack(out_file, a_da)"
   ]
  },
  {
   "cell_type": "markdown",
   "metadata": {},
   "source": [
    "## Dense Output Array"
   ]
  },
  {
   "cell_type": "code",
   "execution_count": null,
   "metadata": {
    "ExecuteTime": {
     "end_time": "2017-01-21T19:02:00.812666",
     "start_time": "2017-01-21T19:02:00.767300"
    },
    "collapsed": false,
    "run_control": {
     "frozen": false,
     "read_only": false
    }
   },
   "outputs": [],
   "source": [
    "%%time\n",
    "\n",
    "distances = dist_matrix.map_blocks(map_block_distance).compute()\n",
    "#da.to_npy_stack(output_directory, distances)"
   ]
  },
  {
   "cell_type": "markdown",
   "metadata": {},
   "source": [
    "## Sparse Output\n",
    "\n",
    "Outputs sparse edge list\n",
    "\n",
    "**Single Node**"
   ]
  },
  {
   "cell_type": "code",
   "execution_count": null,
   "metadata": {
    "ExecuteTime": {
     "end_time": "2017-01-21T19:12:17.308631",
     "start_time": "2017-01-21T19:11:33.279674"
    },
    "collapsed": false,
    "run_control": {
     "frozen": false,
     "read_only": false
    }
   },
   "outputs": [],
   "source": [
    "%%time\n",
    "CHUNKSIZE=1024\n",
    "FILENAME=\"atom_pos_291K.npy\"\n",
    "fn=os.path.join(OUT_DIR,'atom_pos_132K.npy_%s')%CHUNKSIZE\n",
    "point_array=da.from_npy_stack(fn)\n",
    "point_array.shape\n",
    "dist_matrix = da.zeros((point_array.shape[0],point_array.shape[0]), chunks=(CHUNKSIZE,point_array.shape[0]))\n",
    "da_res=dist_matrix.map_blocks(map_blocks_1d_sparse, chunks=(CHUNKSIZE,3), dtype='int')\n",
    "res=da_res.compute()"
   ]
  },
  {
   "cell_type": "markdown",
   "metadata": {
    "ExecuteTime": {
     "end_time": "2017-01-21T19:27:49.049930",
     "start_time": "2017-01-21T19:27:49.045408"
    }
   },
   "source": [
    "**Distributed**\n",
    "\n",
    "Data needs to be available on all nodes: \n",
    "    \n",
    "    rsync -avh comet-22-44:/scratch/luckow/7216144/* ."
   ]
  },
  {
   "cell_type": "code",
   "execution_count": null,
   "metadata": {
    "ExecuteTime": {
     "end_time": "2017-01-22T12:11:29.474719",
     "start_time": "2017-01-22T12:11:29.421899"
    },
    "collapsed": false,
    "run_control": {
     "frozen": false,
     "read_only": false
    }
   },
   "outputs": [],
   "source": [
    "%%time\n",
    "\n",
    "from distributed import Client\n",
    "\n",
    "CHUNKSIZE=2048\n",
    "FILENAME=\"atom_pos_839K\"\n",
    "hostname=\"198.202.117.67:8786\"\n",
    "\n",
    "client = Client(hostname)\n",
    "cluster_details=client.ncores()\n",
    "number_nodes = len(cluster_details.keys())\n",
    "number_cores = sum(cluster_details.values())  \n",
    "    \n",
    "print \"Connected to Dask Cluster: %s \"%str(client.ncores())\n",
    "global point_array\n",
    "\n",
    "start=time.time()\n",
    "with dask.set_options(get=client.get):    \n",
    "    fn=os.path.join(OUT_DIR,'%s.npy_%s')%(FILENAME, CHUNKSIZE)\n",
    "    point_array=da.from_npy_stack(fn)\n",
    "    chunk_size = point_array.chunks[0][0]\n",
    "    print(\"Input Data: %s, Chunksize: %d, Numblocks: %s\")%(str(point_array.shape), chunk_size, str(point_array.numblocks))\n",
    "    dist_matrix = da.zeros((point_array.shape[0],point_array.shape[0]), chunks=(chunk_size,point_array.shape[0]))\n",
    "    da_res=dist_matrix.map_blocks(map_blocks_1d_sparse, chunks=(CHUNKSIZE,3), dtype='int')\n",
    "    #res=da_res.compute()\n",
    "end_compute=time.time()    \n",
    "print(\"%s,dask-distributed,%s, %d, %d, comet, total, %.4f\"%(fn, \"benchmark_dask_map_block_1d_sparse_distributed\", number_nodes, number_cores, end_compute-start))"
   ]
  },
  {
   "cell_type": "markdown",
   "metadata": {},
   "source": [
    "## Benchmark"
   ]
  },
  {
   "cell_type": "markdown",
   "metadata": {
    "ExecuteTime": {
     "end_time": "2017-01-22T08:44:56.482891",
     "start_time": "2017-01-22T08:44:56.479833"
    }
   },
   "source": [
    "### Single Node"
   ]
  },
  {
   "cell_type": "code",
   "execution_count": null,
   "metadata": {
    "ExecuteTime": {
     "end_time": "2017-01-28T10:23:36.187683",
     "start_time": "2017-01-28T10:23:36.141606"
    },
    "collapsed": false,
    "run_control": {
     "frozen": false,
     "read_only": false
    }
   },
   "outputs": [],
   "source": [
    "import os.path\n",
    "OUTPUT_DIRECTORY=\"/oasis/scratch/comet/luckow/temp_project/out\"\n",
    "\n",
    "def benchmark_dask_map_block_1d_sparse_single_node(filename, cutoff=15, number_threads=40, direct_output=True ):\n",
    "    global point_array\n",
    "    func_name = sys._getframe().f_code.co_name\n",
    "\n",
    "    results = []\n",
    "    cache = Chest(path=os.path.join(BASE_DIRECTORY, \"cache\"), available_memory=98e9)  \n",
    "    \n",
    "    start = time.time()\n",
    "    point_array=da.from_npy_stack(filename)\n",
    "    chunk_size = point_array.chunks[0][0]\n",
    "    #print str(point_array.shape)\n",
    "    end_read = time.time()\n",
    "    results.append(\"%s,dask,%s,read_file, %.4f\"%(filename, func_name, end_read-start))\n",
    "    \n",
    "    dist_matrix = da.zeros((point_array.shape[0],point_array.shape[0]), chunks=(chunk_size, point_array.shape[0]))\n",
    "    #with ProgressBar():\n",
    "    \n",
    "    \"\"\"map_block_distances operates on point_array \"\"\"\n",
    "    #out =  dist_matrix.map_blocks(map_block_distance)\n",
    "    da_res=dist_matrix.map_blocks(map_blocks_1d_sparse, chunks=(chunk_size,3), dtype='int')\n",
    "    #res=da_res.compute(cache=cache)\n",
    "    res=da_res.compute()\n",
    "    #outfile = os.path.join(OUTPUT_DIRECTORY, os.path.basename(filename) + \"_out.h5\")\n",
    "    #da_res.to_hdf5(outfile, \"/o\", compression='lzf')\n",
    "    end_compute = time.time()\n",
    "    out_file = os.path.join(RESULT_DIR, os.path.basename(filename) + \"_out.nptxt\")\n",
    "    print \"Found %d Edges. Save to: %s\"%(len(res), out_file)\n",
    "    np.savetxt(out_file, res, \"%d\")\n",
    "    results.append(\"%s,dask,%s, 1, 24, comet, compute, %.4f\"%(filename, func_name, end_compute-end_read))\n",
    "    results.append(\"%s,dask,%s, 1, 24, comet, total, %.4f\"%(filename, func_name, end_compute-start))    \n",
    "    \n",
    "    # Log performance data\n",
    "    #end_compute = -1\n",
    "    #end_out_write = -1\n",
    "    #outfile = os.path.join(OUTPUT_DIRECTORY, os.path.basename(filename) + \"_out.h5\")\n",
    "    #try: \n",
    "    #    os.makedirs(outfile) \n",
    "    #except: \n",
    "    #    pass\n",
    "    \n",
    "    #if direct_output:\n",
    "    #    #da.to_npy_stack(outfile, out)    \n",
    "    #    out.to_hdf5(outfile, \"/o\", compression='lzf')\n",
    "    #    end_compute = time.time()\n",
    "    #    results.append(\"%s,dask,%s,compute_write, %.4f\"%(filename, func_name, end_compute-end_read))\n",
    "    #    results.append(\"%s,dask,%s,total, %.4f\"%(filename, func_name, end_compute-start))    \n",
    "    #else:\n",
    "    #    out.compute()  \n",
    "    #    end_compute = time.time()\n",
    "    #    #print \"end compute\"\n",
    "    #    np.save(outfile, out)\n",
    "    #    end_out_write = time.time()            \n",
    "    #    results.append(\"%s,dask,%s,compute, %.4f\"%(filename, func_name, end_compute-end_read))\n",
    "    #    results.append(\"%s,dask,%s,write_file, %.4f\"%(filename, func_name, end_out_write-end_compute))\n",
    "    #    results.append(\"%s,dask,%s,total, %.4f\"%(filename, func_name, end_out_write-start))\n",
    "    \n",
    "    #os.remove(outfile)\n",
    "    print(\"\\n\".join(results))"
   ]
  },
  {
   "cell_type": "code",
   "execution_count": null,
   "metadata": {
    "ExecuteTime": {
     "end_time": "2017-01-22T08:46:59.822086",
     "start_time": "2017-01-22T08:46:21.081873"
    },
    "collapsed": false,
    "run_control": {
     "frozen": false,
     "read_only": false
    }
   },
   "outputs": [],
   "source": [
    "benchmark_dask_map_block_1d_sparse_single_node(os.path.join(OUT_DIR, \"atom_pos_132K.npy_512\"))"
   ]
  },
  {
   "cell_type": "markdown",
   "metadata": {},
   "source": [
    "By using too small parititions, the file open limit of the machine can easily be exhausted\n",
    "\n",
    "    ulimit -n 70000\n",
    "    \n",
    "Unfortunately this limit can not be increased on Comet."
   ]
  },
  {
   "cell_type": "markdown",
   "metadata": {
    "ExecuteTime": {
     "end_time": "2017-01-22T08:46:59.825418",
     "start_time": "2017-01-22T08:46:59.823520"
    }
   },
   "source": [
    "### Distributed"
   ]
  },
  {
   "cell_type": "code",
   "execution_count": 5,
   "metadata": {
    "ExecuteTime": {
     "end_time": "2017-01-29T08:26:40.348053",
     "start_time": "2017-01-29T08:26:40.247362"
    },
    "collapsed": false,
    "run_control": {
     "frozen": false,
     "read_only": false
    }
   },
   "outputs": [],
   "source": [
    "import os.path\n",
    "from distributed import Client\n",
    "\n",
    "hostname=\"198.202.112.193:8786\"\n",
    "client = Client(hostname)\n",
    "    \n",
    "def benchmark_dask_map_block_1d_sparse_distributed(filename, cutoff=15, direct_output=True ):\n",
    "    global point_array\n",
    "    func_name = sys._getframe().f_code.co_name\n",
    "    results = []\n",
    "    #cache = Chest(path=os.path.join(BASE_DIRECTORY, \"cache\"), available_memory=98e9)  \n",
    "\n",
    "    cluster_details=client.ncores()\n",
    "    number_nodes = len(cluster_details.keys())\n",
    "    number_cores = sum(cluster_details.values())  \n",
    "    global point_array\n",
    "    with dask.set_options(get=client.get):        \n",
    "        start = time.time()\n",
    "        point_array=da.from_npy_stack(filename)\n",
    "        chunk_size = point_array.chunks[0][0]   \n",
    "        end_read = time.time()\n",
    "        results.append(\"%s,dask-distributed, %s, %d, %d, comet, read_file, %.4f\"%(filename, func_name, number_nodes, number_cores, end_read-start))\n",
    "        chunk_size\n",
    "        dist_matrix = da.zeros((point_array.shape[0],point_array.shape[0]), chunks=(chunk_size, point_array.shape[0]))\n",
    "        \"\"\"map_block_distances operates on point_array \"\"\"\n",
    "        da_res=dist_matrix.map_blocks(map_blocks_1d_sparse, chunks=(chunk_size,3), dtype='int')\n",
    "        res=da_res.compute()\n",
    "        end_compute = time.time()\n",
    "        out_file = os.path.join(RESULT_DIR, os.path.basename(filename) + \"_out.nptxt\")\n",
    "        #print \"Found %d Edges. Save to: %s\"%(len(res), out_file)\n",
    "        #np.savetxt(out_file, res, \"%d\")\n",
    "        results.append(\"%s,dask-distributed, %s, %d, %d, comet, compute, %.4f\"%(filename, func_name, number_nodes, number_cores, end_compute-end_read))\n",
    "        results.append(\"%s,dask-distributed, %s, %d, %d, comet, total, %.4f\"%(filename, func_name, number_nodes, number_cores, end_compute-start))    \n",
    "        print(\"\\n\".join(results))"
   ]
  },
  {
   "cell_type": "code",
   "execution_count": null,
   "metadata": {
    "ExecuteTime": {
     "end_time": "2017-01-28T09:41:14.111447",
     "start_time": "2017-01-28T09:40:58.597570"
    },
    "collapsed": false,
    "run_control": {
     "frozen": false,
     "read_only": false
    }
   },
   "outputs": [],
   "source": [
    "benchmark_dask_map_block_1d_sparse_distributed(os.path.join(OUT_DIR, \"atom_pos_132K.npy_8192\"))"
   ]
  },
  {
   "cell_type": "code",
   "execution_count": 6,
   "metadata": {
    "ExecuteTime": {
     "end_time": "2017-01-29T08:26:41.964941",
     "start_time": "2017-01-29T08:26:41.957897"
    },
    "collapsed": false,
    "run_control": {
     "frozen": false,
     "read_only": false
    }
   },
   "outputs": [
    {
     "data": {
      "text/plain": [
       "['/oasis/scratch/comet/luckow/temp_project/npy_stack/atom_pos_132K.npy_2048',\n",
       " '/oasis/scratch/comet/luckow/temp_project/npy_stack/atom_pos_291K.npy_2048',\n",
       " '/oasis/scratch/comet/luckow/temp_project/npy_stack/atom_pos_145K.npy_2048',\n",
       " '/oasis/scratch/comet/luckow/temp_project/npy_stack/atom_pos_839K.npy_2048']"
      ]
     },
     "execution_count": 6,
     "metadata": {},
     "output_type": "execute_result"
    }
   ],
   "source": [
    "dask_scenarios = [os.path.abspath(os.path.join(OUT_DIR, i)) for i in os.listdir(OUT_DIR)]\n",
    "shuffle(dask_scenarios)\n",
    "dask_scenarios"
   ]
  },
  {
   "cell_type": "code",
   "execution_count": null,
   "metadata": {
    "ExecuteTime": {
     "start_time": "2017-01-29T19:16:19.317Z"
    },
    "collapsed": false,
    "run_control": {
     "frozen": false,
     "read_only": false
    }
   },
   "outputs": [
    {
     "name": "stdout",
     "output_type": "stream",
     "text": [
      "Process: /oasis/scratch/comet/luckow/temp_project/npy_stack/atom_pos_132K.npy_2048 (1/4)\n"
     ]
    }
   ],
   "source": [
    "REPEATS=5\n",
    "for count in range(0, REPEATS):\n",
    "    shuffle(dask_scenarios)\n",
    "    for idx, s in enumerate(dask_scenarios):\n",
    "        #if '839K' in s:\n",
    "        print \"Process: %s (%d/%d)\"%(s, idx+1, len(dask_scenarios))\n",
    "        try:\n",
    "            benchmark_dask_map_block_1d_sparse_distributed(s)\n",
    "        except:\n",
    "            print \"Failed! Exception\"\n",
    "        time.sleep(60)"
   ]
  },
  {
   "cell_type": "markdown",
   "metadata": {},
   "source": [
    "## Other Optimization Attempts"
   ]
  },
  {
   "cell_type": "code",
   "execution_count": null,
   "metadata": {
    "ExecuteTime": {
     "end_time": "2017-01-21T19:17:44.191625",
     "start_time": "2017-01-21T19:17:44.173620"
    },
    "collapsed": false,
    "init_cell": false,
    "run_control": {
     "frozen": false,
     "read_only": false
    }
   },
   "outputs": [],
   "source": [
    "%%time\n",
    "\n",
    "\"\"\"Make sure point_array points to correct dataset\"\"\"\n",
    "global point_array\n",
    "global cutoff\n",
    "\n",
    "cutoff=15.0\n",
    "\n",
    "\n",
    "def map_block_distance_sparse(block,  block_id=None):\n",
    "    isCompute = block_id[1]>=block_id[0] and block.shape != (1,1)# Bug ? \n",
    "                                         # Dask returns one block with shape (1,1) ID:(1, 1) Shape: (1, 1) Predicate: True Content: [[ 1.]]\n",
    "    block_length = block.shape[0]\n",
    "    logging.debug(\"ID:\" + str(block_id) + \" Shape: \" + str(block.shape) + \\\n",
    "          \" Predicate: \" + str(isCompute) + \" Content: \" + str(block) + \"\\n\")\n",
    "    if isCompute:\n",
    "        source_start = block_id[0]*block_length\n",
    "        source_end = (block_id[0]+1)*block_length\n",
    "        source_points = point_array[source_start:source_end]        \n",
    "        dest_start = block_id[1]*block_length\n",
    "        dest_end = (block_id[1]+1)*block_length\n",
    "        dest_points = point_array[dest_start:dest_end]  \n",
    "        logging.debug(\"Source Idx: %d - %d Dest. Idx: %d - %d\\n\"%(source_start, source_end, dest_start, dest_end))\n",
    "        #print \"Source Points: \" + str(source_points.compute())\n",
    "        #print \"Destination Points: \" + str(dest_points.compute())\n",
    "        #return cdist(source_points, dest_points)<cutoff\n",
    "        #return np.array(block)\n",
    "        #else:\n",
    "    return np.array([zip(x,y) for x,y in zip(np.zeros(shape), np.ones(shape))])"
   ]
  },
  {
   "cell_type": "code",
   "execution_count": null,
   "metadata": {
    "collapsed": true,
    "run_control": {
     "frozen": false,
     "read_only": false
    }
   },
   "outputs": [],
   "source": []
  },
  {
   "cell_type": "code",
   "execution_count": null,
   "metadata": {
    "ExecuteTime": {
     "end_time": "2017-01-20T19:58:06.521764",
     "start_time": "2017-01-20T19:58:06.518762"
    },
    "collapsed": true,
    "run_control": {
     "frozen": false,
     "read_only": false
    }
   },
   "outputs": [],
   "source": [
    "dist_da = da.from_array(distances, chunks=(5,5))"
   ]
  },
  {
   "cell_type": "code",
   "execution_count": null,
   "metadata": {
    "ExecuteTime": {
     "end_time": "2017-01-20T19:58:07.222712",
     "start_time": "2017-01-20T19:58:07.183890"
    },
    "collapsed": true,
    "run_control": {
     "frozen": false,
     "read_only": false
    }
   },
   "outputs": [],
   "source": [
    "distances=dist_matrix.map_blocks(map_block_distance_sparse).compute()"
   ]
  },
  {
   "cell_type": "code",
   "execution_count": null,
   "metadata": {
    "ExecuteTime": {
     "end_time": "2017-01-20T19:50:42.662841",
     "start_time": "2017-01-20T19:50:42.659344"
    },
    "collapsed": true,
    "run_control": {
     "frozen": false,
     "read_only": false
    }
   },
   "outputs": [],
   "source": [
    "shape=(5,5)"
   ]
  },
  {
   "cell_type": "code",
   "execution_count": null,
   "metadata": {
    "ExecuteTime": {
     "end_time": "2017-01-20T19:51:32.604487",
     "start_time": "2017-01-20T19:51:32.598158"
    },
    "collapsed": true,
    "run_control": {
     "frozen": false,
     "read_only": false
    }
   },
   "outputs": [],
   "source": [
    "np.dstack((np.zeros(shape), np.ones(shape)))"
   ]
  },
  {
   "cell_type": "code",
   "execution_count": null,
   "metadata": {
    "ExecuteTime": {
     "end_time": "2017-01-20T19:52:48.792012",
     "start_time": "2017-01-20T19:52:48.784087"
    },
    "collapsed": false,
    "run_control": {
     "frozen": false,
     "read_only": false
    }
   },
   "outputs": [],
   "source": [
    "[zip(x,y) for x,y in zip(np.zeros(shape), np.ones(shape))]"
   ]
  },
  {
   "cell_type": "code",
   "execution_count": null,
   "metadata": {
    "ExecuteTime": {
     "end_time": "2017-01-20T19:55:33.475164",
     "start_time": "2017-01-20T19:55:33.469364"
    },
    "collapsed": false,
    "run_control": {
     "frozen": false,
     "read_only": false
    }
   },
   "outputs": [],
   "source": [
    "np.zeros(shape)"
   ]
  },
  {
   "cell_type": "code",
   "execution_count": null,
   "metadata": {
    "ExecuteTime": {
     "end_time": "2017-01-20T19:58:07.222712",
     "start_time": "2017-01-20T19:58:07.183890"
    },
    "collapsed": false,
    "run_control": {
     "frozen": false,
     "read_only": false
    }
   },
   "outputs": [],
   "source": [
    "distances=dist_matrix.map_blocks(map_block_distance).compute()"
   ]
  },
  {
   "cell_type": "code",
   "execution_count": null,
   "metadata": {
    "ExecuteTime": {
     "end_time": "2017-01-21T06:52:58.578700",
     "start_time": "2017-01-21T06:52:58.572961"
    },
    "collapsed": false,
    "run_control": {
     "frozen": false,
     "read_only": false
    }
   },
   "outputs": [],
   "source": [
    "def atop_func(x, block_id):\n",
    "    print str(block_id)\n",
    "    print type(x)\n",
    "    print str(x)\n",
    "    for i in x:\n",
    "        return np.where(x)\n",
    "    print x[0].shape\n",
    "    if x==True: return 5\n",
    "    else: return 0"
   ]
  },
  {
   "cell_type": "code",
   "execution_count": null,
   "metadata": {
    "ExecuteTime": {
     "end_time": "2017-01-21T06:52:59.607793",
     "start_time": "2017-01-21T06:52:59.404119"
    },
    "collapsed": true,
    "run_control": {
     "frozen": false,
     "read_only": false
    }
   },
   "outputs": [],
   "source": [
    "d = da.atop(atop_func, 'i', dist_da, 'ij', dtype='int').compute()"
   ]
  },
  {
   "cell_type": "code",
   "execution_count": null,
   "metadata": {
    "ExecuteTime": {
     "end_time": "2017-01-20T18:54:14.912997",
     "start_time": "2017-01-20T18:54:14.903089"
    },
    "collapsed": false,
    "run_control": {
     "frozen": false,
     "read_only": false
    }
   },
   "outputs": [],
   "source": [
    "da.atop(lambda x: 2 if random.randint(0,1)==0 else 1, 'i', dist_matrix, 'ij', dtype='int').compute()"
   ]
  },
  {
   "cell_type": "code",
   "execution_count": null,
   "metadata": {
    "ExecuteTime": {
     "end_time": "2017-01-22T14:32:42.874689",
     "start_time": "2017-01-22T14:32:42.852198"
    },
    "collapsed": false,
    "init_cell": false,
    "run_control": {
     "frozen": false,
     "read_only": false
    }
   },
   "outputs": [],
   "source": [
    "\"\"\"Make sure point_array points to correct dataset\"\"\"\n",
    "global point_array\n",
    "global cutoff\n",
    "\n",
    "cutoff=15.0\n",
    "\n",
    "def map_blocks_new_axis_2d(block, block_id):\n",
    "    new_block = block[:, :, None]\n",
    "    \n",
    "    isCompute = block_id[1]>=block_id[0] and block.shape != (1,1)# Bug ? \n",
    "                                         # Dask returns one block with shape (1,1) ID:(1, 1) Shape: (1, 1) Predicate: True Content: [[ 1.]]\n",
    "    block_length = block.shape[0]\n",
    "    logging.debug(\"ID:\" + str(block_id) + \" Shape: \" + str(block.shape) + \\\n",
    "          \" Predicate: \" + str(isCompute) + \" Content: \" + str(block) + \"\\n\")\n",
    "    \n",
    "    source_start = block_id[0]*block_length\n",
    "    source_end = (block_id[0]+1)*block_length\n",
    "    source_points = point_array[source_start:source_end]        \n",
    "    dest_start = block_id[1]*block_length\n",
    "    dest_end = (block_id[1]+1)*block_length\n",
    "    dest_points = point_array[dest_start:dest_end]  \n",
    "    logging.debug(\"Source Idx: %d - %d Dest. Idx: %d - %d\\n\"%(source_start, source_end, dest_start, dest_end))\n",
    "    logging.debug(\"Source Points: \" + str(source_points.compute()))\n",
    "    logging.debug(\"Destination Points: \" + str(dest_points.compute()))\n",
    "    distances = cdist(source_points, dest_points) \n",
    "    distances_bool = (distances < cutoff) & (distances > 0)\n",
    "    xx, yy = np.meshgrid(np.arange(source_start, source_end), np.arange(dest_start, dest_end))\n",
    "    logging.debug(\"xx: \" + str(xx))\n",
    "    logging.debug(\"yy: \" + str(yy))\n",
    "    res=np.array([zip(x,y, z) for x,y,z in zip(yy, xx, distances_bool)])\n",
    "    logging.debug(\"Result: \" + str(res))\n",
    "    return res\n",
    "\n",
    "    #return new_block + cdist(source_points, dest_points)<cutoff\n",
    "    #return np.array(block)\n",
    "    #return new_block "
   ]
  },
  {
   "cell_type": "code",
   "execution_count": null,
   "metadata": {
    "ExecuteTime": {
     "end_time": "2017-01-21T18:53:54.073909",
     "start_time": "2017-01-21T18:53:54.065379"
    },
    "collapsed": false,
    "run_control": {
     "frozen": false,
     "read_only": false
    }
   },
   "outputs": [],
   "source": [
    "d=(cdist(points_np,points_np)<cutoff)& (cdist(points_np,points_np)>0.0)\n",
    "print d\n",
    "zip(np.where(d)[0], np.where(d)[1])"
   ]
  },
  {
   "cell_type": "code",
   "execution_count": null,
   "metadata": {
    "ExecuteTime": {
     "end_time": "2017-01-21T18:36:31.379002",
     "start_time": "2017-01-21T18:36:31.374839"
    },
    "collapsed": false,
    "run_control": {
     "frozen": false,
     "read_only": false
    }
   },
   "outputs": [],
   "source": [
    "np.where(d)[0]+3"
   ]
  },
  {
   "cell_type": "code",
   "execution_count": null,
   "metadata": {
    "ExecuteTime": {
     "end_time": "2017-01-21T18:33:26.883438",
     "start_time": "2017-01-21T18:33:26.859124"
    },
    "collapsed": false,
    "run_control": {
     "frozen": false,
     "read_only": false
    }
   },
   "outputs": [],
   "source": [
    "df_res=df.from_array(da_res, columns=[\"From\", \"To\", \"isConnected\"])\n",
    "df_res.where(df_res[\"isConnected\"])\\\n",
    "      .dropna()[[\"From\", \"To\"]].values.compute()"
   ]
  },
  {
   "cell_type": "code",
   "execution_count": null,
   "metadata": {
    "ExecuteTime": {
     "end_time": "2017-01-21T18:17:08.938452",
     "start_time": "2017-01-21T18:17:08.933215"
    },
    "collapsed": false,
    "run_control": {
     "frozen": false,
     "read_only": false
    }
   },
   "outputs": [],
   "source": [
    "# Get Edges\n",
    "print str(distances)\n",
    "d=np.array(zip(np.where(distances)[0], np.where(distances)[1]))\n",
    "print d"
   ]
  },
  {
   "cell_type": "code",
   "execution_count": null,
   "metadata": {
    "ExecuteTime": {
     "end_time": "2017-01-21T18:24:52.045592",
     "start_time": "2017-01-21T18:24:52.040789"
    },
    "collapsed": false,
    "run_control": {
     "frozen": false,
     "read_only": false
    }
   },
   "outputs": [],
   "source": [
    "zip(np.where(distances)[0], np.where(distances)[1])"
   ]
  },
  {
   "cell_type": "code",
   "execution_count": null,
   "metadata": {
    "ExecuteTime": {
     "end_time": "2017-01-21T18:17:48.489797",
     "start_time": "2017-01-21T18:17:48.485329"
    },
    "collapsed": false,
    "run_control": {
     "frozen": false,
     "read_only": false
    }
   },
   "outputs": [],
   "source": [
    "d[d[:,0]<d[:,1], :]"
   ]
  },
  {
   "cell_type": "markdown",
   "metadata": {},
   "source": [
    "## 2-D with Sparse Output (not working)"
   ]
  },
  {
   "cell_type": "code",
   "execution_count": null,
   "metadata": {
    "ExecuteTime": {
     "end_time": "2017-01-22T07:18:58.026854",
     "start_time": "2017-01-22T07:18:58.021394"
    },
    "collapsed": false,
    "run_control": {
     "frozen": false,
     "read_only": false
    }
   },
   "outputs": [],
   "source": [
    "number_points = 4\n",
    "points_np = np.arange(number_points*3).reshape(number_points,3)\n",
    "point_array = da.from_array(points_np, chunks=(2, 3))\n",
    "dist_matrix = da.zeros((number_points,number_points), chunks=(2, 2)) # 2-D Chunks\n",
    "print dist_matrix.chunks"
   ]
  },
  {
   "cell_type": "code",
   "execution_count": null,
   "metadata": {
    "ExecuteTime": {
     "end_time": "2017-01-22T07:18:59.186237",
     "start_time": "2017-01-22T07:18:59.151459"
    },
    "collapsed": false,
    "init_cell": false,
    "run_control": {
     "frozen": false,
     "read_only": false
    }
   },
   "outputs": [],
   "source": [
    "\"\"\"Make sure point_array points to correct dataset\"\"\"\n",
    "global point_array\n",
    "global cutoff\n",
    "\n",
    "cutoff=15.0\n",
    "\n",
    "def map_blocks_new_axis_2d(block, block_id):\n",
    "    new_block = block[:, :, None]\n",
    "    \n",
    "    isCompute = block_id[1]>=block_id[0] and block.shape != (1,1)# Bug ? \n",
    "                                         # Dask returns one block with shape (1,1) ID:(1, 1) Shape: (1, 1) Predicate: True Content: [[ 1.]]\n",
    "    block_length = block.shape[0]\n",
    "    logging.debug(\"ID:\" + str(block_id) + \" Shape: \" + str(block.shape) + \\\n",
    "          \" Predicate: \" + str(isCompute) + \" Content: \" + str(block) + \"\\n\")\n",
    "    \n",
    "    source_start = block_id[0]*block_length\n",
    "    source_end = (block_id[0]+1)*block_length\n",
    "    source_points = point_array[source_start:source_end]        \n",
    "    dest_start = block_id[1]*block_length\n",
    "    dest_end = (block_id[1]+1)*block_length\n",
    "   \n",
    "    dest_points = point_array[dest_start:dest_end]  \n",
    "    logging.debug(\"Source Idx: %d - %d Dest. Idx: %d - %d\\n\"%(source_start, source_end, dest_start, dest_end))\n",
    "    logging.debug(\"Source Points: \" + str(source_points.compute()))\n",
    "    logging.debug(\"Destination Points: \" + str(dest_points.compute()))\n",
    "    distances = cdist(source_points, dest_points) \n",
    "    distances_bool = (distances < cutoff) & (distances > 0)\n",
    "    \n",
    "    logging.debug(str(distances_bool))\n",
    "    xx, yy = np.meshgrid(np.arange(source_start, source_end), np.arange(dest_start, dest_end))\n",
    "    logging.debug(\"xx: \" + str(xx))\n",
    "    logging.debug(\"yy: \" + str(yy))\n",
    "    #res=np.array([zip(y,x, z) for x,y,z in zip(xx, yy, distances_bool.T)])\n",
    "    res=np.array([zip(x,y, z) for x,y,z in zip(yy, xx, distances_bool)])\n",
    "    number_pairs = block.shape[0]*block.shape[1]\n",
    "    logging.debug(\"Result Shape: %s Block Shape: %s, Number Pairs: %d\"%(str(res.shape), str(block.shape), number_pairs))\n",
    "    res=res.reshape(number_pairs, 3)\n",
    "    logging.debug(\"Result: \" + str(res))\n",
    "    return res\n",
    "\n",
    "    #return new_block + cdist(source_points, dest_points)<cutoff\n",
    "    #return np.array(block)\n",
    "    #return new_block "
   ]
  },
  {
   "cell_type": "code",
   "execution_count": null,
   "metadata": {
    "ExecuteTime": {
     "end_time": "2017-01-22T07:19:05.897161",
     "start_time": "2017-01-22T07:19:05.892574"
    },
    "collapsed": false,
    "run_control": {
     "frozen": false,
     "read_only": false
    }
   },
   "outputs": [],
   "source": [
    "da_res=dist_matrix.map_blocks(map_blocks_new_axis_2d, chunks=(4,3), dtype='int')\n"
   ]
  },
  {
   "cell_type": "code",
   "execution_count": null,
   "metadata": {
    "ExecuteTime": {
     "end_time": "2017-01-22T07:19:11.895888",
     "start_time": "2017-01-22T07:19:11.860406"
    },
    "collapsed": false,
    "run_control": {
     "frozen": false,
     "read_only": false
    }
   },
   "outputs": [],
   "source": [
    "da_res.compute()"
   ]
  },
  {
   "cell_type": "code",
   "execution_count": null,
   "metadata": {
    "ExecuteTime": {
     "end_time": "2017-01-21T15:46:28.865944",
     "start_time": "2017-01-21T15:46:28.484036"
    },
    "collapsed": true,
    "run_control": {
     "frozen": false,
     "read_only": false
    }
   },
   "outputs": [],
   "source": [
    "df_res=df.from_array(da_res, columns=[\"From\", \"To\", \"Distance\"])"
   ]
  },
  {
   "cell_type": "code",
   "execution_count": null,
   "metadata": {
    "ExecuteTime": {
     "end_time": "2017-01-21T18:59:08.166479",
     "start_time": "2017-01-21T18:59:01.643542"
    },
    "collapsed": false,
    "run_control": {
     "frozen": false,
     "read_only": false
    }
   },
   "outputs": [],
   "source": [
    "%%time\n",
    "print \"Run with chunk size %d\"%CHUNKSIZE\n",
    "cache = Chest(path=os.path.join(BASE_DIRECTORY, \"cache\"), available_memory=98e9)  \n",
    "df_res=df.from_array(da_res, columns=[\"From\", \"To\", \"isConnected\"])\n",
    "edges_np=df_res.where(df_res[\"isConnected\"])\\\n",
    "               .dropna()[[\"From\", \"To\"]].values.compute(num_workers=12, cache=cache) #.to_hdf5(outfile, \"/o\", compression='lzf')\n"
   ]
  },
  {
   "cell_type": "markdown",
   "metadata": {},
   "source": [
    "## 2D Version"
   ]
  },
  {
   "cell_type": "code",
   "execution_count": null,
   "metadata": {
    "ExecuteTime": {
     "end_time": "2017-01-22T07:28:06.165515",
     "start_time": "2017-01-22T07:28:06.159164"
    },
    "collapsed": false,
    "run_control": {
     "frozen": false,
     "read_only": false
    }
   },
   "outputs": [],
   "source": [
    "number_points = 4\n",
    "points_np = np.arange(number_points*3).reshape(number_points,3)\n",
    "point_array = da.from_array(points_np, chunks=(2, 3))\n",
    "dist_matrix = da.zeros((number_points,number_points), chunks=(2,2)) # multiple chunks in 2. dimension\n",
    "print \"Dist Matrix Shape: \" + str(dist_matrix.shape)\n",
    "print \"Dist Matrix Chunks: \" + str(dist_matrix.chunks)"
   ]
  },
  {
   "cell_type": "code",
   "execution_count": null,
   "metadata": {
    "ExecuteTime": {
     "end_time": "2017-01-22T14:32:42.909381",
     "start_time": "2017-01-22T14:32:42.875966"
    },
    "collapsed": false,
    "init_cell": false,
    "run_control": {
     "frozen": false,
     "read_only": false
    }
   },
   "outputs": [],
   "source": [
    "\"\"\"Make sure point_array points to correct dataset\"\"\"\n",
    "global point_array\n",
    "global cutoff\n",
    "\n",
    "cutoff=15.0\n",
    "\n",
    "def map_blocks_new_axis_2d(block, block_id):\n",
    "    new_block = block[:, :, None]\n",
    "    \n",
    "    isCompute = block_id[1]>=block_id[0] and block.shape != (1,1)# Bug ? \n",
    "                                         # Dask returns one block with shape (1,1) ID:(1, 1) Shape: (1, 1) Predicate: True Content: [[ 1.]]\n",
    "    block_length = block.shape[0]\n",
    "    logging.debug(\"ID:\" + str(block_id) + \" Shape: \" + str(block.shape) + \\\n",
    "          \" Predicate: \" + str(isCompute) + \" Content: \" + str(block) + \"\\n\")\n",
    "    \n",
    "    source_start = block_id[0]*block_length\n",
    "    source_end = (block_id[0]+1)*block_length\n",
    "    source_points = point_array[source_start:source_end]        \n",
    "    dest_start = block_id[1]*block_length\n",
    "    dest_end = (block_id[1]+1)*block_length\n",
    "   \n",
    "    dest_points = point_array[dest_start:dest_end]  \n",
    "    logging.debug(\"Source Idx: %d - %d Dest. Idx: %d - %d\\n\"%(source_start, source_end, dest_start, dest_end))\n",
    "    logging.debug(\"Source Points: \" + str(source_points.compute()))\n",
    "    logging.debug(\"Destination Points: \" + str(dest_points.compute()))\n",
    "    distances = cdist(source_points, dest_points) \n",
    "    distances_bool = (distances < cutoff) & (distances > 0)\n",
    "    # Get indicies with right offset from distnace bool\n",
    "    true_res = np.array(np.where(distances_bool))\n",
    "    logging.debug(\"True Source: %s, Source_start: %d\"%(str(true_res[0]), source_start))\n",
    "    true_res[0] = true_res[0] + source_start # source offset for block\n",
    "    logging.debug(\"True Source Adjusted\" + str(true_res[0]))\n",
    "    true_res[1] = true_res[1] + dest_start # dest offset for block\n",
    "    res=np.array(zip(true_res[0], true_res[1]))\n",
    "    res=res[res[:,0]<res[:,1], :] # filter duplicate ed\n",
    "    \n",
    "    number_pairs = len(res)\n",
    "    logging.debug(\"Result Shape: %s Block Shape: %s, Number Pairs: %d\"%(str(res.shape), str(block.shape), number_pairs))\n",
    "    res=res.reshape(number_pairs, 2)\n",
    "    logging.debug(\"Result: \" + str(res))\n",
    "    return new_block + res"
   ]
  },
  {
   "cell_type": "code",
   "execution_count": null,
   "metadata": {
    "ExecuteTime": {
     "end_time": "2017-01-22T07:31:13.207908",
     "start_time": "2017-01-22T07:31:13.109516"
    },
    "collapsed": true,
    "run_control": {
     "frozen": false,
     "read_only": false
    }
   },
   "outputs": [],
   "source": [
    "da_res=dist_matrix.map_blocks(map_blocks_new_axis_2d, dtype='int').compute()"
   ]
  },
  {
   "cell_type": "code",
   "execution_count": null,
   "metadata": {
    "ExecuteTime": {
     "end_time": "2017-01-22T07:27:51.266937",
     "start_time": "2017-01-22T07:27:51.262847"
    },
    "collapsed": false,
    "run_control": {
     "frozen": false,
     "read_only": false
    }
   },
   "outputs": [],
   "source": [
    "da_res"
   ]
  }
 ],
 "metadata": {
  "anaconda-cloud": {},
  "celltoolbar": "Initialisation Cell",
  "kernelspec": {
   "display_name": "Python 2",
   "language": "python",
   "name": "python2"
  },
  "language_info": {
   "codemirror_mode": {
    "name": "ipython",
    "version": 2
   },
   "file_extension": ".py",
   "mimetype": "text/x-python",
   "name": "python",
   "nbconvert_exporter": "python",
   "pygments_lexer": "ipython2",
   "version": "2.7.13"
  },
  "toc": {
   "colors": {
    "hover_highlight": "#DAA520",
    "running_highlight": "#FF0000",
    "selected_highlight": "#FFD700"
   },
   "moveMenuLeft": true,
   "nav_menu": {
    "height": "68px",
    "width": "252px"
   },
   "navigate_menu": true,
   "number_sections": true,
   "sideBar": true,
   "threshold": 4,
   "toc_cell": false,
   "toc_position": {
    "height": "1388px",
    "left": "0px",
    "right": "1195px",
    "top": "107px",
    "width": "212px"
   },
   "toc_section_display": "block",
   "toc_window_display": true
  },
  "toc_position": {
   "height": "274px",
   "left": "-2.40912px",
   "right": "20px",
   "top": "131px",
   "width": "164px"
  }
 },
 "nbformat": 4,
 "nbformat_minor": 1
}
