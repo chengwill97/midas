{
 "cells": [
  {
   "cell_type": "code",
   "execution_count": 5,
   "metadata": {
    "ExecuteTime": {
     "end_time": "2017-01-17T19:07:18.698403",
     "start_time": "2017-01-17T19:07:18.678154"
    },
    "collapsed": true,
    "init_cell": true
   },
   "outputs": [],
   "source": [
    "%matplotlib inline\n",
    "import sys\n",
    "import numpy as np\n",
    "import random\n",
    "import os, time, sys, datetime\n",
    "import sklearn.metrics.pairwise\n",
    "import scipy.spatial.distance\n",
    "from scipy.spatial.distance import cdist\n",
    "import dask\n",
    "import dask.array as da\n",
    "import dask.multiprocessing\n",
    "from dask.diagnostics import ProgressBar\n",
    "from dask.diagnostics import ResourceProfiler\n",
    "from dask.dot import dot_graph\n",
    "from dask.array.core import map_blocks\n",
    "import dask.bag as db\n",
    "import logging\n",
    "logging.basicConfig(stream=sys.stdout, level=logging.WARN)\n",
    "\n",
    "\n",
    "#from multiprocessing.pool import ThreadPool\n",
    "RESULT_DIR=\"results\"\n",
    "RESULT_FILE_PREFIX=\"pair-distance-\"\n",
    "HEADER_CSV=\"Scenario, Type, Time\"\n",
    "#BASE_DIRECTORY=os.getcwd()\n",
    "# Dask has issues with NFS home directory on Comet\n",
    "# BASE_DIRECTORY='/scratch/luckow/7146882'\n",
    "BASE_DIRECTORY='/oasis/scratch/comet/luckow/temp_project'\n",
    "OUT_DIR=os.path.join(BASE_DIRECTORY, \"npy_stack\")\n",
    "\n",
    "FILENAMES=[\"../132k_dataset/atom_pos_132K.npy\", \"../145K_dataset/atom_pos_145K.npy\", \n",
    "          \"../300K_dataset/atom_pos_291K.npy\", '../840K_dataset/atom_pos_839K.npy']\n",
    "\n",
    "scenario = FILENAMES[0]"
   ]
  },
  {
   "cell_type": "code",
   "execution_count": 6,
   "metadata": {
    "ExecuteTime": {
     "end_time": "2017-01-17T19:07:19.365967",
     "start_time": "2017-01-17T19:07:19.349564"
    },
    "collapsed": false,
    "init_cell": true
   },
   "outputs": [
    {
     "name": "stdout",
     "output_type": "stream",
     "text": [
      "CPU times: user 0 ns, sys: 0 ns, total: 0 ns\n",
      "Wall time: 11.9 µs\n"
     ]
    }
   ],
   "source": [
    "%%time\n",
    "\n",
    "\"\"\"Make sure point_array points to correct dataset\"\"\"\n",
    "global point_array\n",
    "global cutoff\n",
    "\n",
    "cutoff=15.0\n",
    "\n",
    "\n",
    "def map_block_distance(block,  block_id=None):\n",
    "    isCompute = block_id[1]>=block_id[0] and block.shape != (1,1)# Bug ? \n",
    "                                         # Dask returns one block with shape (1,1) ID:(1, 1) Shape: (1, 1) Predicate: True Content: [[ 1.]]\n",
    "    block_length = block.shape[0]\n",
    "    logging.debug(\"ID:\" + str(block_id) + \" Shape: \" + str(block.shape) + \\\n",
    "          \" Predicate: \" + str(isCompute) + \" Content: \" + str(block) + \"\\n\")\n",
    "    if isCompute:\n",
    "        source_start = block_id[0]*block_length\n",
    "        source_end = (block_id[0]+1)*block_length\n",
    "        source_points = point_array[source_start:source_end]        \n",
    "        dest_start = block_id[1]*block_length\n",
    "        dest_end = (block_id[1]+1)*block_length\n",
    "        dest_points = point_array[dest_start:dest_end]  \n",
    "        logging.debug(\"Source Idx: %d - %d Dest. Idx: %d - %d\\n\"%(source_start, source_end, dest_start, dest_end))\n",
    "        #print \"Source Points: \" + str(source_points.compute())\n",
    "        #print \"Destination Points: \" + str(dest_points.compute())\n",
    "        return cdist(source_points, dest_points)>cutoff\n",
    "        #return np.array(block)\n",
    "    else:\n",
    "        return np.zeros(block.shape)"
   ]
  },
  {
   "cell_type": "markdown",
   "metadata": {
    "ExecuteTime": {
     "end_time": "2017-01-16T09:39:24.821442",
     "start_time": "2017-01-16T09:39:24.819086"
    }
   },
   "source": [
    "# Map Blocks for Pairwise Distance using Dummy Data"
   ]
  },
  {
   "cell_type": "code",
   "execution_count": 12,
   "metadata": {
    "ExecuteTime": {
     "end_time": "2017-01-17T18:30:52.699652",
     "start_time": "2017-01-17T18:30:52.695287"
    },
    "collapsed": false
   },
   "outputs": [],
   "source": [
    "number_points = 10\n",
    "points_np = np.arange(number_points*3).reshape(number_points,3)\n",
    "point_array = da.from_array(points_np, chunks=(5))\n",
    "dist_matrix = da.ones((number_points,number_points), chunks=(5,5))"
   ]
  },
  {
   "cell_type": "code",
   "execution_count": null,
   "metadata": {
    "ExecuteTime": {
     "end_time": "2017-01-16T15:46:45.035446",
     "start_time": "2017-01-16T15:46:45.031792"
    },
    "collapsed": false
   },
   "outputs": [],
   "source": [
    "point_array.chunks"
   ]
  },
  {
   "cell_type": "code",
   "execution_count": null,
   "metadata": {
    "ExecuteTime": {
     "end_time": "2017-01-16T14:15:48.354284",
     "start_time": "2017-01-16T14:15:48.340885"
    },
    "collapsed": false
   },
   "outputs": [],
   "source": [
    "point_array.compute()"
   ]
  },
  {
   "cell_type": "code",
   "execution_count": null,
   "metadata": {
    "ExecuteTime": {
     "end_time": "2017-01-16T14:15:49.061501",
     "start_time": "2017-01-16T14:15:49.057879"
    },
    "collapsed": false
   },
   "outputs": [],
   "source": [
    "dist_matrix.numblocks"
   ]
  },
  {
   "cell_type": "code",
   "execution_count": null,
   "metadata": {
    "ExecuteTime": {
     "end_time": "2017-01-16T14:15:49.512220",
     "start_time": "2017-01-16T14:15:49.508742"
    },
    "collapsed": false
   },
   "outputs": [],
   "source": [
    "dist_matrix.npartitions"
   ]
  },
  {
   "cell_type": "code",
   "execution_count": null,
   "metadata": {
    "ExecuteTime": {
     "end_time": "2017-01-16T14:15:50.418051",
     "start_time": "2017-01-16T14:15:50.414381"
    },
    "collapsed": false
   },
   "outputs": [],
   "source": [
    "dist_matrix.chunks"
   ]
  },
  {
   "cell_type": "code",
   "execution_count": null,
   "metadata": {
    "ExecuteTime": {
     "end_time": "2017-01-16T14:15:52.891100",
     "start_time": "2017-01-16T14:15:52.881923"
    },
    "collapsed": false
   },
   "outputs": [],
   "source": [
    "dist_matrix.compute()"
   ]
  },
  {
   "cell_type": "code",
   "execution_count": 10,
   "metadata": {
    "ExecuteTime": {
     "end_time": "2017-01-17T18:30:09.983421",
     "start_time": "2017-01-17T18:30:09.959308"
    },
    "collapsed": false
   },
   "outputs": [],
   "source": [
    "distances=dist_matrix.map_blocks(map_block_distance).compute()"
   ]
  },
  {
   "cell_type": "code",
   "execution_count": 11,
   "metadata": {
    "ExecuteTime": {
     "end_time": "2017-01-17T18:30:10.900997",
     "start_time": "2017-01-17T18:30:10.896350"
    },
    "collapsed": false
   },
   "outputs": [
    {
     "data": {
      "text/plain": [
       "array([[False, False, False,  True,  True,  True,  True,  True,  True,\n",
       "         True],\n",
       "       [False, False, False, False,  True,  True,  True,  True,  True,\n",
       "         True],\n",
       "       [False, False, False, False, False,  True,  True,  True,  True,\n",
       "         True],\n",
       "       [ True, False, False, False, False, False,  True,  True,  True,\n",
       "         True],\n",
       "       [ True,  True, False, False, False, False, False,  True,  True,\n",
       "         True],\n",
       "       [False, False, False, False, False, False, False, False,  True,\n",
       "         True],\n",
       "       [False, False, False, False, False, False, False, False, False,\n",
       "         True],\n",
       "       [False, False, False, False, False, False, False, False, False,\n",
       "        False],\n",
       "       [False, False, False, False, False,  True, False, False, False,\n",
       "        False],\n",
       "       [False, False, False, False, False,  True,  True, False, False,\n",
       "        False]], dtype=bool)"
      ]
     },
     "execution_count": 11,
     "metadata": {},
     "output_type": "execute_result"
    }
   ],
   "source": [
    "distances"
   ]
  },
  {
   "cell_type": "code",
   "execution_count": 13,
   "metadata": {
    "ExecuteTime": {
     "end_time": "2017-01-17T18:31:09.927544",
     "start_time": "2017-01-17T18:31:09.922051"
    },
    "collapsed": false
   },
   "outputs": [
    {
     "data": {
      "text/plain": [
       "array([[False, False, False,  True,  True,  True,  True,  True,  True,\n",
       "         True],\n",
       "       [False, False, False, False,  True,  True,  True,  True,  True,\n",
       "         True],\n",
       "       [False, False, False, False, False,  True,  True,  True,  True,\n",
       "         True],\n",
       "       [ True, False, False, False, False, False,  True,  True,  True,\n",
       "         True],\n",
       "       [ True,  True, False, False, False, False, False,  True,  True,\n",
       "         True],\n",
       "       [ True,  True,  True, False, False, False, False, False,  True,\n",
       "         True],\n",
       "       [ True,  True,  True,  True, False, False, False, False, False,\n",
       "         True],\n",
       "       [ True,  True,  True,  True,  True, False, False, False, False,\n",
       "        False],\n",
       "       [ True,  True,  True,  True,  True,  True, False, False, False,\n",
       "        False],\n",
       "       [ True,  True,  True,  True,  True,  True,  True, False, False,\n",
       "        False]], dtype=bool)"
      ]
     },
     "execution_count": 13,
     "metadata": {},
     "output_type": "execute_result"
    }
   ],
   "source": [
    "cdist(points_np, points_np)>15"
   ]
  },
  {
   "cell_type": "markdown",
   "metadata": {},
   "source": [
    "# MDAnalysis Data"
   ]
  },
  {
   "cell_type": "code",
   "execution_count": null,
   "metadata": {
    "ExecuteTime": {
     "end_time": "2017-01-16T15:47:04.777672",
     "start_time": "2017-01-16T15:47:04.737558"
    },
    "collapsed": false
   },
   "outputs": [],
   "source": [
    "CHUNKSIZE=4096\n",
    "point_array=da.from_npy_stack(os.path.join(OUT_DIR,'atom_pos_132K.npy_4096'))\n",
    "point_array.shape"
   ]
  },
  {
   "cell_type": "code",
   "execution_count": null,
   "metadata": {
    "ExecuteTime": {
     "end_time": "2017-01-16T15:47:05.656439",
     "start_time": "2017-01-16T15:47:05.652346"
    },
    "collapsed": false
   },
   "outputs": [],
   "source": [
    "dist_matrix = da.ones((point_array.shape[0],point_array.shape[0]), chunks=(CHUNKSIZE,CHUNKSIZE))"
   ]
  },
  {
   "cell_type": "code",
   "execution_count": null,
   "metadata": {
    "ExecuteTime": {
     "end_time": "2017-01-16T15:47:43.187035",
     "start_time": "2017-01-16T15:47:06.692642"
    },
    "collapsed": false
   },
   "outputs": [],
   "source": [
    "%%time\n",
    "\n",
    "#output_directory = os.path.join(OUT_DIR,'atom_pos_132K.npy_4096_out')\n",
    "#try: \n",
    "#    os.makedirs(output_directory)\n",
    "#except:\n",
    "#    pass\n",
    "\n",
    "distances = dist_matrix.map_blocks(map_block_distance).compute()\n",
    "#da.to_npy_stack(output_directory, distances)"
   ]
  },
  {
   "cell_type": "markdown",
   "metadata": {},
   "source": [
    "## Benchmark"
   ]
  },
  {
   "cell_type": "code",
   "execution_count": 7,
   "metadata": {
    "ExecuteTime": {
     "end_time": "2017-01-17T19:07:26.174424",
     "start_time": "2017-01-17T19:07:26.143291"
    },
    "collapsed": false
   },
   "outputs": [],
   "source": [
    "import os.path\n",
    "OUTPUT_DIRECTORY=\"/oasis/scratch/comet/luckow/temp_project/out\"\n",
    "def benchmark_dask_map_block(filename, cutoff=15, CHUNKSIZE=4096, number_threads=40, direct_output=True ):\n",
    "    global point_array\n",
    "    func_name = sys._getframe().f_code.co_name\n",
    "\n",
    "    results = []\n",
    "    start = time.time()\n",
    "    point_array=da.from_npy_stack(filename)\n",
    "    #print str(point_array.shape)\n",
    "    end_read = time.time()\n",
    "    results.append(\"%s,dask,%s,read_file, %.4f\"%(filename, func_name, end_read-start))\n",
    "    \n",
    "    dist_matrix = da.ones((point_array.shape[0],point_array.shape[0]), chunks=(CHUNKSIZE, CHUNKSIZE))\n",
    "    #with ProgressBar():\n",
    "    \n",
    "    \"\"\"map_block_distances operates on point_array \"\"\"\n",
    "    out =  dist_matrix.map_blocks(map_block_distance)\n",
    "    \n",
    "    # Log performance data\n",
    "    end_compute = -1\n",
    "    end_out_write = -1\n",
    "    outfile = os.path.join(OUTPUT_DIRECTORY, os.path.basename(filename) + \"_out.h5\")\n",
    "    #try: \n",
    "    #    os.makedirs(outfile) \n",
    "    #except: \n",
    "    #    pass\n",
    "    \n",
    "    if direct_output:\n",
    "        #da.to_npy_stack(outfile, out)    \n",
    "        out.to_hdf5(outfile, \"/o\", compression='lzf')\n",
    "        end_compute = time.time()\n",
    "        results.append(\"%s,dask,%s,compute_write, %.4f\"%(filename, func_name, end_compute-end_read))\n",
    "        results.append(\"%s,dask,%s,total, %.4f\"%(filename, func_name, end_compute-start))    \n",
    "    else:\n",
    "        out.compute()  \n",
    "        end_compute = time.time()\n",
    "        #print \"end compute\"\n",
    "        np.save(outfile, out)\n",
    "        end_out_write = time.time()            \n",
    "        results.append(\"%s,dask,%s,compute, %.4f\"%(filename, func_name, end_compute-end_read))\n",
    "        results.append(\"%s,dask,%s,write_file, %.4f\"%(filename, func_name, end_out_write-end_compute))\n",
    "        results.append(\"%s,dask,%s,total, %.4f\"%(filename, func_name, end_out_write-start))\n",
    "    \n",
    "    #os.remove(outfile)\n",
    "    print(\"\\n\".join(results))"
   ]
  },
  {
   "cell_type": "code",
   "execution_count": null,
   "metadata": {
    "ExecuteTime": {
     "start_time": "2017-01-18T03:07:27.391Z"
    },
    "collapsed": false
   },
   "outputs": [],
   "source": [
    "benchmark_dask_map_block('/oasis/scratch/comet/luckow/temp_project/npy_stack/atom_pos_839K.npy_8192')"
   ]
  },
  {
   "cell_type": "code",
   "execution_count": 5,
   "metadata": {
    "ExecuteTime": {
     "end_time": "2017-01-17T15:37:12.501525",
     "start_time": "2017-01-17T15:37:12.456720"
    },
    "collapsed": false
   },
   "outputs": [
    {
     "data": {
      "text/plain": [
       "['/oasis/scratch/comet/luckow/temp_project/npy_stack/atom_pos_145K.npy_8192',\n",
       " '/oasis/scratch/comet/luckow/temp_project/npy_stack/atom_pos_132K.npy_8192',\n",
       " '/oasis/scratch/comet/luckow/temp_project/npy_stack/atom_pos_291K.npy_8192',\n",
       " '/oasis/scratch/comet/luckow/temp_project/npy_stack/atom_pos_839K.npy_8192',\n",
       " '/oasis/scratch/comet/luckow/temp_project/npy_stack/atom_pos_291K.npy_4096',\n",
       " '/oasis/scratch/comet/luckow/temp_project/npy_stack/atom_pos_132K.npy_4096',\n",
       " '/oasis/scratch/comet/luckow/temp_project/npy_stack/atom_pos_145K.npy_4096',\n",
       " '/oasis/scratch/comet/luckow/temp_project/npy_stack/atom_pos_839K.npy_4096']"
      ]
     },
     "execution_count": 5,
     "metadata": {},
     "output_type": "execute_result"
    }
   ],
   "source": [
    "dask_scenarios = [os.path.abspath(os.path.join(OUT_DIR, i)) for i in os.listdir(OUT_DIR)]\n",
    "dask_scenarios"
   ]
  },
  {
   "cell_type": "code",
   "execution_count": null,
   "metadata": {
    "ExecuteTime": {
     "start_time": "2017-01-17T02:10:51.344Z"
    },
    "collapsed": false
   },
   "outputs": [
    {
     "name": "stdout",
     "output_type": "stream",
     "text": [
      "Process: /oasis/scratch/comet/luckow/temp_project/npy_stack/atom_pos_839K.npy_8192\n"
     ]
    }
   ],
   "source": [
    "for s in dask_scenarios:\n",
    "    if \"_8192\" in s and '839K' in s:\n",
    "        print \"Process: %s\"%s\n",
    "        benchmark_dask_map_block(s)"
   ]
  },
  {
   "cell_type": "markdown",
   "metadata": {},
   "source": [
    "# Test and Validation"
   ]
  },
  {
   "cell_type": "code",
   "execution_count": null,
   "metadata": {
    "ExecuteTime": {
     "end_time": "2017-01-16T11:30:47.943978",
     "start_time": "2017-01-16T11:30:47.929789"
    },
    "collapsed": true
   },
   "outputs": [],
   "source": [
    "p = np.arange(number_points*3).reshape(number_points,3)"
   ]
  },
  {
   "cell_type": "code",
   "execution_count": null,
   "metadata": {
    "ExecuteTime": {
     "end_time": "2017-01-16T11:30:47.944477",
     "start_time": "2017-01-16T19:30:17.060Z"
    },
    "collapsed": false
   },
   "outputs": [],
   "source": [
    "cdist(point_array, point_array)>Cutoff"
   ]
  },
  {
   "cell_type": "code",
   "execution_count": null,
   "metadata": {
    "ExecuteTime": {
     "end_time": "2017-01-16T11:30:47.944848",
     "start_time": "2017-01-16T19:30:17.834Z"
    },
    "collapsed": false
   },
   "outputs": [],
   "source": [
    "(1, 0) == (1, 1)"
   ]
  },
  {
   "cell_type": "code",
   "execution_count": null,
   "metadata": {
    "collapsed": true
   },
   "outputs": [],
   "source": []
  }
 ],
 "metadata": {
  "anaconda-cloud": {},
  "celltoolbar": "Initialisation Cell",
  "kernelspec": {
   "display_name": "Python [conda root]",
   "language": "python",
   "name": "conda-root-py"
  },
  "language_info": {
   "codemirror_mode": {
    "name": "ipython",
    "version": 2
   },
   "file_extension": ".py",
   "mimetype": "text/x-python",
   "name": "python",
   "nbconvert_exporter": "python",
   "pygments_lexer": "ipython2",
   "version": "2.7.12"
  },
  "toc": {
   "colors": {
    "hover_highlight": "#DAA520",
    "running_highlight": "#FF0000",
    "selected_highlight": "#FFD700"
   },
   "moveMenuLeft": true,
   "nav_menu": {
    "height": "68px",
    "width": "252px"
   },
   "navigate_menu": true,
   "number_sections": true,
   "sideBar": true,
   "threshold": 4,
   "toc_cell": false,
   "toc_section_display": "block",
   "toc_window_display": true
  }
 },
 "nbformat": 4,
 "nbformat_minor": 1
}
