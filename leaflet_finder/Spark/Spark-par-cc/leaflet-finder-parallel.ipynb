{
 "cells": [
  {
   "cell_type": "markdown",
   "metadata": {},
   "source": [
    "# Leaflet Finder\n"
   ]
  },
  {
   "cell_type": "markdown",
   "metadata": {},
   "source": [
    "credit to https://www.cs.rice.edu/~vs3/comp422/lecture-notes/comp422-lec24-s08-v2.pdf  page 38\n",
    "\n",
    "\n",
    "- partition the adjacency matrix across processors\n",
    "- run indepentent connected components on each processor (find_partial_connected_components)\n",
    "- merge spanning forests until one remains  (unify_components)\n",
    "\n",
    "For Merging:\n",
    "I use intersection and union functions:\n",
    "- intersection: I check if there is at least one common node, which means MSTs are connected\n",
    "- union: if there is a common node, I do union and add to the set of connected componnents, otherwise I add each node alone.\n",
    "\n",
    "I run the merging function pairwise, and repeat till only one list remain."
   ]
  },
  {
   "cell_type": "code",
   "execution_count": 1,
   "metadata": {
    "collapsed": true
   },
   "outputs": [],
   "source": [
    "filename = 'atom_pos_132K.npy'"
   ]
  },
  {
   "cell_type": "code",
   "execution_count": 75,
   "metadata": {
    "collapsed": false
   },
   "outputs": [],
   "source": [
    "import numpy as np\n",
    "coord_matrix = np.load(filename)\n",
    "coord_matrix = coord_matrix[:800]   # TODO: remove \n",
    "matrix_size = coord_matrix.shape[0] \n",
    "arranged_coord = list()"
   ]
  },
  {
   "cell_type": "code",
   "execution_count": 76,
   "metadata": {
    "collapsed": false
   },
   "outputs": [],
   "source": [
    "arranged_coord = list()\n",
    "part_size = 5\n",
    "for i in range(1,matrix_size+1,part_size):\n",
    "    for j in range(i,matrix_size,part_size):\n",
    "        # The arranged_elem contains a tuple with the data needed to calculate\n",
    "        # in a window. The first part of the tuple is a list that contains\n",
    "        # two numpy arrays. The second element has indices of the first element\n",
    "        # of both arrays.\n",
    "        arranged_elem = ([coord_matrix[i-1:i-1+part_size],coord_matrix[j-1:j-1+part_size]],[i,j])\n",
    "        arranged_coord.append(arranged_elem)"
   ]
  },
  {
   "cell_type": "code",
   "execution_count": 77,
   "metadata": {
    "collapsed": false
   },
   "outputs": [],
   "source": [
    "dist_Matrix = sc.parallelize(arranged_coord,len(arranged_coord))"
   ]
  },
  {
   "cell_type": "code",
   "execution_count": 78,
   "metadata": {
    "collapsed": false
   },
   "outputs": [],
   "source": [
    "connected_components = dist_Matrix.flatMap(find_partial_connected_components).reduce(merge_spanning_trees)"
   ]
  },
  {
   "cell_type": "code",
   "execution_count": 83,
   "metadata": {
    "collapsed": false
   },
   "outputs": [
    {
     "data": {
      "text/plain": [
       "[array([52]),\n",
       " array([111]),\n",
       " array([176]),\n",
       " array([211]),\n",
       " array([498]),\n",
       " array([628]),\n",
       " array([642, 643]),\n",
       " array([647]),\n",
       " array([672]),\n",
       " array([673]),\n",
       " array([675]),\n",
       " array([687]),\n",
       " array([698]),\n",
       " array([705]),\n",
       " array([712, 714, 715]),\n",
       " array([713]),\n",
       " array([716, 717]),\n",
       " array([718]),\n",
       " array([721, 722]),\n",
       " array([723]),\n",
       " array([724]),\n",
       " array([726, 727, 728, 729]),\n",
       " array([731, 732, 733, 734]),\n",
       " array([746, 749]),\n",
       " array([747, 748]),\n",
       " array([756]),\n",
       " array([757, 759]),\n",
       " array([758]),\n",
       " array([761, 762, 763]),\n",
       " array([766, 767, 768, 769, 770]),\n",
       " array([771]),\n",
       " array([773]),\n",
       " array([776, 777]),\n",
       " array([781, 782, 783]),\n",
       " array([786]),\n",
       " array([791, 792, 794, 795]),\n",
       " array([793]),\n",
       " array([796, 797, 799, 800]),\n",
       " array([798])]"
      ]
     },
     "execution_count": 83,
     "metadata": {},
     "output_type": "execute_result"
    }
   ],
   "source": []
  },
  {
   "cell_type": "markdown",
   "metadata": {},
   "source": [
    "## Merge spanning forests pairwise until only one remains"
   ]
  },
  {
   "cell_type": "code",
   "execution_count": 55,
   "metadata": {
    "collapsed": true
   },
   "outputs": [],
   "source": [
    "def merge_spanning_trees(c1,c2):\n",
    "    while len(c2)!=0:\n",
    "        temp = c2[0]\n",
    "        c2.pop(0)\n",
    "        for i,item in enumerate(c1):\n",
    "            if item.intersection(temp):\n",
    "                temp.union(item)\n",
    "                c1.pop(i)\n",
    "        c1.append(temp)\n",
    "    \n",
    "    return c1"
   ]
  },
  {
   "cell_type": "markdown",
   "metadata": {},
   "source": [
    "## Run Independent Conected components "
   ]
  },
  {
   "cell_type": "code",
   "execution_count": 6,
   "metadata": {
    "collapsed": false
   },
   "outputs": [],
   "source": [
    "def find_partial_connected_components(data,cutoff=15.00):\n",
    "    \n",
    "    window = data[0]\n",
    "    i_index = data[1][0]\n",
    "    j_index = data[1][1]\n",
    "    \n",
    "    import networkx as nx\n",
    "    graph = nx.Graph()\n",
    "\n",
    "    ## pairwise distances\n",
    "    for i in range(0,len(window[0])):\n",
    "        for j in range(0,len(window[1])):\n",
    "            if np.sqrt(sum((window[0][i] - window[1][j]) ** 2)) <= cutoff:\n",
    "                graph.add_edge(i+i_index,j+j_index)    # fix indexes\n",
    "                \n",
    "    # partial connected components\n",
    "    connected_components = nx.connected_components(graph)\n",
    "                        \n",
    "    for x in connected_components:\n",
    "        yield [x]\n"
   ]
  },
  {
   "cell_type": "code",
   "execution_count": 80,
   "metadata": {
    "collapsed": false
   },
   "outputs": [
    {
     "name": "stdout",
     "output_type": "stream",
     "text": [
      "ids: \n",
      "[0, 1, 2, 3, 4, 5, 6, 7, 8, 9, 10]\n",
      "4 + 3 \n",
      "ids: \n",
      "[0, 1, 2, 4, 4, 5, 6, 7, 8, 9, 10]\n",
      "3 + 8 \n",
      "ids: \n",
      "[0, 1, 2, 4, 4, 5, 6, 7, 4, 9, 10]\n",
      "6 + 5 \n",
      "ids: \n",
      "[0, 1, 2, 4, 4, 6, 6, 7, 4, 9, 10]\n",
      "9 + 4 \n",
      "ids: \n",
      "[0, 1, 2, 4, 4, 6, 6, 7, 4, 4, 10]\n",
      "2 + 1 \n",
      "ids: \n",
      "[0, 2, 2, 4, 4, 6, 6, 7, 4, 4, 10]\n",
      "ids: \n",
      "[0, 2, 2, 4, 4, 6, 6, 7, 4, 4, 10]\n",
      "5 + 0 \n",
      "ids: \n",
      "[6, 2, 2, 4, 4, 6, 6, 7, 4, 4, 10]\n",
      "7 + 2 \n",
      "ids: \n",
      "[6, 2, 2, 4, 4, 6, 6, 2, 4, 4, 10]\n",
      "6 + 1 \n",
      "ids: \n",
      "[6, 2, 6, 4, 4, 6, 6, 2, 4, 4, 10]\n",
      "ids: \n",
      "[6, 6, 6, 4, 4, 6, 6, 2, 4, 4, 10]\n"
     ]
    }
   ],
   "source": [
    "## Test union find\n",
    "a = [4,3,6,9,2,8,5,7,6,1,6]\n",
    "b = [3,8,5,4,1,9,0,2,1,0,0]\n",
    "\n",
    "uf = QuickUnionUF(len(a))\n",
    "\n",
    "for i in xrange(len(a)):\n",
    "    p = a[i]\n",
    "    q = b[i]\n",
    "    print 'ids: '\n",
    "    print uf.ids\n",
    "    \n",
    "    if not uf.connected(p,q):\n",
    "        uf.union(p,q)\n",
    "        print \"%d + %d \"  % (p,q)\n",
    "        \n",
    "        \n",
    "## Sucess!!!!!\n",
    "\n",
    "        \n",
    "        \n",
    "        \n",
    "    \n"
   ]
  },
  {
   "cell_type": "code",
   "execution_count": 79,
   "metadata": {
    "collapsed": false
   },
   "outputs": [],
   "source": [
    "class QuickUnionUF:\n",
    "    ids = []  # ints\n",
    "    sz = []   # I guess\n",
    "    \n",
    "    def __init__(self,N):\n",
    "        for i in xrange(N):\n",
    "            QuickUnionUF.ids.append(i)\n",
    "            QuickUnionUF.sz.append(1)  # i guess\n",
    "            \n",
    "    \n",
    "    def root(self,i):\n",
    "        while (i!=self.ids[i]):\n",
    "            self.ids[i] = self.ids[self.ids[i]]\n",
    "            i =  self.ids[i]\n",
    "        return i  \n",
    "        \n",
    "    def connected(self,p,q):\n",
    "        return self.root(p) == self.root(q)\n",
    "    \n",
    "    def union(self,p,q):\n",
    "        pid = self.ids[p]\n",
    "        qid = self.ids[q]\n",
    "        \n",
    "        if pid==qid:\n",
    "            return\n",
    "        \n",
    "        if self.sz[pid] < self.sz[qid]:\n",
    "            self.ids[pid] = qid\n",
    "            self.sz[qid] += self.sz[pid]\n",
    "        else:\n",
    "            self.ids[qid] = pid\n",
    "            self.sz[pid] += self.sz[qid]"
   ]
  },
  {
   "cell_type": "code",
   "execution_count": 32,
   "metadata": {
    "collapsed": true
   },
   "outputs": [],
   "source": [
    " a = [{1,2,3,4,5},{7,8,9,45},{34,21,66}]"
   ]
  },
  {
   "cell_type": "code",
   "execution_count": 33,
   "metadata": {
    "collapsed": false
   },
   "outputs": [
    {
     "data": {
      "text/plain": [
       "[{1, 2, 3, 4, 5}, {7, 8, 9, 45}, {21, 34, 66}]"
      ]
     },
     "execution_count": 33,
     "metadata": {},
     "output_type": "execute_result"
    }
   ],
   "source": [
    "a"
   ]
  },
  {
   "cell_type": "code",
   "execution_count": 35,
   "metadata": {
    "collapsed": false
   },
   "outputs": [],
   "source": [
    "del a[1]"
   ]
  },
  {
   "cell_type": "code",
   "execution_count": 37,
   "metadata": {
    "collapsed": false
   },
   "outputs": [],
   "source": [
    "a.append({7, 8, 9, 45})"
   ]
  },
  {
   "cell_type": "code",
   "execution_count": 69,
   "metadata": {
    "collapsed": false
   },
   "outputs": [],
   "source": [
    "a.append(b)"
   ]
  },
  {
   "cell_type": "code",
   "execution_count": 68,
   "metadata": {
    "collapsed": true
   },
   "outputs": [],
   "source": [
    "b = {3,4,5}"
   ]
  },
  {
   "cell_type": "code",
   "execution_count": 70,
   "metadata": {
    "collapsed": false
   },
   "outputs": [
    {
     "data": {
      "text/plain": [
       "[{1, 2, 3, 4, 5}, {21, 34, 66}, {7, 8, 9, 45}, {3, 4, 5}]"
      ]
     },
     "execution_count": 70,
     "metadata": {},
     "output_type": "execute_result"
    }
   ],
   "source": []
  },
  {
   "cell_type": "code",
   "execution_count": 73,
   "metadata": {
    "collapsed": false
   },
   "outputs": [],
   "source": [
    "aa = [{1, 2, 3, 5},\n",
    " {4},\n",
    " {1, 2, 3, 5, 6, 7, 8, 9},\n",
    " {1, 2, 3, 5, 12},\n",
    " {4, 13},\n",
    " {1, 2, 3, 5, 19, 20},\n",
    " {2, 3, 21, 22},]"
   ]
  },
  {
   "cell_type": "code",
   "execution_count": 81,
   "metadata": {
    "collapsed": true
   },
   "outputs": [],
   "source": [
    "x = sc.parallelize({1, 2, 3, 5,6,7,8})\n",
    "y = sc.parallelize({4,5})"
   ]
  },
  {
   "cell_type": "code",
   "execution_count": 82,
   "metadata": {
    "collapsed": false
   },
   "outputs": [
    {
     "data": {
      "text/plain": [
       "[1, 2, 3, 5, 4, 5]"
      ]
     },
     "execution_count": 82,
     "metadata": {},
     "output_type": "execute_result"
    }
   ],
   "source": [
    "x.union(y).collect()"
   ]
  },
  {
   "cell_type": "code",
   "execution_count": 84,
   "metadata": {
    "collapsed": false
   },
   "outputs": [
    {
     "data": {
      "text/plain": [
       "ParallelCollectionRDD[68] at parallelize at PythonRDD.scala:475"
      ]
     },
     "execution_count": 84,
     "metadata": {},
     "output_type": "execute_result"
    }
   ],
   "source": [
    "sc.parallelize({1, 2, 3, 5,6,7,8},2)\n"
   ]
  },
  {
   "cell_type": "code",
   "execution_count": 89,
   "metadata": {
    "collapsed": true
   },
   "outputs": [],
   "source": [
    "c1 = {1, 2, 3, 5}\n",
    "c2 =  {4,5}"
   ]
  },
  {
   "cell_type": "code",
   "execution_count": 90,
   "metadata": {
    "collapsed": false
   },
   "outputs": [
    {
     "data": {
      "text/plain": [
       "{5}"
      ]
     },
     "execution_count": 90,
     "metadata": {},
     "output_type": "execute_result"
    }
   ],
   "source": [
    "c1.intersection(c2)"
   ]
  },
  {
   "cell_type": "code",
   "execution_count": 10,
   "metadata": {
    "collapsed": true
   },
   "outputs": [],
   "source": [
    "aa = [[{1, 2, 3, 5}],  [{4}],  [{1, 2, 3, 5, 6, 7, 8, 9}],  [{1, 2, 3, 5, 12}], [{4, 13}], [{1, 2, 3, 5, 19, 20}],\n",
    " [{2, 3, 21, 22}], [{4, 23, 24, 25}], [{4, 26, 27}], [{1, 5, 33, 34, 35}]]"
   ]
  },
  {
   "cell_type": "code",
   "execution_count": 45,
   "metadata": {
    "collapsed": false
   },
   "outputs": [],
   "source": [
    "def test (c1,c2):\n",
    "    while len(c2)!=0:\n",
    "        temp = c2[0]\n",
    "        c2.pop(0)\n",
    "        for i,item in enumerate(c1):\n",
    "            if item.intersection(temp):\n",
    "                temp.union(item)\n",
    "                c1.pop(i)\n",
    "        c1.append(temp)\n",
    "    return c1\n"
   ]
  },
  {
   "cell_type": "code",
   "execution_count": 46,
   "metadata": {
    "collapsed": false
   },
   "outputs": [
    {
     "name": "stdout",
     "output_type": "stream",
     "text": [
      "set([1, 2, 3, 5])\n"
     ]
    }
   ],
   "source": [
    "test(aa[0],[{1, 2, 3, 5},{4,5,6,7}])"
   ]
  },
  {
   "cell_type": "code",
   "execution_count": 25,
   "metadata": {
    "collapsed": true
   },
   "outputs": [],
   "source": [
    "c2 = [{1}]"
   ]
  },
  {
   "cell_type": "code",
   "execution_count": 27,
   "metadata": {
    "collapsed": false
   },
   "outputs": [
    {
     "data": {
      "text/plain": [
       "{1}"
      ]
     },
     "execution_count": 27,
     "metadata": {},
     "output_type": "execute_result"
    }
   ],
   "source": [
    "c2.pop(0)"
   ]
  },
  {
   "cell_type": "code",
   "execution_count": 51,
   "metadata": {
    "collapsed": false
   },
   "outputs": [],
   "source": [
    "c2 = [{1, 2, 3, 5},{4,5,6,7}]"
   ]
  },
  {
   "cell_type": "code",
   "execution_count": 53,
   "metadata": {
    "collapsed": false
   },
   "outputs": [
    {
     "name": "stdout",
     "output_type": "stream",
     "text": [
      "set([1, 2, 3, 5])\n",
      "set([4, 5, 6, 7])\n"
     ]
    }
   ],
   "source": [
    "for i,item in enumerate(c2):\n",
    "    print item"
   ]
  },
  {
   "cell_type": "code",
   "execution_count": 49,
   "metadata": {
    "collapsed": false
   },
   "outputs": [
    {
     "data": {
      "text/plain": [
       "[{4, 5, 6, 7}]"
      ]
     },
     "execution_count": 49,
     "metadata": {},
     "output_type": "execute_result"
    }
   ],
   "source": [
    "c2"
   ]
  },
  {
   "cell_type": "code",
   "execution_count": 54,
   "metadata": {
    "collapsed": false
   },
   "outputs": [
    {
     "name": "stdout",
     "output_type": "stream",
     "text": [
      "set([1])\n"
     ]
    }
   ],
   "source": []
  },
  {
   "cell_type": "code",
   "execution_count": null,
   "metadata": {
    "collapsed": true
   },
   "outputs": [],
   "source": []
  }
 ],
 "metadata": {
  "anaconda-cloud": {},
  "kernelspec": {
   "display_name": "Python [conda root]",
   "language": "python",
   "name": "conda-root-py"
  },
  "language_info": {
   "codemirror_mode": {
    "name": "ipython",
    "version": 2
   },
   "file_extension": ".py",
   "mimetype": "text/x-python",
   "name": "python",
   "nbconvert_exporter": "python",
   "pygments_lexer": "ipython2",
   "version": "2.7.12"
  }
 },
 "nbformat": 4,
 "nbformat_minor": 1
}
