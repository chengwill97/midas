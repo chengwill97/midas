{
 "cells": [
  {
   "cell_type": "code",
   "execution_count": 1,
   "metadata": {
    "collapsed": true
   },
   "outputs": [],
   "source": [
    "from pyspark import SparkContext\n",
    "import numpy as np\n",
    "from sklearn.neighbors import NearestNeighbors, BallTree, KDTree"
   ]
  },
  {
   "cell_type": "code",
   "execution_count": 2,
   "metadata": {
    "collapsed": true
   },
   "outputs": [],
   "source": [
    "def find_partial_connected_components(data,cutoff=15.0):\n",
    "\n",
    "    import networkx as nx\n",
    "    import numpy as np\n",
    "    from sklearn.neighbors import BallTree\n",
    "    \n",
    "    tree = BallTree(data, leaf_size=40)\n",
    "    edges = tree.query_radius(data, cutoff)\n",
    "    edge_list=[list(zip(np.repeat(idx, len(dest_list)), \\\n",
    "            dest_list)) for idx, dest_list in enumerate(edges)]\n",
    "\n",
    "    edge_list_flat = np.array([list(item) \\\n",
    "            for sublist in edge_list for item in sublist])\n",
    "    res = edge_list_flat\n",
    "    res_tree = edge_list_flat[edge_list_flat[:,0]<edge_list_flat[:,1], :]\n",
    "\n",
    "    graph =nx.from_edgelist(res_tree)\n",
    "\n",
    "    # partial connected components\n",
    "\n",
    "    connected_components = nx.connected_components(graph)\n",
    "    for x in connected_components:\n",
    "        yield [x]"
   ]
  },
  {
   "cell_type": "code",
   "execution_count": 3,
   "metadata": {
    "collapsed": true
   },
   "outputs": [],
   "source": [
    "def merge_spanning_trees(c1,c2):\n",
    "    while len(c2)!=0:\n",
    "        temp = c2[0]\n",
    "        c2.pop(0)\n",
    "        for i,item in enumerate(c1):\n",
    "            if item.intersection(temp):\n",
    "                temp.union(item)\n",
    "                c1.pop(i)\n",
    "        c1.append(temp)\n",
    "        \n",
    "    return c1"
   ]
  },
  {
   "cell_type": "code",
   "execution_count": 7,
   "metadata": {
    "collapsed": true
   },
   "outputs": [],
   "source": [
    "filename = '/Users/giorgos/repos/midas/leaflet_finder/132k_dataset/atom_pos_132K.npy'\n",
    "coord_matrix = np.load(filename)  #points_local_np\n",
    "matrix_size = coord_matrix.shape[0]\n",
    "partition_length = matrix_size/10   # Fix this: task size\n",
    "\n",
    "arranged_coord = list()\n",
    "for i in range(0,matrix_size,partition_length):\n",
    "    arranged_elem = coord_matrix[i:i+partition_length,:]\n",
    "    arranged_coord.append(arranged_elem)\n",
    "\n",
    "dist_Matrix = sc.parallelize(arranged_coord,len(arranged_coord))\n",
    "connected_components = dist_Matrix.flatMap(find_partial_connected_components).reduce(merge_spanning_trees)\n",
    "indices = [np.sort(list(g)) for g in connected_components]"
   ]
  },
  {
   "cell_type": "code",
   "execution_count": null,
   "metadata": {
    "collapsed": true
   },
   "outputs": [],
   "source": []
  }
 ],
 "metadata": {
  "anaconda-cloud": {},
  "kernelspec": {
   "display_name": "Python [conda root]",
   "language": "python",
   "name": "conda-root-py"
  },
  "language_info": {
   "codemirror_mode": {
    "name": "ipython",
    "version": 2
   },
   "file_extension": ".py",
   "mimetype": "text/x-python",
   "name": "python",
   "nbconvert_exporter": "python",
   "pygments_lexer": "ipython2",
   "version": "2.7.12"
  }
 },
 "nbformat": 4,
 "nbformat_minor": 1
}
