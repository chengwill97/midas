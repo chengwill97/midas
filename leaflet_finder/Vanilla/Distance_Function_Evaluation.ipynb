{
 "cells": [
  {
   "cell_type": "markdown",
   "metadata": {
    "ExecuteTime": {
     "end_time": "2017-01-03T23:00:18.318997",
     "start_time": "2017-01-03T23:00:18.314027"
    }
   },
   "source": [
    "# Preparation and Reading Input Data"
   ]
  },
  {
   "cell_type": "code",
   "execution_count": 81,
   "metadata": {
    "ExecuteTime": {
     "end_time": "2017-01-03T23:00:37.579651",
     "start_time": "2017-01-03T23:00:37.570563"
    },
    "collapsed": true,
    "run_control": {
     "frozen": false,
     "read_only": false
    }
   },
   "outputs": [],
   "source": [
    "import sys\n",
    "import numpy as np\n",
    "\n",
    "def get_distance(Atom1, Atom2):\n",
    "    # Calculate Euclidean distance. 1-D and 3-D in the future\n",
    "    return np.sqrt(sum((Atom1 - Atom2) ** 2))\n",
    "\n",
    "def n_dim_input_to_numpy_array(temp):\n",
    "    temp = temp.split(',')\n",
    "    temp = map(float,temp)\n",
    "    return np.asfarray(temp)\n",
    "    calc_count = calc_count +1"
   ]
  },
  {
   "cell_type": "code",
   "execution_count": 82,
   "metadata": {
    "ExecuteTime": {
     "end_time": "2017-01-03T23:00:37.968999",
     "start_time": "2017-01-03T23:00:37.913309"
    },
    "collapsed": true,
    "run_control": {
     "frozen": false,
     "read_only": false
    }
   },
   "outputs": [],
   "source": [
    "%timeit\n",
    "#----------------------Reading Input File-------------------------------#\n",
    "read_file = open('input.txt')\n",
    "atoms = list()\n",
    "for count, line in enumerate(read_file):\n",
    "    if count == total_file_lines+1 or count >= reading_start_point_i+WINDOW_SIZE:\n",
    "        break\n",
    "    if count >= reading_start_point_i and count <reading_start_point_i+WINDOW_SIZE:\n",
    "        atoms.append(n_dim_input_to_numpy_array(line))"
   ]
  },
  {
   "cell_type": "code",
   "execution_count": 83,
   "metadata": {
    "ExecuteTime": {
     "end_time": "2017-01-03T23:00:38.371881",
     "start_time": "2017-01-03T23:00:38.368490"
    },
    "collapsed": true,
    "run_control": {
     "frozen": false,
     "read_only": false
    }
   },
   "outputs": [],
   "source": [
    "WINDOW_SIZE = 145746\n",
    "reading_start_point_i = 0\n",
    "j_dim = 0\n",
    "total_file_lines =  145746\n",
    "cutoff = 15"
   ]
  },
  {
   "cell_type": "code",
   "execution_count": 84,
   "metadata": {
    "ExecuteTime": {
     "end_time": "2017-01-03T23:00:38.782012",
     "start_time": "2017-01-03T23:00:38.776929"
    },
    "collapsed": true,
    "run_control": {
     "frozen": false,
     "read_only": false
    }
   },
   "outputs": [],
   "source": [
    "# That means that we are not calculating the elements of the main diagonal which are the same.\n",
    "# We do calculate differnt atoms\n",
    "if reading_start_point_i!=j_dim:\n",
    "    atomsY = list()\n",
    "    atomsY.append(n_dim_input_to_numpy_array(line)) # already read from previous for-loop\n",
    "    for countY, line in enumerate(read_file):\n",
    "        if countY > j_dim + WINDOW_SIZE-count-1:\n",
    "            break\n",
    "        if countY >= j_dim-count and countY < j_dim + WINDOW_SIZE-count-1:  #-1 because we already appended the first line \n",
    "            atomsY.append(n_dim_input_to_numpy_array(line))\n",
    "read_file.close()"
   ]
  },
  {
   "cell_type": "code",
   "execution_count": 86,
   "metadata": {
    "ExecuteTime": {
     "end_time": "2017-01-03T23:00:47.222339",
     "start_time": "2017-01-03T23:00:47.216099"
    },
    "collapsed": false,
    "run_control": {
     "frozen": false,
     "read_only": false
    }
   },
   "outputs": [
    {
     "data": {
      "text/plain": [
       "[array([ 458.09997559,  510.39996338,   59.09999847]),\n",
       " array([ 453.69998169,  525.39996338,   53.5       ]),\n",
       " array([ 448.5       ,  524.39996338,   49.5       ]),\n",
       " array([ 434.29998779,  508.99996948,   56.59999847]),\n",
       " array([ 459.29998779,  516.79998779,   55.79999924])]"
      ]
     },
     "execution_count": 86,
     "metadata": {},
     "output_type": "execute_result"
    }
   ],
   "source": [
    "atoms[:5]"
   ]
  },
  {
   "cell_type": "markdown",
   "metadata": {
    "ExecuteTime": {
     "end_time": "2017-01-02T22:18:48.862526",
     "start_time": "2017-01-03T03:15:37.709Z"
    }
   },
   "source": [
    "# Distance Calculation"
   ]
  },
  {
   "cell_type": "code",
   "execution_count": 87,
   "metadata": {
    "ExecuteTime": {
     "end_time": "2017-01-03T23:00:53.578156",
     "start_time": "2017-01-03T23:00:53.575431"
    },
    "collapsed": false
   },
   "outputs": [],
   "source": [
    "a=atoms[:10]"
   ]
  },
  {
   "cell_type": "markdown",
   "metadata": {
    "ExecuteTime": {
     "end_time": "2017-01-03T20:52:39.178877",
     "start_time": "2017-01-03T20:52:39.176476"
    }
   },
   "source": [
    "## Giannis"
   ]
  },
  {
   "cell_type": "code",
   "execution_count": 88,
   "metadata": {
    "ExecuteTime": {
     "end_time": "2017-01-03T23:00:54.463253",
     "start_time": "2017-01-03T23:00:54.448079"
    },
    "collapsed": false,
    "run_control": {
     "frozen": false,
     "read_only": false
    }
   },
   "outputs": [
    {
     "name": "stdout",
     "output_type": "stream",
     "text": [
      "CPU times: user 2 µs, sys: 3 µs, total: 5 µs\n",
      "Wall time: 16.9 µs\n"
     ]
    }
   ],
   "source": [
    "%time\n",
    "# the difference is that in the Cus compute data that are in main diagonal compute half of the elements \n",
    "# because table is symmetric, so the second loop can be half in the first case \n",
    "\n",
    "WINDOW_SIZE=len(a)\n",
    "distances=np.empty((WINDOW_SIZE, WINDOW_SIZE), dtype='bool')\n",
    "\n",
    "for i in range(0, WINDOW_SIZE):\n",
    "    for j in range(i+1,WINDOW_SIZE):\n",
    "        dist = get_distance(a[i],a[j])  \n",
    "        if dist<=cutoff:\n",
    "            distances[i][j]=True \n",
    "        else:\n",
    "            distances[i][j]=False\n",
    "\n",
    "np.save(\"distances_%d_%d.npz.npy\" % (reading_start_point_i,j_dim),distances)"
   ]
  },
  {
   "cell_type": "markdown",
   "metadata": {},
   "source": [
    "## Python Plain NumPy"
   ]
  },
  {
   "cell_type": "code",
   "execution_count": 89,
   "metadata": {
    "ExecuteTime": {
     "end_time": "2017-01-03T23:00:55.994550",
     "start_time": "2017-01-03T23:00:55.991178"
    },
    "collapsed": false,
    "run_control": {
     "frozen": false,
     "read_only": false
    }
   },
   "outputs": [],
   "source": [
    "import sklearn.metrics.pairwise\n",
    "import numpy as np\n",
    "import random\n",
    "import sklearn.metrics.pairwise\n",
    "import scipy.spatial.distance\n",
    "from scipy.spatial.distance import cdist"
   ]
  },
  {
   "cell_type": "code",
   "execution_count": 90,
   "metadata": {
    "ExecuteTime": {
     "end_time": "2017-01-03T23:00:56.668436",
     "start_time": "2017-01-03T23:00:56.661578"
    },
    "collapsed": false
   },
   "outputs": [
    {
     "name": "stdout",
     "output_type": "stream",
     "text": [
      "CPU times: user 164 µs, sys: 627 µs, total: 791 µs\n",
      "Wall time: 2.85 ms\n"
     ]
    }
   ],
   "source": [
    "%%time\n",
    "a_np=np.stack((a), axis=0)"
   ]
  },
  {
   "cell_type": "code",
   "execution_count": 91,
   "metadata": {
    "ExecuteTime": {
     "end_time": "2017-01-03T23:00:57.508643",
     "start_time": "2017-01-03T23:00:57.503789"
    },
    "collapsed": false
   },
   "outputs": [
    {
     "data": {
      "text/plain": [
       "array([[ 458.09997559,  510.39996338,   59.09999847],\n",
       "       [ 453.69998169,  525.39996338,   53.5       ],\n",
       "       [ 448.5       ,  524.39996338,   49.5       ],\n",
       "       [ 434.29998779,  508.99996948,   56.59999847],\n",
       "       [ 459.29998779,  516.79998779,   55.79999924],\n",
       "       [ 464.3999939 ,  504.59997559,   65.59999847],\n",
       "       [ 449.59997559,  510.70001221,   59.09999847],\n",
       "       [ 447.5       ,  501.69998169,   56.79999924],\n",
       "       [ 447.89996338,  518.59997559,   52.79999542],\n",
       "       [ 445.09997559,  541.20001221,   47.99999619]])"
      ]
     },
     "execution_count": 91,
     "metadata": {},
     "output_type": "execute_result"
    }
   ],
   "source": [
    "a_np"
   ]
  },
  {
   "cell_type": "code",
   "execution_count": 78,
   "metadata": {
    "ExecuteTime": {
     "end_time": "2017-01-03T22:59:38.380011",
     "start_time": "2017-01-03T22:59:27.987235"
    },
    "collapsed": true
   },
   "outputs": [],
   "source": [
    "dist_sq = np.sqrt(np.sum((a_np[:,np.newaxis,:] - a_np[np.newaxis,:,:]) ** 2, axis=-1))"
   ]
  },
  {
   "cell_type": "markdown",
   "metadata": {},
   "source": [
    "## Scikit"
   ]
  },
  {
   "cell_type": "code",
   "execution_count": 77,
   "metadata": {
    "ExecuteTime": {
     "end_time": "2017-01-03T22:59:22.165324",
     "start_time": "2017-01-03T22:59:21.500675"
    },
    "collapsed": false,
    "scrolled": true
   },
   "outputs": [
    {
     "data": {
      "text/plain": [
       "array([[   0.        ,   16.60481645,   19.50178202, ...,  655.08041998,\n",
       "         651.44640112,  658.14603218],\n",
       "       [  16.60481645,    0.        ,    6.63624966, ...,  669.47429722,\n",
       "         665.89654672,  672.40594688],\n",
       "       [  19.50178202,    6.63624966,    0.        , ...,  671.35132061,\n",
       "         667.80512978,  674.14992307],\n",
       "       ..., \n",
       "       [ 655.08041998,  669.47429722,  671.35132061, ...,    0.        ,\n",
       "           6.51844584,   17.1149026 ],\n",
       "       [ 651.44640112,  665.89654672,  667.80512978, ...,    6.51844584,\n",
       "           0.        ,   23.00107492],\n",
       "       [ 658.14603218,  672.40594688,  674.14992307, ...,   17.1149026 ,\n",
       "          23.00107492,    0.        ]])"
      ]
     },
     "execution_count": 77,
     "metadata": {},
     "output_type": "execute_result"
    }
   ],
   "source": [
    "cdist(a_np, a_np, 'euclidean')"
   ]
  },
  {
   "cell_type": "markdown",
   "metadata": {
    "ExecuteTime": {
     "end_time": "2017-01-03T22:18:08.958065",
     "start_time": "2017-01-03T22:18:08.955374"
    }
   },
   "source": [
    "# MXNet"
   ]
  },
  {
   "cell_type": "code",
   "execution_count": 74,
   "metadata": {
    "ExecuteTime": {
     "end_time": "2017-01-03T22:58:23.851812",
     "start_time": "2017-01-03T22:58:23.846605"
    },
    "collapsed": false
   },
   "outputs": [],
   "source": [
    "import mxnet as mx"
   ]
  },
  {
   "cell_type": "code",
   "execution_count": 92,
   "metadata": {
    "ExecuteTime": {
     "end_time": "2017-01-03T23:01:13.405664",
     "start_time": "2017-01-03T23:01:13.278065"
    },
    "collapsed": false
   },
   "outputs": [],
   "source": [
    "a_mx=mx.nd.array(a_np)\n",
    "diff=(mx.ndarray.power(a_mx.reshape((1, a_mx.shape[0], a_mx.shape[1])) - a_mx.reshape((a_mx.shape[0], 1, a_mx.shape[1])), 2))\n",
    "dist=mx.ndarray.sqrt(mx.ndarray.sum_axis(diff, axis=2)).asnumpy()"
   ]
  },
  {
   "cell_type": "code",
   "execution_count": 93,
   "metadata": {
    "ExecuteTime": {
     "end_time": "2017-01-03T23:01:18.572963",
     "start_time": "2017-01-03T23:01:18.566730"
    },
    "collapsed": false
   },
   "outputs": [
    {
     "data": {
      "text/plain": [
       "array([[  0.        ,  16.60481644,  19.50178337,  23.97184563,\n",
       "          7.30002308,  10.75081825,   8.50529385,  13.90464497,\n",
       "         14.52482319,  35.22574615],\n",
       "       [ 16.60481644,   0.        ,   6.63624954,  25.59159088,\n",
       "         10.51711178,  26.33514214,  16.25603294,  24.71879768,\n",
       "          8.96493435,  18.81094551],\n",
       "       [ 19.50178337,   6.63624954,   0.        ,  22.1180954 ,\n",
       "         14.63179302,  30.06757736,  16.76480293,  23.86585808,\n",
       "          6.69999027,  17.20615578],\n",
       "       [ 23.97184563,  25.59159088,  22.1180954 ,   0.        ,\n",
       "         26.20076942,  31.72333908,  15.59582615,  15.08542824,\n",
       "         17.0751133 ,  35.03487778],\n",
       "       [  7.30002308,  10.51711178,  14.63179302,  26.20076942,\n",
       "          0.        ,  16.45874786,  11.92434216,  19.18983841,\n",
       "         11.92478657,  29.2889328 ],\n",
       "       [ 10.75081825,  26.33514214,  30.06757736,  31.72333908,\n",
       "         16.45874786,   0.        ,  17.27718163,  19.27329254,\n",
       "         25.14142036,  44.96458054],\n",
       "       [  8.50529385,  16.25603294,  16.76480293,  15.59582615,\n",
       "         11.92434216,  17.27718163,   0.        ,   9.52367783,\n",
       "         10.24643803,  32.76751709],\n",
       "       [ 13.90464497,  24.71879768,  23.86585808,  15.08542824,\n",
       "         19.18983841,  19.27329254,   9.52367783,   0.        ,\n",
       "         17.3715229 ,  40.53952026],\n",
       "       [ 14.52482319,   8.96493435,   6.69999027,  17.0751133 ,\n",
       "         11.92478657,  25.14142036,  10.24643803,  17.3715229 ,\n",
       "          0.        ,  23.27319336],\n",
       "       [ 35.22574615,  18.81094551,  17.20615578,  35.03487778,\n",
       "         29.2889328 ,  44.96458054,  32.76751709,  40.53952026,\n",
       "         23.27319336,   0.        ]], dtype=float32)"
      ]
     },
     "execution_count": 93,
     "metadata": {},
     "output_type": "execute_result"
    }
   ],
   "source": [
    "dist"
   ]
  },
  {
   "cell_type": "markdown",
   "metadata": {},
   "source": [
    "# Tensorflow"
   ]
  },
  {
   "cell_type": "code",
   "execution_count": 94,
   "metadata": {
    "ExecuteTime": {
     "end_time": "2017-01-03T23:01:48.989317",
     "start_time": "2017-01-03T23:01:47.924174"
    },
    "collapsed": true
   },
   "outputs": [],
   "source": [
    "import tensorflow as tf"
   ]
  },
  {
   "cell_type": "code",
   "execution_count": 95,
   "metadata": {
    "ExecuteTime": {
     "end_time": "2017-01-03T23:01:55.688630",
     "start_time": "2017-01-03T23:01:55.685045"
    },
    "collapsed": false
   },
   "outputs": [
    {
     "data": {
      "text/plain": [
       "'0.11.0rc0'"
      ]
     },
     "execution_count": 95,
     "metadata": {},
     "output_type": "execute_result"
    }
   ],
   "source": [
    "tf.__version__"
   ]
  },
  {
   "cell_type": "markdown",
   "metadata": {},
   "source": [
    "# Testing and Playing around with Numpy Broadcasting"
   ]
  },
  {
   "cell_type": "code",
   "execution_count": 10,
   "metadata": {
    "ExecuteTime": {
     "end_time": "2017-01-03T22:26:51.569029",
     "start_time": "2017-01-03T22:26:51.564594"
    },
    "collapsed": false
   },
   "outputs": [
    {
     "data": {
      "text/plain": [
       "array([[0, 1, 2],\n",
       "       [3, 4, 5]])"
      ]
     },
     "execution_count": 10,
     "metadata": {},
     "output_type": "execute_result"
    }
   ],
   "source": [
    "a_np = np.arange(6).reshape(2,3)\n",
    "a_np"
   ]
  },
  {
   "cell_type": "code",
   "execution_count": 67,
   "metadata": {
    "ExecuteTime": {
     "end_time": "2017-01-03T22:03:19.313242",
     "start_time": "2017-01-03T22:03:19.310443"
    },
    "collapsed": false
   },
   "outputs": [],
   "source": [
    "x=a_np[:, np.newaxis, :]\n",
    "y=a_np[np.newaxis,:,:]"
   ]
  },
  {
   "cell_type": "code",
   "execution_count": 69,
   "metadata": {
    "ExecuteTime": {
     "end_time": "2017-01-03T22:03:21.177477",
     "start_time": "2017-01-03T22:03:21.173484"
    },
    "collapsed": false
   },
   "outputs": [
    {
     "data": {
      "text/plain": [
       "(1, 2, 3)"
      ]
     },
     "execution_count": 69,
     "metadata": {},
     "output_type": "execute_result"
    }
   ],
   "source": [
    "y.shape"
   ]
  },
  {
   "cell_type": "code",
   "execution_count": 70,
   "metadata": {
    "ExecuteTime": {
     "end_time": "2017-01-03T22:03:22.113943",
     "start_time": "2017-01-03T22:03:22.110225"
    },
    "collapsed": false
   },
   "outputs": [
    {
     "data": {
      "text/plain": [
       "(2, 2, 3)"
      ]
     },
     "execution_count": 70,
     "metadata": {},
     "output_type": "execute_result"
    }
   ],
   "source": [
    "(x-y).shape"
   ]
  }
 ],
 "metadata": {
  "kernelspec": {
   "display_name": "Python 2",
   "language": "python",
   "name": "python2"
  },
  "language_info": {
   "codemirror_mode": {
    "name": "ipython",
    "version": 2
   },
   "file_extension": ".py",
   "mimetype": "text/x-python",
   "name": "python",
   "nbconvert_exporter": "python",
   "pygments_lexer": "ipython2",
   "version": "2.7.11"
  },
  "toc": {
   "colors": {
    "hover_highlight": "#DAA520",
    "running_highlight": "#FF0000",
    "selected_highlight": "#FFD700"
   },
   "moveMenuLeft": true,
   "nav_menu": {
    "height": "30px",
    "width": "252px"
   },
   "navigate_menu": true,
   "number_sections": true,
   "sideBar": true,
   "threshold": 4,
   "toc_cell": false,
   "toc_section_display": "block",
   "toc_window_display": false
  }
 },
 "nbformat": 4,
 "nbformat_minor": 0
}
