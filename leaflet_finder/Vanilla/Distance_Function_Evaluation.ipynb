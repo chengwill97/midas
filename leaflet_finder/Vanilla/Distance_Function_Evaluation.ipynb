{
 "cells": [
  {
   "cell_type": "markdown",
   "metadata": {
    "ExecuteTime": {
     "end_time": "2017-01-03T23:00:18.318997",
     "start_time": "2017-01-03T23:00:18.314027"
    }
   },
   "source": [
    "# Preparation and Reading Input Data"
   ]
  },
  {
   "cell_type": "code",
   "execution_count": null,
   "metadata": {
    "ExecuteTime": {
     "end_time": "2017-01-08T15:47:59.935796",
     "start_time": "2017-01-08T15:47:59.503806"
    },
    "collapsed": true,
    "run_control": {
     "frozen": false,
     "read_only": false
    }
   },
   "outputs": [],
   "source": [
    "%matplotlib inline\n",
    "import sys\n",
    "import numpy as np\n",
    "import random\n",
    "import os, time, sys, datetime\n",
    "import sklearn.metrics.pairwise\n",
    "import scipy.spatial.distance\n",
    "from scipy.spatial.distance import cdist\n",
    "import dask\n",
    "import dask.array as da\n",
    "import dask.multiprocessing\n",
    "from dask.diagnostics import ProgressBar\n",
    "from dask.diagnostics import ResourceProfiler\n",
    "from dask.array.core import map_blocks\n",
    "from multiprocessing.pool import ThreadPool"
   ]
  },
  {
   "cell_type": "code",
   "execution_count": null,
   "metadata": {
    "ExecuteTime": {
     "end_time": "2017-01-08T15:47:59.989802",
     "start_time": "2017-01-08T15:47:59.986366"
    },
    "collapsed": false
   },
   "outputs": [],
   "source": [
    "RESULT_DIR=\"results\"\n",
    "RESULT_FILE_PREFIX=\"pair-distance-\"\n",
    "HEADER_CSV=\"Scenario, Type, Time\"\n",
    "OUT_DIR=\"../npy_stack\"\n",
    "\n",
    "\n",
    "FILENAMES=[\"../132k_dataset/atom_pos_132K.npy\", \"../145K_dataset/atom_pos_145K.npy\", \n",
    "          \"../300K_dataset/atom_pos_291K.npy\", '../840K_dataset/atom_pos_839K.npy']\n",
    "\n",
    "scenario = FILENAMES[0]"
   ]
  },
  {
   "cell_type": "markdown",
   "metadata": {},
   "source": [
    "## Preprate npy stacks for Dask"
   ]
  },
  {
   "cell_type": "code",
   "execution_count": null,
   "metadata": {
    "ExecuteTime": {
     "end_time": "2017-01-08T15:39:17.135051",
     "start_time": "2017-01-08T15:39:16.847288"
    },
    "collapsed": false
   },
   "outputs": [],
   "source": [
    "CHUNKSIZE=4096\n",
    "\n",
    "for i in FILENAMES:\n",
    "    print i\n",
    "    atoms = np.load(i)\n",
    "    a_da = da.from_array(atoms, chunks=(CHUNKSIZE,3))\n",
    "    out_file=os.path.join(OUT_DIR, os.path.basename(i)+\"_\"+str(CHUNKSIZE))\n",
    "    try:\n",
    "        os.makedirs(out_file)\n",
    "    except:\n",
    "        pass\n",
    "    da.to_npy_stack(out_file, a_da)"
   ]
  },
  {
   "cell_type": "code",
   "execution_count": null,
   "metadata": {
    "collapsed": true
   },
   "outputs": [],
   "source": [
    "!rm"
   ]
  },
  {
   "cell_type": "code",
   "execution_count": null,
   "metadata": {
    "ExecuteTime": {
     "end_time": "2017-01-08T10:01:38.359621",
     "start_time": "2017-01-08T10:01:38.211267"
    },
    "collapsed": false
   },
   "outputs": [],
   "source": [
    "!ls ../npy_stack/"
   ]
  },
  {
   "cell_type": "markdown",
   "metadata": {},
   "source": [
    "# Load Data Numpy"
   ]
  },
  {
   "cell_type": "code",
   "execution_count": null,
   "metadata": {
    "ExecuteTime": {
     "end_time": "2017-01-07T15:24:17.615513",
     "start_time": "2017-01-07T15:24:17.600415"
    },
    "collapsed": false
   },
   "outputs": [],
   "source": [
    "start = time.time()\n",
    "atoms = np.load(scenario)\n",
    "atoms.shape\n",
    "end = time.time()\n",
    "\n",
    "try:\n",
    "    os.mkdir(RESULT_DIR)\n",
    "except:\n",
    "    pass        \n",
    "\n",
    "results=[]\n",
    "d =datetime.datetime.now()\n",
    "result_filename = RESULT_FILE_PREFIX + d.strftime(\"%Y%m%d-%H%M%S\") + \".csv\"\n",
    "f = open(os.path.join(RESULT_DIR, result_filename), \"w\")\n",
    "f.write(HEADER_CSV+ \"\\n\")\n",
    "result_line = scenario + \",Read,\" + str(end-start)\n",
    "f.write(result_line)\n",
    "f.flush()\n",
    "print result_line"
   ]
  },
  {
   "cell_type": "code",
   "execution_count": null,
   "metadata": {
    "ExecuteTime": {
     "end_time": "2017-01-07T15:24:20.194101",
     "start_time": "2017-01-07T15:24:20.188493"
    },
    "collapsed": false
   },
   "outputs": [],
   "source": [
    "a=atoms[:]\n",
    "a.shape"
   ]
  },
  {
   "cell_type": "markdown",
   "metadata": {
    "ExecuteTime": {
     "end_time": "2017-01-02T22:18:48.862526",
     "start_time": "2017-01-03T03:15:37.709Z"
    }
   },
   "source": [
    "# Distance Calculation - Single Core"
   ]
  },
  {
   "cell_type": "markdown",
   "metadata": {
    "ExecuteTime": {
     "end_time": "2017-01-03T20:52:39.178877",
     "start_time": "2017-01-03T20:52:39.176476"
    }
   },
   "source": [
    "## Giannis"
   ]
  },
  {
   "cell_type": "code",
   "execution_count": null,
   "metadata": {
    "ExecuteTime": {
     "end_time": "2017-01-07T12:11:57.525961",
     "start_time": "2017-01-07T12:11:57.511893"
    },
    "collapsed": false,
    "run_control": {
     "frozen": false,
     "read_only": false
    }
   },
   "outputs": [],
   "source": [
    "%%time\n",
    "\n",
    "def get_distance(Atom1, Atom2):\n",
    "    # Calculate Euclidean distance. 1-D and 3-D in the future\n",
    "    return np.sqrt(sum((Atom1 - Atom2) ** 2))\n",
    "\n",
    "def n_dim_input_to_numpy_array(temp):\n",
    "    temp = temp.split(',')\n",
    "    temp = map(float,temp)\n",
    "    return np.asfarray(temp)\n",
    "    \n",
    "    \n",
    "# the difference is that in the Cus compute data that are in main diagonal compute half of the elements \n",
    "# because table is symmetric, so the second loop can be half in the first case \n",
    "\n",
    "WINDOW_SIZE=a.shape[0]\n",
    "reading_start_point_i = 0\n",
    "j_dim = 0\n",
    "cutoff = 15\n",
    "print WINDOW_SIZE\n",
    "\n",
    "\n",
    "def distance_giannis():\n",
    "    distances=np.empty((WINDOW_SIZE, WINDOW_SIZE), dtype='bool')    \n",
    "    for i in range(0, WINDOW_SIZE):\n",
    "        for j in range(i+1,WINDOW_SIZE):\n",
    "            dist = get_distance(a[i],a[j])  \n",
    "            if dist<=cutoff:\n",
    "                distances[i][j]=True \n",
    "            else:\n",
    "                distances[i][j]=False\n",
    "    return distances"
   ]
  },
  {
   "cell_type": "markdown",
   "metadata": {},
   "source": [
    "## Python Plain NumPy"
   ]
  },
  {
   "cell_type": "code",
   "execution_count": null,
   "metadata": {
    "ExecuteTime": {
     "end_time": "2017-01-07T12:12:02.973016",
     "start_time": "2017-01-07T12:11:59.554825"
    },
    "collapsed": false
   },
   "outputs": [],
   "source": [
    "%%time\n",
    "dist_sq = np.sqrt(np.sum((a[:,np.newaxis,:] - a[np.newaxis,:,:]) ** 2, axis=-1))"
   ]
  },
  {
   "cell_type": "markdown",
   "metadata": {},
   "source": [
    "## Scikit"
   ]
  },
  {
   "cell_type": "code",
   "execution_count": null,
   "metadata": {
    "ExecuteTime": {
     "end_time": "2017-01-07T14:18:58.936258",
     "start_time": "2017-01-07T14:17:14.823333"
    },
    "collapsed": false,
    "scrolled": true
   },
   "outputs": [],
   "source": [
    "%%time\n",
    "dist_sq = cdist(a, a, 'euclidean')"
   ]
  },
  {
   "cell_type": "code",
   "execution_count": null,
   "metadata": {
    "ExecuteTime": {
     "end_time": "2017-01-07T14:21:18.958592",
     "start_time": "2017-01-07T14:21:18.954839"
    },
    "collapsed": false
   },
   "outputs": [],
   "source": [
    "print dist_sq.shape"
   ]
  },
  {
   "cell_type": "markdown",
   "metadata": {},
   "source": [
    "# Dask"
   ]
  },
  {
   "cell_type": "code",
   "execution_count": null,
   "metadata": {
    "ExecuteTime": {
     "end_time": "2017-01-07T15:24:26.029399",
     "start_time": "2017-01-07T15:24:26.023244"
    },
    "collapsed": false
   },
   "outputs": [],
   "source": [
    "a_dask=da.from_array(a, chunks=(2048,3))"
   ]
  },
  {
   "cell_type": "markdown",
   "metadata": {},
   "source": [
    "## Dask Threads"
   ]
  },
  {
   "cell_type": "code",
   "execution_count": null,
   "metadata": {
    "ExecuteTime": {
     "end_time": "2017-01-08T15:48:05.659927",
     "start_time": "2017-01-08T15:48:05.648484"
    },
    "collapsed": false
   },
   "outputs": [],
   "source": [
    "def benchmark_dask(filename, cutoff=15, number_threads=40):\n",
    "    results = []\n",
    "    start = time.time()\n",
    "    a_dask=da.from_npy_stack(filename)\n",
    "    end_read = time.time()\n",
    "    diff=a_dask[:, np.newaxis, :] - a_dask[np.newaxis, :, :]\n",
    "    res=da.sqrt(da.sum((diff) ** 2, axis=-1))>cutoff\n",
    "    with ProgressBar():\n",
    "        with dask.set_options(get=dask.multiprocessing.get):\n",
    "            out = res.compute()\n",
    "            print type(out)\n",
    "            end_compute = time.time()\n",
    "            np.save(os.path.basename(filename)+\"_out.npy\", out)\n",
    "            #da.to_npy_stack(\"out.npy\", out)\n",
    "            end_out_write = time.time()\n",
    "            results.append(\"%s,dask,thread-40,read_file, %.4f\"%(filename, end_read-start))\n",
    "            results.append(\"%s,dask,thread-40,compute, %.4f\"%(filename, end_compute-end_read))\n",
    "            results.append(\"%s,dask,thread-40,write_file, %.4f\"%(filename, end_out_write-end_compute))\n",
    "            results.append(\"%s,dask,thread-40,total, %.4f\"%(filename, end_out_write-start))\n",
    "            print(\"\\n\".join(results))"
   ]
  },
  {
   "cell_type": "markdown",
   "metadata": {},
   "source": [
    "## Dask Distributed"
   ]
  },
  {
   "cell_type": "code",
   "execution_count": null,
   "metadata": {
    "ExecuteTime": {
     "end_time": "2017-01-08T15:48:07.005500",
     "start_time": "2017-01-08T15:48:06.794118"
    },
    "collapsed": false
   },
   "outputs": [],
   "source": [
    "from distributed import Client, progress\n",
    "\n",
    "hostname = 'xxx:8786'\n",
    "\n",
    "def benchmark_dask_distributed(filename, cutoff=15, number_threads=40):\n",
    "    client = Client(hostname)\n",
    "    results = []\n",
    "    start = time.time()\n",
    "    a_dask=da.from_npy_stack(filename)\n",
    "    end_read = time.time()\n",
    "    diff=a_dask[:, np.newaxis, :] - a_dask[np.newaxis, :, :]\n",
    "    res=da.sqrt(da.sum((diff) ** 2, axis=-1))>cutoff \n",
    "    with ProgressBar():\n",
    "        with dask.set_options(get=client.get):\n",
    "            out = res.compute()\n",
    "            end_compute = time.time()\n",
    "            print \"end compute\"\n",
    "            outfile = os.path.join(\"/data/tmp\", os.path.basename(filename)+\"_out.npy\")\n",
    "            np.save(outfile, out)\n",
    "            #da.to_npy_stack(\"out.npy\", out)\n",
    "            end_out_write = time.time()            \n",
    "            os.remove(outfile)\n",
    "            results.append(\"%s,dask,thread-distributed,read_file, %.4f\"%(filename, end_read-start))\n",
    "            results.append(\"%s,dask,thread-distributed,compute, %.4f\"%(filename, end_compute-end_read))\n",
    "            results.append(\"%s,dask,thread-distributed,write_file, %.4f\"%(filename, end_out_write-end_compute))\n",
    "            results.append(\"%s,dask,thread-distributed,total, %.4f\"%(filename, end_out_write-start))\n",
    "            print(\"\\n\".join(results))\n",
    "    #client.shutdown()"
   ]
  },
  {
   "cell_type": "code",
   "execution_count": null,
   "metadata": {
    "ExecuteTime": {
     "start_time": "2017-01-08T20:48:07.787Z"
    },
    "collapsed": false
   },
   "outputs": [],
   "source": [
    "dask_scenarios = [os.path.abspath(os.path.join(OUT_DIR, i)) for i in os.listdir(OUT_DIR)]\n",
    "for s in dask_scenarios:\n",
    "    if \"_4096\" in s:\n",
    "        print \"Process: %s\"%s\n",
    "        benchmark_dask(s)"
   ]
  },
  {
   "cell_type": "code",
   "execution_count": null,
   "metadata": {
    "ExecuteTime": {
     "end_time": "2017-01-07T16:08:54.331200",
     "start_time": "2017-01-07T16:08:54.181724"
    },
    "collapsed": false
   },
   "outputs": [],
   "source": [
    "!ls ../npy_stack/atom_pos_132K.npy"
   ]
  },
  {
   "cell_type": "markdown",
   "metadata": {
    "ExecuteTime": {
     "end_time": "2017-01-07T13:50:29.093920",
     "start_time": "2017-01-07T13:50:29.091865"
    }
   },
   "source": [
    "## Map Blocks\n",
    "(still exploratory)"
   ]
  },
  {
   "cell_type": "code",
   "execution_count": null,
   "metadata": {
    "ExecuteTime": {
     "end_time": "2017-01-07T13:18:54.566944",
     "start_time": "2017-01-07T13:18:52.948322"
    },
    "collapsed": true
   },
   "outputs": [],
   "source": [
    "%%time\n",
    "\n",
    "f = map_blocks(lambda a, b: cdist(a,b, 'euclidean'), a_dask, a_dask)\n",
    "res=f.compute()"
   ]
  },
  {
   "cell_type": "code",
   "execution_count": null,
   "metadata": {
    "ExecuteTime": {
     "end_time": "2017-01-07T13:58:50.252479",
     "start_time": "2017-01-07T13:58:50.248513"
    },
    "collapsed": false
   },
   "outputs": [],
   "source": [
    "number_points = a_dask.shape[0]\n",
    "distance_matrix=da.ones((number_points, number_points), chunks=(128, 128))"
   ]
  },
  {
   "cell_type": "code",
   "execution_count": null,
   "metadata": {
    "ExecuteTime": {
     "end_time": "2017-01-07T14:01:50.496065",
     "start_time": "2017-01-07T14:01:50.491506"
    },
    "collapsed": false
   },
   "outputs": [],
   "source": [
    "dist=map_blocks(lambda a: a[0, 1], distance_matrix)"
   ]
  },
  {
   "cell_type": "code",
   "execution_count": null,
   "metadata": {
    "ExecuteTime": {
     "end_time": "2017-01-07T14:01:50.929205",
     "start_time": "2017-01-07T14:01:50.924986"
    },
    "collapsed": false
   },
   "outputs": [],
   "source": [
    "res=dist.compute()"
   ]
  },
  {
   "cell_type": "code",
   "execution_count": null,
   "metadata": {
    "ExecuteTime": {
     "end_time": "2017-01-07T14:01:51.358110",
     "start_time": "2017-01-07T14:01:51.354509"
    },
    "collapsed": false
   },
   "outputs": [],
   "source": [
    "print res"
   ]
  },
  {
   "cell_type": "markdown",
   "metadata": {
    "ExecuteTime": {
     "end_time": "2017-01-03T22:18:08.958065",
     "start_time": "2017-01-03T22:18:08.955374"
    }
   },
   "source": [
    "# MXNet"
   ]
  },
  {
   "cell_type": "code",
   "execution_count": null,
   "metadata": {
    "ExecuteTime": {
     "end_time": "2017-01-07T11:46:22.338459",
     "start_time": "2017-01-07T11:46:22.335866"
    },
    "collapsed": false
   },
   "outputs": [],
   "source": [
    "import mxnet as mx"
   ]
  },
  {
   "cell_type": "code",
   "execution_count": null,
   "metadata": {
    "ExecuteTime": {
     "end_time": "2017-01-07T11:46:23.351211",
     "start_time": "2017-01-07T11:46:23.244891"
    },
    "collapsed": false
   },
   "outputs": [],
   "source": [
    "%%time\n",
    "a_mx=mx.nd.array(a)\n",
    "diff=(mx.ndarray.power(a_mx.reshape((1, a_mx.shape[0], a_mx.shape[1])) - a_mx.reshape((a_mx.shape[0], 1, a_mx.shape[1])), 2))\n",
    "dist=mx.ndarray.sqrt(mx.ndarray.sum_axis(diff, axis=2)).asnumpy()"
   ]
  },
  {
   "cell_type": "code",
   "execution_count": null,
   "metadata": {
    "ExecuteTime": {
     "end_time": "2017-01-03T23:01:18.572963",
     "start_time": "2017-01-03T23:01:18.566730"
    },
    "collapsed": false
   },
   "outputs": [],
   "source": [
    "dist"
   ]
  },
  {
   "cell_type": "markdown",
   "metadata": {},
   "source": [
    "# Tensorflow"
   ]
  },
  {
   "cell_type": "code",
   "execution_count": null,
   "metadata": {
    "ExecuteTime": {
     "end_time": "2017-01-03T23:01:48.989317",
     "start_time": "2017-01-03T23:01:47.924174"
    },
    "collapsed": true
   },
   "outputs": [],
   "source": [
    "import tensorflow as tf"
   ]
  },
  {
   "cell_type": "code",
   "execution_count": null,
   "metadata": {
    "ExecuteTime": {
     "end_time": "2017-01-03T23:01:55.688630",
     "start_time": "2017-01-03T23:01:55.685045"
    },
    "collapsed": false
   },
   "outputs": [],
   "source": [
    "tf.__version__"
   ]
  },
  {
   "cell_type": "markdown",
   "metadata": {},
   "source": [
    "# Benchmark All"
   ]
  },
  {
   "cell_type": "code",
   "execution_count": null,
   "metadata": {
    "collapsed": true
   },
   "outputs": [],
   "source": [
    "RESULT_DIR=\"results\"\n",
    "RESULT_FILE_PREFIX=\"mdanalysis-distance-spark-\"\n",
    "HEADER_CSV=\"Scenario, NumberAtoms, NumberExecutors, Time\"\n",
    "\n",
    "try:\n",
    "    os.mkdir(RESULT_DIR)\n",
    "except:\n",
    "    pass        \n",
    "\n",
    "results=[]\n",
    "d =datetime.datetime.now()\n",
    "result_filename = RESULT_FILE_PREFIX + d.strftime(\"%Y%m%d-%H%M%S\") + \".csv\"\n",
    "f = open(os.path.join(RESULT_DIR, result_filename), \"w\")\n",
    "f.write(HEADER_CSV+ \"\\n\")\n",
    "\n",
    "\n",
    "for i in range(10):\n",
    "    for file_name in files:\n",
    "        print \"Process: \" + file_name\n",
    "        coord = np.loadtxt(file_name, dtype='float32')\n",
    "        for i in NUMBER_EXECUTORS_SCENARIOS:\n",
    "            #result=benchmark_spark(coord, i)\n",
    "            result=benchmark_mdanalysis_dense(coord, i)\n",
    "            #result=benchmark__tf_batch(coord, 500)\n",
    "            results.append(result)\n",
    "            f.write(result + \"\\n\")\n",
    "            f.flush()            \n",
    "        del coord\n",
    "        gc.collect()\n",
    "\n",
    "f.close()\n",
    "print(\"Finished run\")"
   ]
  },
  {
   "cell_type": "markdown",
   "metadata": {},
   "source": [
    "# Testing and Playing around with Numpy Broadcasting"
   ]
  },
  {
   "cell_type": "code",
   "execution_count": null,
   "metadata": {
    "ExecuteTime": {
     "end_time": "2017-01-07T13:37:01.789098",
     "start_time": "2017-01-07T13:37:01.776795"
    },
    "collapsed": false
   },
   "outputs": [],
   "source": [
    "a_np = np.arange(15).reshape(5,3)\n",
    "a_np"
   ]
  },
  {
   "cell_type": "code",
   "execution_count": null,
   "metadata": {
    "ExecuteTime": {
     "end_time": "2017-01-07T13:38:23.056173",
     "start_time": "2017-01-07T13:38:23.048427"
    },
    "collapsed": false
   },
   "outputs": [],
   "source": [
    "a_np.shape[-1]"
   ]
  },
  {
   "cell_type": "code",
   "execution_count": null,
   "metadata": {
    "ExecuteTime": {
     "end_time": "2017-01-07T13:37:02.806163",
     "start_time": "2017-01-07T13:37:02.802957"
    },
    "collapsed": false
   },
   "outputs": [],
   "source": [
    "x=a_np[:, np.newaxis, :]\n",
    "y=a_np[np.newaxis,:,:]"
   ]
  },
  {
   "cell_type": "code",
   "execution_count": null,
   "metadata": {
    "ExecuteTime": {
     "end_time": "2017-01-07T13:37:03.326034",
     "start_time": "2017-01-07T13:37:03.320461"
    },
    "collapsed": false
   },
   "outputs": [],
   "source": [
    "y.shape"
   ]
  },
  {
   "cell_type": "code",
   "execution_count": null,
   "metadata": {
    "ExecuteTime": {
     "end_time": "2017-01-07T13:37:04.187929",
     "start_time": "2017-01-07T13:37:04.182210"
    },
    "collapsed": false
   },
   "outputs": [],
   "source": [
    "x.shape"
   ]
  },
  {
   "cell_type": "code",
   "execution_count": null,
   "metadata": {
    "ExecuteTime": {
     "end_time": "2017-01-03T22:03:22.113943",
     "start_time": "2017-01-03T22:03:22.110225"
    },
    "collapsed": false
   },
   "outputs": [],
   "source": [
    "(x-y).shape"
   ]
  }
 ],
 "metadata": {
  "anaconda-cloud": {},
  "kernelspec": {
   "display_name": "Python [default]",
   "language": "python",
   "name": "python2"
  },
  "language_info": {
   "codemirror_mode": {
    "name": "ipython",
    "version": 2
   },
   "file_extension": ".py",
   "mimetype": "text/x-python",
   "name": "python",
   "nbconvert_exporter": "python",
   "pygments_lexer": "ipython2",
   "version": "2.7.12"
  },
  "toc": {
   "colors": {
    "hover_highlight": "#DAA520",
    "running_highlight": "#FF0000",
    "selected_highlight": "#FFD700"
   },
   "moveMenuLeft": true,
   "nav_menu": {
    "height": "30px",
    "width": "252px"
   },
   "navigate_menu": true,
   "number_sections": true,
   "sideBar": true,
   "threshold": 4,
   "toc_cell": false,
   "toc_position": {
    "height": "1214px",
    "left": "0px",
    "right": "1072px",
    "top": "106px",
    "width": "168px"
   },
   "toc_section_display": "block",
   "toc_window_display": true
  }
 },
 "nbformat": 4,
 "nbformat_minor": 0
}
