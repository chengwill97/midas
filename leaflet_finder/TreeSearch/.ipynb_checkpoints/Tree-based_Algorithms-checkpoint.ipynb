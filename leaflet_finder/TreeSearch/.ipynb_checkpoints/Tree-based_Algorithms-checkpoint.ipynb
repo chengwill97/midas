{
 "cells": [
  {
   "cell_type": "code",
   "execution_count": 1,
   "metadata": {
    "ExecuteTime": {
     "end_time": "2017-02-25T18:09:48.666376",
     "start_time": "2017-02-25T18:09:47.637854"
    },
    "collapsed": false,
    "run_control": {
     "frozen": false,
     "read_only": false
    }
   },
   "outputs": [],
   "source": [
    "from rtree import index\n",
    "from sklearn.neighbors import NearestNeighbors, BallTree\n",
    "import numpy as np\n",
    "import networkx as nx\n",
    "import sys, os\n",
    "from scipy.spatial.distance import cdist"
   ]
  },
  {
   "cell_type": "code",
   "execution_count": 2,
   "metadata": {
    "ExecuteTime": {
     "end_time": "2017-02-25T18:09:49.252077",
     "start_time": "2017-02-25T18:09:49.246287"
    },
    "collapsed": false,
    "run_control": {
     "frozen": false,
     "read_only": false
    }
   },
   "outputs": [],
   "source": [
    "#from multiprocessing.pool import ThreadPool\n",
    "RESULT_DIR=\"results\"\n",
    "RESULT_FILE_PREFIX=\"tree-pair-distance-\"\n",
    "HEADER_CSV=\"Scenario, Type, Time\"\n",
    "#BASE_DIRECTORY=os.getcwd()\n",
    "# Dask has issues with NFS home directory on Comet\n",
    "# BASE_DIRECTORY='/scratch/luckow/7146882'\n",
    "BASE_DIRECTORY='/oasis/scratch/comet/luckow/temp_project'\n",
    "#BASE_DIRECTORY='/scratch/luckow/7218009/'\n",
    "OUT_DIR=os.path.join(BASE_DIRECTORY, \"npy_stack\")\n",
    "RESULT_DIR=os.path.join(BASE_DIRECTORY, \"results\")\n",
    "\n",
    "FILENAMES=[\"../132k_dataset/atom_pos_132K.npy\", \"../145K_dataset/atom_pos_145K.npy\", \n",
    "          \"../300K_dataset/atom_pos_291K.npy\", '../840K_dataset/atom_pos_839K.npy']"
   ]
  },
  {
   "cell_type": "markdown",
   "metadata": {
    "ExecuteTime": {
     "end_time": "2017-02-25T15:02:50.649059",
     "start_time": "2017-02-25T15:02:50.645519"
    }
   },
   "source": [
    "# Dummy Data and Scikit"
   ]
  },
  {
   "cell_type": "code",
   "execution_count": 3,
   "metadata": {
    "ExecuteTime": {
     "end_time": "2017-02-25T18:09:50.150599",
     "start_time": "2017-02-25T18:09:50.147647"
    },
    "collapsed": false,
    "run_control": {
     "frozen": false,
     "read_only": false
    }
   },
   "outputs": [],
   "source": [
    "number_points = 10\n",
    "points_np = np.arange(number_points*3).reshape(number_points,3)"
   ]
  },
  {
   "cell_type": "code",
   "execution_count": 4,
   "metadata": {
    "ExecuteTime": {
     "end_time": "2017-02-25T18:09:50.499695",
     "start_time": "2017-02-25T18:09:50.486316"
    },
    "collapsed": false,
    "run_control": {
     "frozen": false,
     "read_only": false
    }
   },
   "outputs": [
    {
     "data": {
      "text/plain": [
       "array([[ 0,  1,  2],\n",
       "       [ 3,  4,  5],\n",
       "       [ 6,  7,  8],\n",
       "       [ 9, 10, 11],\n",
       "       [12, 13, 14],\n",
       "       [15, 16, 17],\n",
       "       [18, 19, 20],\n",
       "       [21, 22, 23],\n",
       "       [24, 25, 26],\n",
       "       [27, 28, 29]])"
      ]
     },
     "execution_count": 4,
     "metadata": {},
     "output_type": "execute_result"
    }
   ],
   "source": [
    "points_np"
   ]
  },
  {
   "cell_type": "code",
   "execution_count": 5,
   "metadata": {
    "ExecuteTime": {
     "end_time": "2017-02-25T18:09:50.747249",
     "start_time": "2017-02-25T18:09:50.739388"
    },
    "collapsed": false,
    "run_control": {
     "frozen": false,
     "read_only": false
    }
   },
   "outputs": [],
   "source": [
    "nbrs = NearestNeighbors(n_neighbors=10, algorithm='ball_tree').fit(points_np)\n",
    "distances, indices = nbrs.kneighbors(points_np)"
   ]
  },
  {
   "cell_type": "code",
   "execution_count": 6,
   "metadata": {
    "ExecuteTime": {
     "end_time": "2017-02-25T18:09:51.783492",
     "start_time": "2017-02-25T18:09:51.777508"
    },
    "collapsed": false,
    "run_control": {
     "frozen": false,
     "read_only": false
    }
   },
   "outputs": [
    {
     "data": {
      "text/plain": [
       "array([[0, 1, 2, 3, 4, 5, 6, 7, 8, 9],\n",
       "       [1, 2, 0, 3, 4, 5, 6, 7, 8, 9],\n",
       "       [2, 1, 3, 0, 4, 5, 6, 7, 8, 9],\n",
       "       [3, 4, 2, 1, 5, 6, 0, 7, 8, 9],\n",
       "       [4, 3, 5, 6, 2, 1, 7, 8, 0, 9],\n",
       "       [5, 6, 4, 7, 3, 8, 2, 1, 9, 0],\n",
       "       [6, 7, 5, 4, 8, 9, 3, 2, 1, 0],\n",
       "       [7, 6, 8, 5, 9, 4, 3, 2, 1, 0],\n",
       "       [8, 7, 9, 6, 5, 4, 3, 2, 1, 0],\n",
       "       [9, 8, 7, 6, 5, 4, 3, 2, 1, 0]])"
      ]
     },
     "execution_count": 6,
     "metadata": {},
     "output_type": "execute_result"
    }
   ],
   "source": [
    "indices"
   ]
  },
  {
   "cell_type": "code",
   "execution_count": 7,
   "metadata": {
    "ExecuteTime": {
     "end_time": "2017-02-25T18:09:52.191739",
     "start_time": "2017-02-25T18:09:52.185814"
    },
    "collapsed": false,
    "run_control": {
     "frozen": false,
     "read_only": false
    }
   },
   "outputs": [],
   "source": [
    "def pairwise_distance_tree(points_np):\n",
    "    tree = BallTree(points_np, leaf_size=40)\n",
    "    edges = tree.query_radius(points_np, 15.0)\n",
    "    edge_list=[zip(np.repeat(idx, len(dest_list)), dest_list) for idx, dest_list in enumerate(edges)]\n",
    "    edge_list_flat = [item for sublist in edge_list for item in sublist]\n",
    "    return edge_list_flat"
   ]
  },
  {
   "cell_type": "code",
   "execution_count": 8,
   "metadata": {
    "ExecuteTime": {
     "end_time": "2017-02-25T18:09:52.750543",
     "start_time": "2017-02-25T18:09:52.746181"
    },
    "collapsed": true,
    "run_control": {
     "frozen": false,
     "read_only": false
    }
   },
   "outputs": [],
   "source": [
    "def pairwise_distance_cdist(points_np, cutoff=15.0):\n",
    "    distances = cdist(points_np, points_np)\n",
    "    res = np.array(np.where(distances < cutoff))\n",
    "    res=res[res[:,0]<res[:,1], :] \n",
    "    return res"
   ]
  },
  {
   "cell_type": "code",
   "execution_count": 9,
   "metadata": {
    "ExecuteTime": {
     "end_time": "2017-02-25T18:09:53.339495",
     "start_time": "2017-02-25T18:09:53.333617"
    },
    "collapsed": true
   },
   "outputs": [],
   "source": [
    "atoms = np.load(\"../132k_dataset/atom_pos_132K.npy\") "
   ]
  },
  {
   "cell_type": "code",
   "execution_count": null,
   "metadata": {
    "ExecuteTime": {
     "start_time": "2017-02-25T17:05:18.680Z"
    },
    "collapsed": false,
    "run_control": {
     "frozen": false,
     "read_only": false
    }
   },
   "outputs": [],
   "source": [
    "%%time\n",
    "res_cdist=pairwise_distance_cdist(atoms)"
   ]
  },
  {
   "cell_type": "code",
   "execution_count": 10,
   "metadata": {
    "ExecuteTime": {
     "end_time": "2017-02-25T18:09:59.598279",
     "start_time": "2017-02-25T18:09:57.209057"
    },
    "collapsed": false,
    "run_control": {
     "frozen": false,
     "read_only": false
    }
   },
   "outputs": [
    {
     "name": "stdout",
     "output_type": "stream",
     "text": [
      "CPU times: user 2.24 s, sys: 147 ms, total: 2.39 s\n",
      "Wall time: 2.39 s\n"
     ]
    }
   ],
   "source": [
    "%%time\n",
    "res_tree=pairwise_distance_tree(atoms)"
   ]
  }
 ],
 "metadata": {
  "kernelspec": {
   "display_name": "Python 2",
   "language": "python",
   "name": "python2"
  },
  "language_info": {
   "codemirror_mode": {
    "name": "ipython",
    "version": 2
   },
   "file_extension": ".py",
   "mimetype": "text/x-python",
   "name": "python",
   "nbconvert_exporter": "python",
   "pygments_lexer": "ipython2",
   "version": "2.7.13"
  },
  "toc": {
   "toc_cell": false,
   "toc_number_sections": true,
   "toc_threshold": 6,
   "toc_window_display": false
  }
 },
 "nbformat": 4,
 "nbformat_minor": 2
}
