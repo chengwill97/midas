{
 "cells": [
  {
   "cell_type": "code",
   "execution_count": 2,
   "metadata": {
    "ExecuteTime": {
     "end_time": "2017-02-26T02:21:41.701692",
     "start_time": "2017-02-26T02:21:37.610582"
    },
    "collapsed": false,
    "run_control": {
     "frozen": false,
     "read_only": false
    }
   },
   "outputs": [],
   "source": [
    "from sklearn.neighbors import NearestNeighbors, BallTree, KDTree\n",
    "import numpy as np\n",
    "import networkx as nx\n",
    "import sys, os\n",
    "from scipy.spatial.distance import cdist\n",
    "import time"
   ]
  },
  {
   "cell_type": "code",
   "execution_count": 3,
   "metadata": {
    "ExecuteTime": {
     "end_time": "2017-02-26T02:21:42.617581",
     "start_time": "2017-02-26T02:21:42.611094"
    },
    "collapsed": false,
    "run_control": {
     "frozen": false,
     "read_only": false
    }
   },
   "outputs": [],
   "source": [
    "#from multiprocessing.pool import ThreadPool\n",
    "RESULT_DIR=\"results\"\n",
    "RESULT_FILE_PREFIX=\"tree-pair-distance-\"\n",
    "HEADER_CSV=\"Scenario, Type, Time\"\n",
    "#BASE_DIRECTORY=os.getcwd()\n",
    "# Dask has issues with NFS home directory on Comet\n",
    "# BASE_DIRECTORY='/scratch/luckow/7146882'\n",
    "BASE_DIRECTORY='/oasis/scratch/comet/luckow/temp_project'\n",
    "#BASE_DIRECTORY='/scratch/luckow/7218009/'\n",
    "OUT_DIR=os.path.join(BASE_DIRECTORY, \"npy_stack\")\n",
    "RESULT_DIR=os.path.join(BASE_DIRECTORY, \"results\")\n",
    "\n",
    "FILENAMES=[\"../132k_dataset/atom_pos_132K.npy\", \"../145K_dataset/atom_pos_145K.npy\", \n",
    "          \"../300K_dataset/atom_pos_291K.npy\", '../840K_dataset/atom_pos_839K.npy']"
   ]
  },
  {
   "cell_type": "markdown",
   "metadata": {
    "ExecuteTime": {
     "end_time": "2017-02-25T15:02:50.649059",
     "start_time": "2017-02-25T15:02:50.645519"
    }
   },
   "source": [
    "# Dummy Data and Scikit"
   ]
  },
  {
   "cell_type": "code",
   "execution_count": 4,
   "metadata": {
    "ExecuteTime": {
     "end_time": "2017-02-26T02:21:46.753531",
     "start_time": "2017-02-26T02:21:46.750134"
    },
    "collapsed": false,
    "run_control": {
     "frozen": false,
     "read_only": false
    }
   },
   "outputs": [],
   "source": [
    "number_points = 10\n",
    "points_local_np = np.arange(number_points*3).reshape(number_points,3)"
   ]
  },
  {
   "cell_type": "code",
   "execution_count": 5,
   "metadata": {
    "ExecuteTime": {
     "end_time": "2017-02-26T02:21:47.163630",
     "start_time": "2017-02-26T02:21:47.156774"
    },
    "collapsed": false,
    "run_control": {
     "frozen": false,
     "read_only": false
    }
   },
   "outputs": [],
   "source": [
    "def pairwise_distance_balltree(points_np):\n",
    "    tree = BallTree(points_np, leaf_size=40)\n",
    "    edges = tree.query_radius(points_np, 15.0)\n",
    "    edge_list=[list(zip(np.repeat(idx, len(dest_list)), dest_list)) for idx, dest_list in enumerate(edges)]\n",
    "    edge_list_flat = np.array([list(item) for sublist in edge_list for item in sublist])\n",
    "    res = edge_list_flat\n",
    "    res=edge_list_flat[edge_list_flat[:,0]<edge_list_flat[:,1], :] \n",
    "    return res"
   ]
  },
  {
   "cell_type": "code",
   "execution_count": 6,
   "metadata": {
    "ExecuteTime": {
     "end_time": "2017-02-26T02:21:47.602648",
     "start_time": "2017-02-26T02:21:47.595950"
    },
    "collapsed": true
   },
   "outputs": [],
   "source": [
    "def pairwise_distance_kdtree(points_np):\n",
    "    tree = KDTree(points_np, leaf_size=40)\n",
    "    edges = tree.query_radius(points_np, 15.0)\n",
    "    edge_list=[list(zip(np.repeat(idx, len(dest_list)), dest_list)) for idx, dest_list in enumerate(edges)]\n",
    "    edge_list_flat = np.array([list(item) for sublist in edge_list for item in sublist])\n",
    "    res = edge_list_flat\n",
    "    res=edge_list_flat[edge_list_flat[:,0]<edge_list_flat[:,1], :] \n",
    "    return res"
   ]
  },
  {
   "cell_type": "code",
   "execution_count": 7,
   "metadata": {
    "ExecuteTime": {
     "end_time": "2017-02-26T02:21:48.159904",
     "start_time": "2017-02-26T02:21:48.154813"
    },
    "collapsed": true,
    "run_control": {
     "frozen": false,
     "read_only": false
    }
   },
   "outputs": [],
   "source": [
    "def pairwise_distance_cdist(points_np, cutoff=15.0):\n",
    "    distances = cdist(points_np, points_np)\n",
    "    true_res = np.array(np.where(distances < cutoff))\n",
    "    res=np.array(zip(true_res[0], true_res[1]))\n",
    "    res=res[res[:,0]<res[:,1], :]\n",
    "    return res"
   ]
  },
  {
   "cell_type": "code",
   "execution_count": 8,
   "metadata": {
    "ExecuteTime": {
     "end_time": "2017-02-26T02:21:49.469423",
     "start_time": "2017-02-26T02:21:49.410635"
    },
    "collapsed": true
   },
   "outputs": [],
   "source": [
    "atoms = np.load(\"../132k_dataset/atom_pos_132K.npy\")\n",
    "atoms = atoms[:50000]"
   ]
  },
  {
   "cell_type": "code",
   "execution_count": 11,
   "metadata": {
    "ExecuteTime": {
     "end_time": "2017-02-25T23:04:39.662474",
     "start_time": "2017-02-25T23:02:22.497839"
    },
    "collapsed": false,
    "run_control": {
     "frozen": false,
     "read_only": false
    }
   },
   "outputs": [
    {
     "name": "stdout",
     "output_type": "stream",
     "text": [
      "CPU times: user 27.1 s, sys: 41.9 s, total: 1min 8s\n",
      "Wall time: 2min 17s\n"
     ]
    }
   ],
   "source": [
    "%%time\n",
    "res_cdist=pairwise_distance_cdist(atoms)"
   ]
  },
  {
   "cell_type": "code",
   "execution_count": 12,
   "metadata": {
    "ExecuteTime": {
     "end_time": "2017-02-25T23:04:41.546898",
     "start_time": "2017-02-25T23:04:39.669085"
    },
    "collapsed": false,
    "run_control": {
     "frozen": false,
     "read_only": false
    }
   },
   "outputs": [
    {
     "name": "stdout",
     "output_type": "stream",
     "text": [
      "CPU times: user 1.68 s, sys: 164 ms, total: 1.84 s\n",
      "Wall time: 1.87 s\n"
     ]
    }
   ],
   "source": [
    "%%time\n",
    "res_tree=pairwise_distance_tree(atoms)"
   ]
  },
  {
   "cell_type": "code",
   "execution_count": 13,
   "metadata": {
    "ExecuteTime": {
     "end_time": "2017-02-25T23:04:41.561955",
     "start_time": "2017-02-25T23:04:41.548497"
    },
    "collapsed": false
   },
   "outputs": [
    {
     "data": {
      "text/plain": [
       "290917"
      ]
     },
     "execution_count": 13,
     "metadata": {},
     "output_type": "execute_result"
    }
   ],
   "source": [
    "len(res_tree)"
   ]
  },
  {
   "cell_type": "code",
   "execution_count": 14,
   "metadata": {
    "ExecuteTime": {
     "end_time": "2017-02-25T23:04:41.568642",
     "start_time": "2017-02-25T23:04:41.563843"
    },
    "collapsed": false
   },
   "outputs": [
    {
     "data": {
      "text/plain": [
       "290917"
      ]
     },
     "execution_count": 14,
     "metadata": {},
     "output_type": "execute_result"
    }
   ],
   "source": [
    "len(res_cdist)"
   ]
  },
  {
   "cell_type": "code",
   "execution_count": 15,
   "metadata": {
    "ExecuteTime": {
     "end_time": "2017-02-25T23:04:41.580082",
     "start_time": "2017-02-25T23:04:41.570803"
    },
    "collapsed": false
   },
   "outputs": [
    {
     "data": {
      "text/plain": [
       "array([[ 0, 11],\n",
       "       [ 0,  8],\n",
       "       [ 0,  4],\n",
       "       [ 0, 32],\n",
       "       [ 0,  7]])"
      ]
     },
     "execution_count": 15,
     "metadata": {},
     "output_type": "execute_result"
    }
   ],
   "source": [
    "res_tree[:5]"
   ]
  },
  {
   "cell_type": "code",
   "execution_count": 16,
   "metadata": {
    "ExecuteTime": {
     "end_time": "2017-02-25T23:04:41.590452",
     "start_time": "2017-02-25T23:04:41.581970"
    },
    "collapsed": false
   },
   "outputs": [
    {
     "data": {
      "text/plain": [
       "array([[0, 4],\n",
       "       [0, 5],\n",
       "       [0, 6],\n",
       "       [0, 7],\n",
       "       [0, 8]])"
      ]
     },
     "execution_count": 16,
     "metadata": {},
     "output_type": "execute_result"
    }
   ],
   "source": [
    "res_cdist[:5]"
   ]
  },
  {
   "cell_type": "code",
   "execution_count": 19,
   "metadata": {
    "ExecuteTime": {
     "end_time": "2017-02-25T23:06:16.647816",
     "start_time": "2017-02-25T23:06:14.528175"
    },
    "collapsed": false
   },
   "outputs": [],
   "source": [
    "g1=nx.from_edgelist(res_tree)\n",
    "g2=nx.from_edgelist(res_cdist)"
   ]
  },
  {
   "cell_type": "code",
   "execution_count": 25,
   "metadata": {
    "ExecuteTime": {
     "end_time": "2017-02-25T23:08:01.104387",
     "start_time": "2017-02-25T23:08:00.310519"
    },
    "collapsed": false
   },
   "outputs": [
    {
     "data": {
      "text/plain": [
       "[]"
      ]
     },
     "execution_count": 25,
     "metadata": {},
     "output_type": "execute_result"
    }
   ],
   "source": [
    "nx.difference(g1, g2).edges()"
   ]
  },
  {
   "cell_type": "code",
   "execution_count": 11,
   "metadata": {
    "ExecuteTime": {
     "end_time": "2017-02-26T03:38:36.926383",
     "start_time": "2017-02-26T02:46:17.590693"
    },
    "collapsed": false
   },
   "outputs": [
    {
     "name": "stdout",
     "output_type": "stream",
     "text": [
      "BallTree, comet, 10000, 0.2110\n",
      "KDTree, comet, 10000, 0.2302\n",
      "cdist, comet, 10000, 1.0401\n",
      "BallTree, comet, 20000, 0.5451\n",
      "KDTree, comet, 20000, 0.6486\n",
      "cdist, comet, 20000, 4.0374\n",
      "BallTree, comet, 40000, 1.2871\n",
      "KDTree, comet, 40000, 1.4574\n",
      "cdist, comet, 40000, 15.8857\n",
      "BallTree, comet, 80000, 2.8230\n",
      "KDTree, comet, 80000, 2.9835\n",
      "cdist, comet, 80000, 62.9494\n",
      "BallTree, comet, 160000, 6.3881\n",
      "KDTree, comet, 160000, 6.6423\n",
      "BallTree, comet, 320000, 13.8700\n",
      "KDTree, comet, 320000, 15.0973\n",
      "BallTree, comet, 640000, 33.7613\n",
      "KDTree, comet, 640000, 39.3834\n",
      "BallTree, comet, 839000, 50.6539\n",
      "KDTree, comet, 839000, 54.7261\n",
      "BallTree, comet, 10000, 0.1957\n",
      "KDTree, comet, 10000, 0.2436\n",
      "cdist, comet, 10000, 1.0404\n",
      "BallTree, comet, 20000, 0.4418\n",
      "KDTree, comet, 20000, 0.5222\n",
      "cdist, comet, 20000, 4.0370\n",
      "BallTree, comet, 40000, 0.9857\n",
      "KDTree, comet, 40000, 1.4793\n",
      "cdist, comet, 40000, 15.8929\n",
      "BallTree, comet, 80000, 2.8776\n",
      "KDTree, comet, 80000, 2.9804\n",
      "cdist, comet, 80000, 63.0422\n",
      "BallTree, comet, 160000, 6.2109\n",
      "KDTree, comet, 160000, 7.2879\n",
      "BallTree, comet, 320000, 13.6332\n",
      "KDTree, comet, 320000, 14.6723\n",
      "BallTree, comet, 640000, 35.0856\n",
      "KDTree, comet, 640000, 35.8977\n",
      "BallTree, comet, 839000, 51.6190\n",
      "KDTree, comet, 839000, 54.2035\n",
      "BallTree, comet, 10000, 0.2280\n",
      "KDTree, comet, 10000, 0.3171\n",
      "cdist, comet, 10000, 1.0376\n",
      "BallTree, comet, 20000, 0.5730\n",
      "KDTree, comet, 20000, 0.6425\n",
      "cdist, comet, 20000, 4.0373\n",
      "BallTree, comet, 40000, 1.2823\n",
      "KDTree, comet, 40000, 1.4774\n",
      "cdist, comet, 40000, 15.8945\n",
      "BallTree, comet, 80000, 2.8188\n",
      "KDTree, comet, 80000, 2.9835\n",
      "cdist, comet, 80000, 62.9934\n",
      "BallTree, comet, 160000, 6.3879\n",
      "KDTree, comet, 160000, 6.6407\n",
      "BallTree, comet, 320000, 13.8686\n",
      "KDTree, comet, 320000, 15.1170\n",
      "BallTree, comet, 640000, 33.2903\n",
      "KDTree, comet, 640000, 38.8029\n",
      "BallTree, comet, 839000, 50.2432\n",
      "KDTree, comet, 839000, 54.4959\n",
      "BallTree, comet, 10000, 0.1967\n",
      "KDTree, comet, 10000, 0.2335\n",
      "cdist, comet, 10000, 1.0359\n",
      "BallTree, comet, 20000, 0.4378\n",
      "KDTree, comet, 20000, 0.5324\n",
      "cdist, comet, 20000, 4.0390\n",
      "BallTree, comet, 40000, 1.0020\n",
      "KDTree, comet, 40000, 1.4792\n",
      "cdist, comet, 40000, 15.8973\n",
      "BallTree, comet, 80000, 2.8790\n",
      "KDTree, comet, 80000, 2.9651\n",
      "cdist, comet, 80000, 63.0314\n",
      "BallTree, comet, 160000, 6.1606\n",
      "KDTree, comet, 160000, 7.2779\n",
      "BallTree, comet, 320000, 13.6058\n",
      "KDTree, comet, 320000, 14.6911\n",
      "BallTree, comet, 640000, 35.1112\n",
      "KDTree, comet, 640000, 35.9693\n",
      "BallTree, comet, 839000, 51.5391\n",
      "KDTree, comet, 839000, 54.1127\n",
      "BallTree, comet, 10000, 0.2267\n",
      "KDTree, comet, 10000, 0.3160\n",
      "cdist, comet, 10000, 1.0392\n",
      "BallTree, comet, 20000, 0.5688\n",
      "KDTree, comet, 20000, 0.6363\n",
      "cdist, comet, 20000, 4.0353\n",
      "BallTree, comet, 40000, 1.2860\n",
      "KDTree, comet, 40000, 1.4568\n",
      "cdist, comet, 40000, 15.8924\n",
      "BallTree, comet, 80000, 2.8507\n",
      "KDTree, comet, 80000, 2.9844\n",
      "cdist, comet, 80000, 63.0225\n",
      "BallTree, comet, 160000, 6.3519\n",
      "KDTree, comet, 160000, 6.6219\n",
      "BallTree, comet, 320000, 13.9530\n",
      "KDTree, comet, 320000, 15.0744\n",
      "BallTree, comet, 640000, 33.4433\n",
      "KDTree, comet, 640000, 38.9732\n",
      "BallTree, comet, 839000, 50.3052\n",
      "KDTree, comet, 839000, 54.6852\n",
      "BallTree, comet, 10000, 0.1968\n",
      "KDTree, comet, 10000, 0.2259\n",
      "cdist, comet, 10000, 1.0403\n",
      "BallTree, comet, 20000, 0.4440\n",
      "KDTree, comet, 20000, 0.5122\n",
      "cdist, comet, 20000, 4.0353\n",
      "BallTree, comet, 40000, 0.9955\n",
      "KDTree, comet, 40000, 1.4683\n",
      "cdist, comet, 40000, 15.8974\n",
      "BallTree, comet, 80000, 2.9099\n",
      "KDTree, comet, 80000, 3.0020\n",
      "cdist, comet, 80000, 63.0374\n",
      "BallTree, comet, 160000, 6.2324\n",
      "KDTree, comet, 160000, 7.2763\n",
      "BallTree, comet, 320000, 13.6796\n",
      "KDTree, comet, 320000, 14.6921\n",
      "BallTree, comet, 640000, 35.1633\n",
      "KDTree, comet, 640000, 35.9885\n",
      "BallTree, comet, 839000, 52.3955\n",
      "KDTree, comet, 839000, 54.4276\n",
      "BallTree, comet, 10000, 0.2269\n",
      "KDTree, comet, 10000, 0.3135\n",
      "cdist, comet, 10000, 1.0407\n",
      "BallTree, comet, 20000, 0.5615\n",
      "KDTree, comet, 20000, 0.6363\n",
      "cdist, comet, 20000, 4.0371\n",
      "BallTree, comet, 40000, 1.2801\n",
      "KDTree, comet, 40000, 1.4541\n",
      "cdist, comet, 40000, 15.8940\n",
      "BallTree, comet, 80000, 2.8431\n",
      "KDTree, comet, 80000, 2.9550\n",
      "cdist, comet, 80000, 63.1296\n",
      "BallTree, comet, 160000, 6.3787\n",
      "KDTree, comet, 160000, 6.6597\n",
      "BallTree, comet, 320000, 14.0346\n",
      "KDTree, comet, 320000, 15.1093\n",
      "BallTree, comet, 640000, 33.5741\n",
      "KDTree, comet, 640000, 38.9775\n",
      "BallTree, comet, 839000, 50.4421\n",
      "KDTree, comet, 839000, 54.9091\n",
      "BallTree, comet, 10000, 0.1970\n",
      "KDTree, comet, 10000, 0.2333\n",
      "cdist, comet, 10000, 1.0432\n",
      "BallTree, comet, 20000, 0.4561\n",
      "KDTree, comet, 20000, 0.5384\n",
      "cdist, comet, 20000, 4.0454\n",
      "BallTree, comet, 40000, 1.0120\n",
      "KDTree, comet, 40000, 1.5868\n",
      "cdist, comet, 40000, 15.9370\n",
      "BallTree, comet, 80000, 3.0906\n",
      "KDTree, comet, 80000, 3.1150\n",
      "cdist, comet, 80000, 63.6229\n",
      "BallTree, comet, 160000, 6.3742\n",
      "KDTree, comet, 160000, 7.5406\n",
      "BallTree, comet, 320000, 13.7681\n",
      "KDTree, comet, 320000, 14.7740\n",
      "BallTree, comet, 640000, 35.0148\n",
      "KDTree, comet, 640000, 35.6626\n",
      "BallTree, comet, 839000, 51.1081\n",
      "KDTree, comet, 839000, 53.7514\n",
      "BallTree, comet, 10000, 0.2341\n",
      "KDTree, comet, 10000, 0.3173\n",
      "cdist, comet, 10000, 1.0402\n",
      "BallTree, comet, 20000, 0.5628\n",
      "KDTree, comet, 20000, 0.6394\n",
      "cdist, comet, 20000, 4.0408\n",
      "BallTree, comet, 40000, 1.2887\n",
      "KDTree, comet, 40000, 1.4479\n",
      "cdist, comet, 40000, 16.0818\n",
      "BallTree, comet, 80000, 3.0267\n",
      "KDTree, comet, 80000, 3.0996\n",
      "cdist, comet, 80000, 63.5723\n",
      "BallTree, comet, 160000, 6.6030\n",
      "KDTree, comet, 160000, 6.8168\n",
      "BallTree, comet, 320000, 14.1368\n",
      "KDTree, comet, 320000, 15.2768\n",
      "BallTree, comet, 640000, 33.7008\n",
      "KDTree, comet, 640000, 39.1594\n",
      "BallTree, comet, 839000, 50.7588\n",
      "KDTree, comet, 839000, 55.0674\n",
      "BallTree, comet, 10000, 0.1990\n",
      "KDTree, comet, 10000, 0.2257\n",
      "cdist, comet, 10000, 1.0395\n",
      "BallTree, comet, 20000, 0.4398\n",
      "KDTree, comet, 20000, 0.5178\n",
      "cdist, comet, 20000, 4.0293\n",
      "BallTree, comet, 40000, 0.9998\n",
      "KDTree, comet, 40000, 1.4695\n",
      "cdist, comet, 40000, 15.9148\n",
      "BallTree, comet, 80000, 3.0954\n",
      "KDTree, comet, 80000, 3.0202\n",
      "cdist, comet, 80000, 63.6145\n",
      "BallTree, comet, 160000, 6.3955\n",
      "KDTree, comet, 160000, 7.5075\n",
      "BallTree, comet, 320000, 13.9016\n",
      "KDTree, comet, 320000, 14.9211\n",
      "BallTree, comet, 640000, 35.3534\n",
      "KDTree, comet, 640000, 35.9776\n",
      "BallTree, comet, 839000, 52.0892\n",
      "KDTree, comet, 839000, 54.5744\n"
     ]
    }
   ],
   "source": [
    "machine = \"comet\"\n",
    "for i in range(10):\n",
    "    atoms = np.load(\"../840K_dataset/atom_pos_839K.npy\")\n",
    "    for n in [10000, 20000, 40000, 80000, 160000, 320000, 640000, 839000]:\n",
    "        a = atoms[:n]\n",
    "        start = time.time()\n",
    "        res=pairwise_distance_balltree(a)\n",
    "        end = time.time()\n",
    "        print (\"BallTree, %s, %d, %.4f\"%(machine, n, end-start))\n",
    "        start = time.time()\n",
    "        res=pairwise_distance_kdtree(a)\n",
    "        end = time.time()\n",
    "        print (\"KDTree, %s, %d, %.4f\"%(machine, n, end-start))\n",
    "        if n<160000:\n",
    "            start = time.time()\n",
    "            res=pairwise_distance_cdist(a)\n",
    "            end = time.time()\n",
    "            print (\"cdist, %s, %d, %.4f\"%(machine, n, end-start))       "
   ]
  },
  {
   "cell_type": "code",
   "execution_count": 30,
   "metadata": {
    "ExecuteTime": {
     "end_time": "2017-02-25T23:11:49.193243",
     "start_time": "2017-02-25T23:11:49.068057"
    },
    "collapsed": false
   },
   "outputs": [
    {
     "name": "stdout",
     "output_type": "stream",
     "text": [
      "atom_pos_839K.npy\r\n"
     ]
    }
   ],
   "source": [
    "!ls ../840K_dataset "
   ]
  },
  {
   "cell_type": "code",
   "execution_count": null,
   "metadata": {
    "collapsed": true
   },
   "outputs": [],
   "source": []
  }
 ],
 "metadata": {
  "kernelspec": {
   "display_name": "Python [default]",
   "language": "python",
   "name": "python2"
  },
  "toc": {
   "colors": {
    "hover_highlight": "#DAA520",
    "running_highlight": "#FF0000",
    "selected_highlight": "#FFD700"
   },
   "moveMenuLeft": true,
   "nav_menu": {
    "height": "31px",
    "width": "252px"
   },
   "navigate_menu": true,
   "number_sections": true,
   "sideBar": true,
   "threshold": 4,
   "toc_cell": false,
   "toc_number_sections": true,
   "toc_section_display": "block",
   "toc_threshold": 6,
   "toc_window_display": false
  }
 },
 "nbformat": 4,
 "nbformat_minor": 2
}
