{
 "cells": [
  {
   "cell_type": "code",
   "execution_count": 43,
   "metadata": {
    "ExecuteTime": {
     "end_time": "2017-02-26T10:51:24.525617",
     "start_time": "2017-02-26T10:51:24.519989"
    },
    "collapsed": false,
    "run_control": {
     "frozen": false,
     "read_only": false
    }
   },
   "outputs": [],
   "source": [
    "from rtree import index\n",
    "from sklearn.neighbors import NearestNeighbors, BallTree, KDTree\n",
    "import numpy as np\n",
    "import networkx as nx\n",
    "import sys, os\n",
    "from scipy.spatial.distance import cdist\n",
    "import time"
   ]
  },
  {
   "cell_type": "code",
   "execution_count": 44,
   "metadata": {
    "ExecuteTime": {
     "end_time": "2017-02-26T10:51:26.209297",
     "start_time": "2017-02-26T10:51:26.203314"
    },
    "collapsed": false,
    "run_control": {
     "frozen": false,
     "read_only": false
    }
   },
   "outputs": [],
   "source": [
    "#from multiprocessing.pool import ThreadPool\n",
    "RESULT_DIR=\"results\"\n",
    "RESULT_FILE_PREFIX=\"tree-pair-distance-\"\n",
    "HEADER_CSV=\"Scenario, Type, Time\"\n",
    "#BASE_DIRECTORY=os.getcwd()\n",
    "# Dask has issues with NFS home directory on Comet\n",
    "# BASE_DIRECTORY='/scratch/luckow/7146882'\n",
    "BASE_DIRECTORY='/oasis/scratch/comet/luckow/temp_project'\n",
    "#BASE_DIRECTORY='/scratch/luckow/7218009/'\n",
    "OUT_DIR=os.path.join(BASE_DIRECTORY, \"npy_stack\")\n",
    "RESULT_DIR=os.path.join(BASE_DIRECTORY, \"results\")\n",
    "\n",
    "FILENAMES=[\"../132k_dataset/atom_pos_132K.npy\", \"../145K_dataset/atom_pos_145K.npy\", \n",
    "          \"../300K_dataset/atom_pos_291K.npy\", '../840K_dataset/atom_pos_839K.npy']"
   ]
  },
  {
   "cell_type": "markdown",
   "metadata": {
    "ExecuteTime": {
     "end_time": "2017-02-25T15:02:50.649059",
     "start_time": "2017-02-25T15:02:50.645519"
    }
   },
   "source": [
    "# Dummy Data and Scikit"
   ]
  },
  {
   "cell_type": "code",
   "execution_count": 3,
   "metadata": {
    "ExecuteTime": {
     "end_time": "2017-02-25T19:01:02.276608",
     "start_time": "2017-02-25T19:01:02.273398"
    },
    "collapsed": false,
    "run_control": {
     "frozen": false,
     "read_only": false
    }
   },
   "outputs": [],
   "source": [
    "number_points = 10\n",
    "points_local_np = np.arange(number_points*3).reshape(number_points,3)"
   ]
  },
  {
   "cell_type": "code",
   "execution_count": 40,
   "metadata": {
    "ExecuteTime": {
     "end_time": "2017-02-26T10:51:21.228023",
     "start_time": "2017-02-26T10:51:21.216965"
    },
    "collapsed": false,
    "run_control": {
     "frozen": false,
     "read_only": false
    }
   },
   "outputs": [],
   "source": [
    "def pairwise_distance_balltree(points_np):\n",
    "    tree = BallTree(points_np, leaf_size=40)\n",
    "    edges = tree.query_radius(points_np, 15.0)\n",
    "    edge_list=[list(zip(np.repeat(idx, len(dest_list)), dest_list)) for idx, dest_list in enumerate(edges)]\n",
    "    edge_list_flat = np.array([list(item) for sublist in edge_list for item in sublist])\n",
    "    res = edge_list_flat\n",
    "    res=edge_list_flat[edge_list_flat[:,0]<edge_list_flat[:,1], :] \n",
    "    return res"
   ]
  },
  {
   "cell_type": "code",
   "execution_count": 41,
   "metadata": {
    "ExecuteTime": {
     "end_time": "2017-02-26T10:51:21.786129",
     "start_time": "2017-02-26T10:51:21.779255"
    },
    "collapsed": true
   },
   "outputs": [],
   "source": [
    "def pairwise_distance_kdtree(points_np):\n",
    "    tree = KDTree(points_np, leaf_size=40)\n",
    "    edges = tree.query_radius(points_np, 15.0)\n",
    "    edge_list=[list(zip(np.repeat(idx, len(dest_list)), dest_list)) for idx, dest_list in enumerate(edges)]\n",
    "    edge_list_flat = np.array([list(item) for sublist in edge_list for item in sublist])\n",
    "    res = edge_list_flat\n",
    "    res=edge_list_flat[edge_list_flat[:,0]<edge_list_flat[:,1], :] \n",
    "    return res"
   ]
  },
  {
   "cell_type": "code",
   "execution_count": 42,
   "metadata": {
    "ExecuteTime": {
     "end_time": "2017-02-26T10:51:22.405435",
     "start_time": "2017-02-26T10:51:22.399762"
    },
    "collapsed": true,
    "run_control": {
     "frozen": false,
     "read_only": false
    }
   },
   "outputs": [],
   "source": [
    "def pairwise_distance_cdist(points_np, cutoff=15.0):\n",
    "    distances = cdist(points_np, points_np)\n",
    "    true_res = np.array(np.where(distances < cutoff))\n",
    "    res=np.array(zip(true_res[0], true_res[1]))\n",
    "    res=res[res[:,0]<res[:,1], :]\n",
    "    return res"
   ]
  },
  {
   "cell_type": "code",
   "execution_count": 10,
   "metadata": {
    "ExecuteTime": {
     "end_time": "2017-02-25T23:02:21.399419",
     "start_time": "2017-02-25T23:02:21.393883"
    },
    "collapsed": true
   },
   "outputs": [],
   "source": [
    "atoms = np.load(\"../132k_dataset/atom_pos_132K.npy\")\n",
    "atoms = atoms[:50000]"
   ]
  },
  {
   "cell_type": "code",
   "execution_count": 11,
   "metadata": {
    "ExecuteTime": {
     "end_time": "2017-02-25T23:04:39.662474",
     "start_time": "2017-02-25T23:02:22.497839"
    },
    "collapsed": false,
    "run_control": {
     "frozen": false,
     "read_only": false
    }
   },
   "outputs": [
    {
     "name": "stdout",
     "output_type": "stream",
     "text": [
      "CPU times: user 27.1 s, sys: 41.9 s, total: 1min 8s\n",
      "Wall time: 2min 17s\n"
     ]
    }
   ],
   "source": [
    "%%time\n",
    "res_cdist=pairwise_distance_cdist(atoms)"
   ]
  },
  {
   "cell_type": "code",
   "execution_count": 12,
   "metadata": {
    "ExecuteTime": {
     "end_time": "2017-02-25T23:04:41.546898",
     "start_time": "2017-02-25T23:04:39.669085"
    },
    "collapsed": false,
    "run_control": {
     "frozen": false,
     "read_only": false
    }
   },
   "outputs": [
    {
     "name": "stdout",
     "output_type": "stream",
     "text": [
      "CPU times: user 1.68 s, sys: 164 ms, total: 1.84 s\n",
      "Wall time: 1.87 s\n"
     ]
    }
   ],
   "source": [
    "%%time\n",
    "res_tree=pairwise_distance_tree(atoms)"
   ]
  },
  {
   "cell_type": "code",
   "execution_count": 13,
   "metadata": {
    "ExecuteTime": {
     "end_time": "2017-02-25T23:04:41.561955",
     "start_time": "2017-02-25T23:04:41.548497"
    },
    "collapsed": false
   },
   "outputs": [
    {
     "data": {
      "text/plain": [
       "290917"
      ]
     },
     "execution_count": 13,
     "metadata": {},
     "output_type": "execute_result"
    }
   ],
   "source": [
    "len(res_tree)"
   ]
  },
  {
   "cell_type": "code",
   "execution_count": 14,
   "metadata": {
    "ExecuteTime": {
     "end_time": "2017-02-25T23:04:41.568642",
     "start_time": "2017-02-25T23:04:41.563843"
    },
    "collapsed": false
   },
   "outputs": [
    {
     "data": {
      "text/plain": [
       "290917"
      ]
     },
     "execution_count": 14,
     "metadata": {},
     "output_type": "execute_result"
    }
   ],
   "source": [
    "len(res_cdist)"
   ]
  },
  {
   "cell_type": "code",
   "execution_count": 15,
   "metadata": {
    "ExecuteTime": {
     "end_time": "2017-02-25T23:04:41.580082",
     "start_time": "2017-02-25T23:04:41.570803"
    },
    "collapsed": false
   },
   "outputs": [
    {
     "data": {
      "text/plain": [
       "array([[ 0, 11],\n",
       "       [ 0,  8],\n",
       "       [ 0,  4],\n",
       "       [ 0, 32],\n",
       "       [ 0,  7]])"
      ]
     },
     "execution_count": 15,
     "metadata": {},
     "output_type": "execute_result"
    }
   ],
   "source": [
    "res_tree[:5]"
   ]
  },
  {
   "cell_type": "code",
   "execution_count": 16,
   "metadata": {
    "ExecuteTime": {
     "end_time": "2017-02-25T23:04:41.590452",
     "start_time": "2017-02-25T23:04:41.581970"
    },
    "collapsed": false
   },
   "outputs": [
    {
     "data": {
      "text/plain": [
       "array([[0, 4],\n",
       "       [0, 5],\n",
       "       [0, 6],\n",
       "       [0, 7],\n",
       "       [0, 8]])"
      ]
     },
     "execution_count": 16,
     "metadata": {},
     "output_type": "execute_result"
    }
   ],
   "source": [
    "res_cdist[:5]"
   ]
  },
  {
   "cell_type": "code",
   "execution_count": 19,
   "metadata": {
    "ExecuteTime": {
     "end_time": "2017-02-25T23:06:16.647816",
     "start_time": "2017-02-25T23:06:14.528175"
    },
    "collapsed": false
   },
   "outputs": [],
   "source": [
    "g1=nx.from_edgelist(res_tree)\n",
    "g2=nx.from_edgelist(res_cdist)"
   ]
  },
  {
   "cell_type": "code",
   "execution_count": 25,
   "metadata": {
    "ExecuteTime": {
     "end_time": "2017-02-25T23:08:01.104387",
     "start_time": "2017-02-25T23:08:00.310519"
    },
    "collapsed": false
   },
   "outputs": [
    {
     "data": {
      "text/plain": [
       "[]"
      ]
     },
     "execution_count": 25,
     "metadata": {},
     "output_type": "execute_result"
    }
   ],
   "source": [
    "nx.difference(g1, g2).edges()"
   ]
  },
  {
   "cell_type": "code",
   "execution_count": null,
   "metadata": {
    "ExecuteTime": {
     "start_time": "2017-02-26T09:51:56.443Z"
    },
    "collapsed": false
   },
   "outputs": [
    {
     "name": "stdout",
     "output_type": "stream",
     "text": [
      "BallTree, MBP, 10000, 0.2709\n",
      "KDTree, MBP, 10000, 0.2299\n",
      "cdist, MBP, 10000, 1.1918\n",
      "BallTree, MBP, 20000, 0.5060\n",
      "KDTree, MBP, 20000, 0.5134\n",
      "cdist, MBP, 20000, 4.3979\n",
      "BallTree, MBP, 40000, 1.0088\n",
      "KDTree, MBP, 40000, 1.8102\n"
     ]
    }
   ],
   "source": [
    "for i in range(10):\n",
    "    atoms = np.load(\"../840K_dataset/atom_pos_839K.npy\")\n",
    "    for n in [10000, 20000, 40000, 80000, 160000, 320000, 640000, 839000]:\n",
    "        a = atoms[:n]\n",
    "        start = time.time()\n",
    "        res=pairwise_distance_balltree(a)\n",
    "        end = time.time()\n",
    "        print (\"BallTree, MBP, %d, %.4f\"%(n, end-start))\n",
    "        start = time.time()\n",
    "        res=pairwise_distance_tree(a)\n",
    "        end = time.time()\n",
    "        print (\"KDTree, MBP, %d, %.4f\"%(n, end-start))\n",
    "        if n<=50000:\n",
    "            start = time.time()\n",
    "            res=pairwise_distance_cdist(a)\n",
    "            end = time.time()\n",
    "            print (\"cdist, MBP, %d, %.4f\"%(n, end-start))       "
   ]
  },
  {
   "cell_type": "code",
   "execution_count": 30,
   "metadata": {
    "ExecuteTime": {
     "end_time": "2017-02-25T23:11:49.193243",
     "start_time": "2017-02-25T23:11:49.068057"
    },
    "collapsed": false
   },
   "outputs": [
    {
     "name": "stdout",
     "output_type": "stream",
     "text": [
      "atom_pos_839K.npy\r\n"
     ]
    }
   ],
   "source": [
    "!ls ../840K_dataset "
   ]
  },
  {
   "cell_type": "code",
   "execution_count": null,
   "metadata": {
    "collapsed": true
   },
   "outputs": [],
   "source": []
  }
 ],
 "metadata": {
  "kernelspec": {
   "display_name": "Python 2",
   "language": "python",
   "name": "python2"
  },
  "language_info": {
   "codemirror_mode": {
    "name": "ipython",
    "version": 2
   },
   "file_extension": ".py",
   "mimetype": "text/x-python",
   "name": "python",
   "nbconvert_exporter": "python",
   "pygments_lexer": "ipython2",
   "version": "2.7.13"
  },
  "toc": {
   "toc_cell": false,
   "toc_number_sections": true,
   "toc_threshold": 6,
   "toc_window_display": false
  }
 },
 "nbformat": 4,
 "nbformat_minor": 2
}
