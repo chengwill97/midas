{
 "cells": [
  {
   "cell_type": "code",
   "execution_count": 43,
   "metadata": {
    "ExecuteTime": {
     "end_time": "2017-02-26T10:51:24.525617",
     "start_time": "2017-02-26T10:51:24.519989"
    },
    "collapsed": false,
    "run_control": {
     "frozen": false,
     "read_only": false
    }
   },
   "outputs": [],
   "source": [
    "from rtree import index\n",
    "from sklearn.neighbors import NearestNeighbors, BallTree, KDTree\n",
    "import numpy as np\n",
    "import networkx as nx\n",
    "import sys, os\n",
    "from scipy.spatial.distance import cdist\n",
    "import time"
   ]
  },
  {
   "cell_type": "code",
   "execution_count": 44,
   "metadata": {
    "ExecuteTime": {
     "end_time": "2017-02-26T10:51:26.209297",
     "start_time": "2017-02-26T10:51:26.203314"
    },
    "collapsed": false,
    "run_control": {
     "frozen": false,
     "read_only": false
    }
   },
   "outputs": [],
   "source": [
    "#from multiprocessing.pool import ThreadPool\n",
    "RESULT_DIR=\"results\"\n",
    "RESULT_FILE_PREFIX=\"tree-pair-distance-\"\n",
    "HEADER_CSV=\"Scenario, Type, Time\"\n",
    "#BASE_DIRECTORY=os.getcwd()\n",
    "# Dask has issues with NFS home directory on Comet\n",
    "# BASE_DIRECTORY='/scratch/luckow/7146882'\n",
    "BASE_DIRECTORY='/oasis/scratch/comet/luckow/temp_project'\n",
    "#BASE_DIRECTORY='/scratch/luckow/7218009/'\n",
    "OUT_DIR=os.path.join(BASE_DIRECTORY, \"npy_stack\")\n",
    "RESULT_DIR=os.path.join(BASE_DIRECTORY, \"results\")\n",
    "\n",
    "FILENAMES=[\"../132k_dataset/atom_pos_132K.npy\", \"../145K_dataset/atom_pos_145K.npy\", \n",
    "          \"../300K_dataset/atom_pos_291K.npy\", '../840K_dataset/atom_pos_839K.npy']"
   ]
  },
  {
   "cell_type": "markdown",
   "metadata": {
    "ExecuteTime": {
     "end_time": "2017-02-25T15:02:50.649059",
     "start_time": "2017-02-25T15:02:50.645519"
    }
   },
   "source": [
    "# Dummy Data and Scikit"
   ]
  },
  {
   "cell_type": "code",
   "execution_count": 3,
   "metadata": {
    "ExecuteTime": {
     "end_time": "2017-02-25T19:01:02.276608",
     "start_time": "2017-02-25T19:01:02.273398"
    },
    "collapsed": false,
    "run_control": {
     "frozen": false,
     "read_only": false
    }
   },
   "outputs": [],
   "source": [
    "number_points = 10\n",
    "points_local_np = np.arange(number_points*3).reshape(number_points,3)"
   ]
  },
  {
   "cell_type": "code",
   "execution_count": 40,
   "metadata": {
    "ExecuteTime": {
     "end_time": "2017-02-26T10:51:21.228023",
     "start_time": "2017-02-26T10:51:21.216965"
    },
    "collapsed": false,
    "run_control": {
     "frozen": false,
     "read_only": false
    }
   },
   "outputs": [],
   "source": [
    "def pairwise_distance_balltree(points_np):\n",
    "    tree = BallTree(points_np, leaf_size=40)\n",
    "    edges = tree.query_radius(points_np, 15.0)\n",
    "    edge_list=[list(zip(np.repeat(idx, len(dest_list)), dest_list)) for idx, dest_list in enumerate(edges)]\n",
    "    edge_list_flat = np.array([list(item) for sublist in edge_list for item in sublist])\n",
    "    res = edge_list_flat\n",
    "    res=edge_list_flat[edge_list_flat[:,0]<edge_list_flat[:,1], :] \n",
    "    return res"
   ]
  },
  {
   "cell_type": "code",
   "execution_count": 41,
   "metadata": {
    "ExecuteTime": {
     "end_time": "2017-02-26T10:51:21.786129",
     "start_time": "2017-02-26T10:51:21.779255"
    },
    "collapsed": true
   },
   "outputs": [],
   "source": [
    "def pairwise_distance_kdtree(points_np):\n",
    "    tree = KDTree(points_np, leaf_size=40)\n",
    "    edges = tree.query_radius(points_np, 15.0)\n",
    "    edge_list=[list(zip(np.repeat(idx, len(dest_list)), dest_list)) for idx, dest_list in enumerate(edges)]\n",
    "    edge_list_flat = np.array([list(item) for sublist in edge_list for item in sublist])\n",
    "    res = edge_list_flat\n",
    "    res=edge_list_flat[edge_list_flat[:,0]<edge_list_flat[:,1], :] \n",
    "    return res"
   ]
  },
  {
   "cell_type": "code",
   "execution_count": 42,
   "metadata": {
    "ExecuteTime": {
     "end_time": "2017-02-26T10:51:22.405435",
     "start_time": "2017-02-26T10:51:22.399762"
    },
    "collapsed": true,
    "run_control": {
     "frozen": false,
     "read_only": false
    }
   },
   "outputs": [],
   "source": [
    "def pairwise_distance_cdist(points_np, cutoff=15.0):\n",
    "    distances = cdist(points_np, points_np)\n",
    "    true_res = np.array(np.where(distances < cutoff))\n",
    "    res=np.array(zip(true_res[0], true_res[1]))\n",
    "    res=res[res[:,0]<res[:,1], :]\n",
    "    return res"
   ]
  },
  {
   "cell_type": "code",
   "execution_count": 46,
   "metadata": {
    "ExecuteTime": {
     "end_time": "2017-02-26T13:22:18.505273",
     "start_time": "2017-02-26T13:22:18.487576"
    },
    "collapsed": true
   },
   "outputs": [],
   "source": [
    "atoms = np.load(\"../132k_dataset/atom_pos_132K.npy\")\n",
    "atoms = atoms[:50000]"
   ]
  },
  {
   "cell_type": "code",
   "execution_count": 47,
   "metadata": {
    "ExecuteTime": {
     "end_time": "2017-02-26T13:24:37.453715",
     "start_time": "2017-02-26T13:22:19.404355"
    },
    "collapsed": false,
    "run_control": {
     "frozen": false,
     "read_only": false
    }
   },
   "outputs": [
    {
     "ename": "KeyboardInterrupt",
     "evalue": "",
     "output_type": "error",
     "traceback": [
      "\u001b[0;31m------------------------------------------------------------------\u001b[0m",
      "\u001b[0;31mKeyboardInterrupt\u001b[0m                Traceback (most recent call last)",
      "\u001b[0;32m<ipython-input-47-7e1b99589249>\u001b[0m in \u001b[0;36m<module>\u001b[0;34m()\u001b[0m\n\u001b[0;32m----> 1\u001b[0;31m \u001b[0mget_ipython\u001b[0m\u001b[0;34m(\u001b[0m\u001b[0;34m)\u001b[0m\u001b[0;34m.\u001b[0m\u001b[0mrun_cell_magic\u001b[0m\u001b[0;34m(\u001b[0m\u001b[0;34mu'time'\u001b[0m\u001b[0;34m,\u001b[0m \u001b[0;34mu''\u001b[0m\u001b[0;34m,\u001b[0m \u001b[0;34mu'res_cdist=pairwise_distance_cdist(atoms)'\u001b[0m\u001b[0;34m)\u001b[0m\u001b[0;34m\u001b[0m\u001b[0m\n\u001b[0m",
      "\u001b[0;32m/Users/q224516/anaconda2/lib/python2.7/site-packages/IPython/core/interactiveshell.pyc\u001b[0m in \u001b[0;36mrun_cell_magic\u001b[0;34m(self, magic_name, line, cell)\u001b[0m\n\u001b[1;32m   2113\u001b[0m             \u001b[0mmagic_arg_s\u001b[0m \u001b[0;34m=\u001b[0m \u001b[0mself\u001b[0m\u001b[0;34m.\u001b[0m\u001b[0mvar_expand\u001b[0m\u001b[0;34m(\u001b[0m\u001b[0mline\u001b[0m\u001b[0;34m,\u001b[0m \u001b[0mstack_depth\u001b[0m\u001b[0;34m)\u001b[0m\u001b[0;34m\u001b[0m\u001b[0m\n\u001b[1;32m   2114\u001b[0m             \u001b[0;32mwith\u001b[0m \u001b[0mself\u001b[0m\u001b[0;34m.\u001b[0m\u001b[0mbuiltin_trap\u001b[0m\u001b[0;34m:\u001b[0m\u001b[0;34m\u001b[0m\u001b[0m\n\u001b[0;32m-> 2115\u001b[0;31m                 \u001b[0mresult\u001b[0m \u001b[0;34m=\u001b[0m \u001b[0mfn\u001b[0m\u001b[0;34m(\u001b[0m\u001b[0mmagic_arg_s\u001b[0m\u001b[0;34m,\u001b[0m \u001b[0mcell\u001b[0m\u001b[0;34m)\u001b[0m\u001b[0;34m\u001b[0m\u001b[0m\n\u001b[0m\u001b[1;32m   2116\u001b[0m             \u001b[0;32mreturn\u001b[0m \u001b[0mresult\u001b[0m\u001b[0;34m\u001b[0m\u001b[0m\n\u001b[1;32m   2117\u001b[0m \u001b[0;34m\u001b[0m\u001b[0m\n",
      "\u001b[0;32m<decorator-gen-59>\u001b[0m in \u001b[0;36mtime\u001b[0;34m(self, line, cell, local_ns)\u001b[0m\n",
      "\u001b[0;32m/Users/q224516/anaconda2/lib/python2.7/site-packages/IPython/core/magic.pyc\u001b[0m in \u001b[0;36m<lambda>\u001b[0;34m(f, *a, **k)\u001b[0m\n\u001b[1;32m    186\u001b[0m     \u001b[0;31m# but it's overkill for just that one bit of state.\u001b[0m\u001b[0;34m\u001b[0m\u001b[0;34m\u001b[0m\u001b[0m\n\u001b[1;32m    187\u001b[0m     \u001b[0;32mdef\u001b[0m \u001b[0mmagic_deco\u001b[0m\u001b[0;34m(\u001b[0m\u001b[0marg\u001b[0m\u001b[0;34m)\u001b[0m\u001b[0;34m:\u001b[0m\u001b[0;34m\u001b[0m\u001b[0m\n\u001b[0;32m--> 188\u001b[0;31m         \u001b[0mcall\u001b[0m \u001b[0;34m=\u001b[0m \u001b[0;32mlambda\u001b[0m \u001b[0mf\u001b[0m\u001b[0;34m,\u001b[0m \u001b[0;34m*\u001b[0m\u001b[0ma\u001b[0m\u001b[0;34m,\u001b[0m \u001b[0;34m**\u001b[0m\u001b[0mk\u001b[0m\u001b[0;34m:\u001b[0m \u001b[0mf\u001b[0m\u001b[0;34m(\u001b[0m\u001b[0;34m*\u001b[0m\u001b[0ma\u001b[0m\u001b[0;34m,\u001b[0m \u001b[0;34m**\u001b[0m\u001b[0mk\u001b[0m\u001b[0;34m)\u001b[0m\u001b[0;34m\u001b[0m\u001b[0m\n\u001b[0m\u001b[1;32m    189\u001b[0m \u001b[0;34m\u001b[0m\u001b[0m\n\u001b[1;32m    190\u001b[0m         \u001b[0;32mif\u001b[0m \u001b[0mcallable\u001b[0m\u001b[0;34m(\u001b[0m\u001b[0marg\u001b[0m\u001b[0;34m)\u001b[0m\u001b[0;34m:\u001b[0m\u001b[0;34m\u001b[0m\u001b[0m\n",
      "\u001b[0;32m/Users/q224516/anaconda2/lib/python2.7/site-packages/IPython/core/magics/execution.pyc\u001b[0m in \u001b[0;36mtime\u001b[0;34m(self, line, cell, local_ns)\u001b[0m\n\u001b[1;32m   1183\u001b[0m         \u001b[0;32melse\u001b[0m\u001b[0;34m:\u001b[0m\u001b[0;34m\u001b[0m\u001b[0m\n\u001b[1;32m   1184\u001b[0m             \u001b[0mst\u001b[0m \u001b[0;34m=\u001b[0m \u001b[0mclock2\u001b[0m\u001b[0;34m(\u001b[0m\u001b[0;34m)\u001b[0m\u001b[0;34m\u001b[0m\u001b[0m\n\u001b[0;32m-> 1185\u001b[0;31m             \u001b[0;32mexec\u001b[0m\u001b[0;34m(\u001b[0m\u001b[0mcode\u001b[0m\u001b[0;34m,\u001b[0m \u001b[0mglob\u001b[0m\u001b[0;34m,\u001b[0m \u001b[0mlocal_ns\u001b[0m\u001b[0;34m)\u001b[0m\u001b[0;34m\u001b[0m\u001b[0m\n\u001b[0m\u001b[1;32m   1186\u001b[0m             \u001b[0mend\u001b[0m \u001b[0;34m=\u001b[0m \u001b[0mclock2\u001b[0m\u001b[0;34m(\u001b[0m\u001b[0;34m)\u001b[0m\u001b[0;34m\u001b[0m\u001b[0m\n\u001b[1;32m   1187\u001b[0m             \u001b[0mout\u001b[0m \u001b[0;34m=\u001b[0m \u001b[0mNone\u001b[0m\u001b[0;34m\u001b[0m\u001b[0m\n",
      "\u001b[0;32m<timed exec>\u001b[0m in \u001b[0;36m<module>\u001b[0;34m()\u001b[0m\n",
      "\u001b[0;32m<ipython-input-42-067d9e32e180>\u001b[0m in \u001b[0;36mpairwise_distance_cdist\u001b[0;34m(points_np, cutoff)\u001b[0m\n\u001b[1;32m      1\u001b[0m \u001b[0;32mdef\u001b[0m \u001b[0mpairwise_distance_cdist\u001b[0m\u001b[0;34m(\u001b[0m\u001b[0mpoints_np\u001b[0m\u001b[0;34m,\u001b[0m \u001b[0mcutoff\u001b[0m\u001b[0;34m=\u001b[0m\u001b[0;36m15.0\u001b[0m\u001b[0;34m)\u001b[0m\u001b[0;34m:\u001b[0m\u001b[0;34m\u001b[0m\u001b[0m\n\u001b[1;32m      2\u001b[0m     \u001b[0mdistances\u001b[0m \u001b[0;34m=\u001b[0m \u001b[0mcdist\u001b[0m\u001b[0;34m(\u001b[0m\u001b[0mpoints_np\u001b[0m\u001b[0;34m,\u001b[0m \u001b[0mpoints_np\u001b[0m\u001b[0;34m)\u001b[0m\u001b[0;34m\u001b[0m\u001b[0m\n\u001b[0;32m----> 3\u001b[0;31m     \u001b[0mtrue_res\u001b[0m \u001b[0;34m=\u001b[0m \u001b[0mnp\u001b[0m\u001b[0;34m.\u001b[0m\u001b[0marray\u001b[0m\u001b[0;34m(\u001b[0m\u001b[0mnp\u001b[0m\u001b[0;34m.\u001b[0m\u001b[0mwhere\u001b[0m\u001b[0;34m(\u001b[0m\u001b[0mdistances\u001b[0m \u001b[0;34m<\u001b[0m \u001b[0mcutoff\u001b[0m\u001b[0;34m)\u001b[0m\u001b[0;34m)\u001b[0m\u001b[0;34m\u001b[0m\u001b[0m\n\u001b[0m\u001b[1;32m      4\u001b[0m     \u001b[0mres\u001b[0m\u001b[0;34m=\u001b[0m\u001b[0mnp\u001b[0m\u001b[0;34m.\u001b[0m\u001b[0marray\u001b[0m\u001b[0;34m(\u001b[0m\u001b[0mzip\u001b[0m\u001b[0;34m(\u001b[0m\u001b[0mtrue_res\u001b[0m\u001b[0;34m[\u001b[0m\u001b[0;36m0\u001b[0m\u001b[0;34m]\u001b[0m\u001b[0;34m,\u001b[0m \u001b[0mtrue_res\u001b[0m\u001b[0;34m[\u001b[0m\u001b[0;36m1\u001b[0m\u001b[0;34m]\u001b[0m\u001b[0;34m)\u001b[0m\u001b[0;34m)\u001b[0m\u001b[0;34m\u001b[0m\u001b[0m\n\u001b[1;32m      5\u001b[0m     \u001b[0mres\u001b[0m\u001b[0;34m=\u001b[0m\u001b[0mres\u001b[0m\u001b[0;34m[\u001b[0m\u001b[0mres\u001b[0m\u001b[0;34m[\u001b[0m\u001b[0;34m:\u001b[0m\u001b[0;34m,\u001b[0m\u001b[0;36m0\u001b[0m\u001b[0;34m]\u001b[0m\u001b[0;34m<\u001b[0m\u001b[0mres\u001b[0m\u001b[0;34m[\u001b[0m\u001b[0;34m:\u001b[0m\u001b[0;34m,\u001b[0m\u001b[0;36m1\u001b[0m\u001b[0;34m]\u001b[0m\u001b[0;34m,\u001b[0m \u001b[0;34m:\u001b[0m\u001b[0;34m]\u001b[0m\u001b[0;34m\u001b[0m\u001b[0m\n",
      "\u001b[0;31mKeyboardInterrupt\u001b[0m: "
     ]
    }
   ],
   "source": [
    "%%time\n",
    "res_cdist=pairwise_distance_cdist(atoms)"
   ]
  },
  {
   "cell_type": "code",
   "execution_count": null,
   "metadata": {
    "ExecuteTime": {
     "end_time": "2017-02-26T13:24:37.458810",
     "start_time": "2017-02-26T12:22:21.369Z"
    },
    "collapsed": false,
    "run_control": {
     "frozen": false,
     "read_only": false
    }
   },
   "outputs": [],
   "source": [
    "%%time\n",
    "res_tree=pairwise_distance_tree(atoms)"
   ]
  },
  {
   "cell_type": "code",
   "execution_count": null,
   "metadata": {
    "ExecuteTime": {
     "end_time": "2017-02-26T13:24:37.461069",
     "start_time": "2017-02-26T12:22:22.233Z"
    },
    "collapsed": false
   },
   "outputs": [],
   "source": [
    "len(res_tree)"
   ]
  },
  {
   "cell_type": "code",
   "execution_count": null,
   "metadata": {
    "ExecuteTime": {
     "end_time": "2017-02-26T13:24:37.466943",
     "start_time": "2017-02-26T12:22:22.686Z"
    },
    "collapsed": false
   },
   "outputs": [],
   "source": [
    "len(res_cdist)"
   ]
  },
  {
   "cell_type": "code",
   "execution_count": null,
   "metadata": {
    "ExecuteTime": {
     "end_time": "2017-02-26T13:24:37.467353",
     "start_time": "2017-02-26T12:22:23.135Z"
    },
    "collapsed": false
   },
   "outputs": [],
   "source": [
    "res_tree[:5]"
   ]
  },
  {
   "cell_type": "code",
   "execution_count": null,
   "metadata": {
    "ExecuteTime": {
     "end_time": "2017-02-26T13:24:37.469570",
     "start_time": "2017-02-26T12:22:23.683Z"
    },
    "collapsed": false
   },
   "outputs": [],
   "source": [
    "res_cdist[:5]"
   ]
  },
  {
   "cell_type": "code",
   "execution_count": 19,
   "metadata": {
    "ExecuteTime": {
     "end_time": "2017-02-25T23:06:16.647816",
     "start_time": "2017-02-25T23:06:14.528175"
    },
    "collapsed": false
   },
   "outputs": [],
   "source": [
    "g1=nx.from_edgelist(res_tree)\n",
    "g2=nx.from_edgelist(res_cdist)"
   ]
  },
  {
   "cell_type": "code",
   "execution_count": 25,
   "metadata": {
    "ExecuteTime": {
     "end_time": "2017-02-25T23:08:01.104387",
     "start_time": "2017-02-25T23:08:00.310519"
    },
    "collapsed": false
   },
   "outputs": [
    {
     "data": {
      "text/plain": [
       "[]"
      ]
     },
     "execution_count": 25,
     "metadata": {},
     "output_type": "execute_result"
    }
   ],
   "source": [
    "nx.difference(g1, g2).edges()"
   ]
  },
  {
   "cell_type": "code",
   "execution_count": 45,
   "metadata": {
    "ExecuteTime": {
     "end_time": "2017-02-26T11:45:30.600650",
     "start_time": "2017-02-26T10:51:56.444962"
    },
    "collapsed": false
   },
   "outputs": [
    {
     "name": "stdout",
     "output_type": "stream",
     "text": [
      "BallTree, MBP, 10000, 0.2709\n",
      "KDTree, MBP, 10000, 0.2299\n",
      "cdist, MBP, 10000, 1.1918\n",
      "BallTree, MBP, 20000, 0.5060\n",
      "KDTree, MBP, 20000, 0.5134\n",
      "cdist, MBP, 20000, 4.3979\n",
      "BallTree, MBP, 40000, 1.0088\n",
      "KDTree, MBP, 40000, 1.8102\n",
      "cdist, MBP, 40000, 82.2562\n",
      "BallTree, MBP, 80000, 5.4268\n",
      "KDTree, MBP, 80000, 4.9246\n",
      "BallTree, MBP, 160000, 7.4169\n",
      "KDTree, MBP, 160000, 9.1029\n",
      "BallTree, MBP, 320000, 17.0483\n",
      "KDTree, MBP, 320000, 15.4173\n",
      "BallTree, MBP, 640000, 39.1077\n",
      "KDTree, MBP, 640000, 41.1997\n",
      "BallTree, MBP, 839000, 57.6504\n",
      "KDTree, MBP, 839000, 59.1428\n",
      "BallTree, MBP, 10000, 0.2405\n",
      "KDTree, MBP, 10000, 0.2480\n",
      "cdist, MBP, 10000, 1.2526\n",
      "BallTree, MBP, 20000, 0.5209\n",
      "KDTree, MBP, 20000, 0.5209\n",
      "cdist, MBP, 20000, 5.2524\n",
      "BallTree, MBP, 40000, 2.0861\n",
      "KDTree, MBP, 40000, 2.7132\n",
      "cdist, MBP, 40000, 66.7035\n",
      "BallTree, MBP, 80000, 6.2341\n",
      "KDTree, MBP, 80000, 3.6110\n",
      "BallTree, MBP, 160000, 8.9416\n",
      "KDTree, MBP, 160000, 9.2471\n",
      "BallTree, MBP, 320000, 17.8004\n",
      "KDTree, MBP, 320000, 14.5516\n",
      "BallTree, MBP, 640000, 40.6775\n",
      "KDTree, MBP, 640000, 38.9991\n",
      "BallTree, MBP, 839000, 55.4176\n",
      "KDTree, MBP, 839000, 68.0973\n",
      "BallTree, MBP, 10000, 0.2654\n",
      "KDTree, MBP, 10000, 0.2678\n",
      "cdist, MBP, 10000, 1.3055\n",
      "BallTree, MBP, 20000, 0.5346\n",
      "KDTree, MBP, 20000, 0.5730\n",
      "cdist, MBP, 20000, 5.0822\n",
      "BallTree, MBP, 40000, 1.0908\n",
      "KDTree, MBP, 40000, 2.2258\n",
      "cdist, MBP, 40000, 70.1183\n",
      "BallTree, MBP, 80000, 5.8271\n",
      "KDTree, MBP, 80000, 4.7016\n",
      "BallTree, MBP, 160000, 8.3219\n",
      "KDTree, MBP, 160000, 7.1280\n",
      "BallTree, MBP, 320000, 16.0399\n",
      "KDTree, MBP, 320000, 16.2917\n",
      "BallTree, MBP, 640000, 40.0873\n",
      "KDTree, MBP, 640000, 35.6884\n",
      "BallTree, MBP, 839000, 52.6258\n",
      "KDTree, MBP, 839000, 47.2748\n",
      "BallTree, MBP, 10000, 0.6638\n",
      "KDTree, MBP, 10000, 0.7411\n",
      "cdist, MBP, 10000, 1.1359\n",
      "BallTree, MBP, 20000, 1.5423\n",
      "KDTree, MBP, 20000, 1.0202\n",
      "cdist, MBP, 20000, 4.3426\n",
      "BallTree, MBP, 40000, 2.4152\n",
      "KDTree, MBP, 40000, 2.1090\n",
      "cdist, MBP, 40000, 63.5142\n",
      "BallTree, MBP, 80000, 5.5760\n",
      "KDTree, MBP, 80000, 3.9516\n",
      "BallTree, MBP, 160000, 7.3979\n",
      "KDTree, MBP, 160000, 6.5967\n",
      "BallTree, MBP, 320000, 16.5831\n",
      "KDTree, MBP, 320000, 14.8357\n",
      "BallTree, MBP, 640000, 33.1759\n",
      "KDTree, MBP, 640000, 33.9053\n",
      "BallTree, MBP, 839000, 46.7567\n",
      "KDTree, MBP, 839000, 56.6813\n",
      "BallTree, MBP, 10000, 0.2378\n",
      "KDTree, MBP, 10000, 0.2695\n",
      "cdist, MBP, 10000, 1.3155\n",
      "BallTree, MBP, 20000, 0.5462\n",
      "KDTree, MBP, 20000, 0.5308\n",
      "cdist, MBP, 20000, 4.6734\n",
      "BallTree, MBP, 40000, 1.6627\n",
      "KDTree, MBP, 40000, 2.6997\n",
      "cdist, MBP, 40000, 67.3724\n",
      "BallTree, MBP, 80000, 5.8190\n",
      "KDTree, MBP, 80000, 4.1328\n",
      "BallTree, MBP, 160000, 8.8567\n",
      "KDTree, MBP, 160000, 7.2589\n",
      "BallTree, MBP, 320000, 17.2704\n",
      "KDTree, MBP, 320000, 17.4787\n",
      "BallTree, MBP, 640000, 38.6504\n",
      "KDTree, MBP, 640000, 39.7737\n",
      "BallTree, MBP, 839000, 54.9971\n",
      "KDTree, MBP, 839000, 56.1485\n",
      "BallTree, MBP, 10000, 0.2487\n",
      "KDTree, MBP, 10000, 0.2450\n",
      "cdist, MBP, 10000, 1.3053\n",
      "BallTree, MBP, 20000, 0.5206\n",
      "KDTree, MBP, 20000, 0.5169\n",
      "cdist, MBP, 20000, 4.9465\n",
      "BallTree, MBP, 40000, 1.1352\n",
      "KDTree, MBP, 40000, 1.7004\n",
      "cdist, MBP, 40000, 68.5714\n",
      "BallTree, MBP, 80000, 5.6614\n",
      "KDTree, MBP, 80000, 4.3344\n",
      "BallTree, MBP, 160000, 8.0521\n",
      "KDTree, MBP, 160000, 8.9452\n",
      "BallTree, MBP, 320000, 17.4873\n",
      "KDTree, MBP, 320000, 15.3397\n",
      "BallTree, MBP, 640000, 38.2311\n",
      "KDTree, MBP, 640000, 38.9990\n",
      "BallTree, MBP, 839000, 56.2397\n",
      "KDTree, MBP, 839000, 55.4669\n",
      "BallTree, MBP, 10000, 0.3356\n",
      "KDTree, MBP, 10000, 0.2623\n",
      "cdist, MBP, 10000, 1.3075\n",
      "BallTree, MBP, 20000, 0.5275\n",
      "KDTree, MBP, 20000, 0.5127\n",
      "cdist, MBP, 20000, 4.8200\n",
      "BallTree, MBP, 40000, 1.6230\n",
      "KDTree, MBP, 40000, 2.0622\n",
      "cdist, MBP, 40000, 64.8119\n",
      "BallTree, MBP, 80000, 5.2349\n",
      "KDTree, MBP, 80000, 4.5542\n",
      "BallTree, MBP, 160000, 7.4295\n",
      "KDTree, MBP, 160000, 8.5673\n",
      "BallTree, MBP, 320000, 16.9249\n",
      "KDTree, MBP, 320000, 14.7639\n",
      "BallTree, MBP, 640000, 40.4215\n",
      "KDTree, MBP, 640000, 37.7914\n",
      "BallTree, MBP, 839000, 54.2868\n",
      "KDTree, MBP, 839000, 52.7400\n",
      "BallTree, MBP, 10000, 0.2608\n",
      "KDTree, MBP, 10000, 0.2407\n",
      "cdist, MBP, 10000, 1.2518\n",
      "BallTree, MBP, 20000, 0.5115\n",
      "KDTree, MBP, 20000, 0.5206\n",
      "cdist, MBP, 20000, 4.7849\n",
      "BallTree, MBP, 40000, 2.1848\n",
      "KDTree, MBP, 40000, 2.1796\n",
      "cdist, MBP, 40000, 62.1741\n",
      "BallTree, MBP, 80000, 5.4105\n",
      "KDTree, MBP, 80000, 3.4755\n",
      "BallTree, MBP, 160000, 8.4060\n",
      "KDTree, MBP, 160000, 8.7174\n",
      "BallTree, MBP, 320000, 16.7760\n",
      "KDTree, MBP, 320000, 14.3076\n",
      "BallTree, MBP, 640000, 38.6361\n",
      "KDTree, MBP, 640000, 36.8338\n",
      "BallTree, MBP, 839000, 50.5213\n",
      "KDTree, MBP, 839000, 56.5075\n",
      "BallTree, MBP, 10000, 0.2509\n",
      "KDTree, MBP, 10000, 0.2281\n",
      "cdist, MBP, 10000, 1.1365\n",
      "BallTree, MBP, 20000, 0.4873\n",
      "KDTree, MBP, 20000, 0.5016\n",
      "cdist, MBP, 20000, 4.5176\n",
      "BallTree, MBP, 40000, 1.0303\n",
      "KDTree, MBP, 40000, 1.8799\n",
      "cdist, MBP, 40000, 57.0089\n",
      "BallTree, MBP, 80000, 5.3426\n",
      "KDTree, MBP, 80000, 4.5863\n",
      "BallTree, MBP, 160000, 7.9647\n",
      "KDTree, MBP, 160000, 6.9813\n",
      "BallTree, MBP, 320000, 15.7492\n",
      "KDTree, MBP, 320000, 15.9545\n",
      "BallTree, MBP, 640000, 39.7829\n",
      "KDTree, MBP, 640000, 34.5624\n",
      "BallTree, MBP, 839000, 51.9709\n",
      "KDTree, MBP, 839000, 50.8238\n",
      "BallTree, MBP, 10000, 0.7568\n",
      "KDTree, MBP, 10000, 0.7603\n",
      "cdist, MBP, 10000, 1.4902\n",
      "BallTree, MBP, 20000, 1.5873\n",
      "KDTree, MBP, 20000, 1.0580\n",
      "cdist, MBP, 20000, 4.8597\n",
      "BallTree, MBP, 40000, 2.4563\n",
      "KDTree, MBP, 40000, 2.1780\n",
      "cdist, MBP, 40000, 57.4207\n",
      "BallTree, MBP, 80000, 5.8150\n",
      "KDTree, MBP, 80000, 4.1106\n",
      "BallTree, MBP, 160000, 7.7982\n",
      "KDTree, MBP, 160000, 7.1247\n",
      "BallTree, MBP, 320000, 17.4249\n",
      "KDTree, MBP, 320000, 15.9793\n",
      "BallTree, MBP, 640000, 37.1879\n",
      "KDTree, MBP, 640000, 37.2671\n",
      "BallTree, MBP, 839000, 50.5807\n",
      "KDTree, MBP, 839000, 56.7954\n"
     ]
    }
   ],
   "source": [
    "for i in range(10):\n",
    "    atoms = np.load(\"../840K_dataset/atom_pos_839K.npy\")\n",
    "    for n in [10000, 20000, 40000, 80000, 160000, 320000, 640000, 839000]:\n",
    "        a = atoms[:n]\n",
    "        start = time.time()\n",
    "        res=pairwise_distance_balltree(a)\n",
    "        end = time.time()\n",
    "        print (\"BallTree, MBP, %d, %.4f\"%(n, end-start))\n",
    "        start = time.time()\n",
    "        res=pairwise_distance_tree(a)\n",
    "        end = time.time()\n",
    "        print (\"KDTree, MBP, %d, %.4f\"%(n, end-start))\n",
    "        if n<=50000:\n",
    "            start = time.time()\n",
    "            res=pairwise_distance_cdist(a)\n",
    "            end = time.time()\n",
    "            print (\"cdist, MBP, %d, %.4f\"%(n, end-start))       "
   ]
  },
  {
   "cell_type": "code",
   "execution_count": 30,
   "metadata": {
    "ExecuteTime": {
     "end_time": "2017-02-25T23:11:49.193243",
     "start_time": "2017-02-25T23:11:49.068057"
    },
    "collapsed": false
   },
   "outputs": [
    {
     "name": "stdout",
     "output_type": "stream",
     "text": [
      "atom_pos_839K.npy\r\n"
     ]
    }
   ],
   "source": [
    "!ls ../840K_dataset "
   ]
  },
  {
   "cell_type": "code",
   "execution_count": null,
   "metadata": {
    "collapsed": true
   },
   "outputs": [],
   "source": []
  }
 ],
 "metadata": {
  "kernelspec": {
   "display_name": "Python 2",
   "language": "python",
   "name": "python2"
  },
  "language_info": {
   "codemirror_mode": {
    "name": "ipython",
    "version": 2
   },
   "file_extension": ".py",
   "mimetype": "text/x-python",
   "name": "python",
   "nbconvert_exporter": "python",
   "pygments_lexer": "ipython2",
   "version": "2.7.13"
  },
  "toc": {
   "toc_cell": false,
   "toc_number_sections": true,
   "toc_threshold": 6,
   "toc_window_display": false
  }
 },
 "nbformat": 4,
 "nbformat_minor": 2
}
